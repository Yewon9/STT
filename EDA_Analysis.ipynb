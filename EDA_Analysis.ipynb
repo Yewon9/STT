{
  "nbformat": 4,
  "nbformat_minor": 0,
  "metadata": {
    "colab": {
      "provenance": [],
      "toc_visible": true,
      "authorship_tag": "ABX9TyPojaftpcKG8/fpIXSxyX0w",
      "include_colab_link": true
    },
    "kernelspec": {
      "name": "python3",
      "display_name": "Python 3"
    },
    "language_info": {
      "name": "python"
    }
  },
  "cells": [
    {
      "cell_type": "markdown",
      "metadata": {
        "id": "view-in-github",
        "colab_type": "text"
      },
      "source": [
        "<a href=\"https://colab.research.google.com/github/Yewon9/STT/blob/main/EDA_Analysis.ipynb\" target=\"_parent\"><img src=\"https://colab.research.google.com/assets/colab-badge.svg\" alt=\"Open In Colab\"/></a>"
      ]
    },
    {
      "cell_type": "markdown",
      "source": [
        "# IMPORT"
      ],
      "metadata": {
        "id": "Gm55VhL152nC"
      }
    },
    {
      "cell_type": "code",
      "source": [
        "from google.colab import drive\n",
        "drive.mount('/content/drive')"
      ],
      "metadata": {
        "colab": {
          "base_uri": "https://localhost:8080/"
        },
        "id": "nJYZ0Di46kpz",
        "outputId": "8d975da4-ef37-4a06-9610-2c685f910128"
      },
      "execution_count": 1,
      "outputs": [
        {
          "output_type": "stream",
          "name": "stdout",
          "text": [
            "Mounted at /content/drive\n"
          ]
        }
      ]
    },
    {
      "cell_type": "code",
      "source": [
        "!pip install pydub"
      ],
      "metadata": {
        "colab": {
          "base_uri": "https://localhost:8080/"
        },
        "id": "pP4yfQHi7Ida",
        "outputId": "46b852c1-d2fa-4f3a-c64d-27efa5185c56"
      },
      "execution_count": 2,
      "outputs": [
        {
          "output_type": "stream",
          "name": "stdout",
          "text": [
            "Collecting pydub\n",
            "  Downloading pydub-0.25.1-py2.py3-none-any.whl.metadata (1.4 kB)\n",
            "Downloading pydub-0.25.1-py2.py3-none-any.whl (32 kB)\n",
            "Installing collected packages: pydub\n",
            "Successfully installed pydub-0.25.1\n"
          ]
        }
      ]
    },
    {
      "cell_type": "code",
      "execution_count": 25,
      "metadata": {
        "id": "NpdqNgEn5oJO"
      },
      "outputs": [],
      "source": [
        "import pandas as pd\n",
        "from pydub import AudioSegment\n",
        "from tqdm import tqdm\n",
        "import matplotlib.pyplot as plt\n",
        "import librosa\n",
        "import numpy as np\n",
        "import seaborn as sns\n",
        "import re"
      ]
    },
    {
      "cell_type": "markdown",
      "source": [
        "# 일반 음성 데이터"
      ],
      "metadata": {
        "id": "R63SeJ_t6TQv"
      }
    },
    {
      "cell_type": "code",
      "source": [
        "general = pd.read_csv('general.csv')"
      ],
      "metadata": {
        "id": "-p87CV7b6dE2"
      },
      "execution_count": 4,
      "outputs": []
    },
    {
      "cell_type": "code",
      "source": [
        "general"
      ],
      "metadata": {
        "id": "CpE2pnimEWAR",
        "outputId": "b65f46a1-6062-491f-c057-13e36144eb95",
        "colab": {
          "base_uri": "https://localhost:8080/",
          "height": 424
        }
      },
      "execution_count": 5,
      "outputs": [
        {
          "output_type": "execute_result",
          "data": {
            "text/plain": [
              "                                                    Path  \\\n",
              "0      /content/drive/MyDrive/project/data_aihub/4/5e...   \n",
              "1      /content/drive/MyDrive/project/data_aihub/5_2/...   \n",
              "2      /content/drive/MyDrive/project/data_aihub/4/5e...   \n",
              "3      /content/drive/MyDrive/project/data_aihub/5/5e...   \n",
              "4      /content/drive/MyDrive/project/data_aihub/5_2/...   \n",
              "...                                                  ...   \n",
              "11995  /content/drive/MyDrive/project/data_aihub/4/5e...   \n",
              "11996  /content/drive/MyDrive/project/data_aihub/4/5e...   \n",
              "11997  /content/drive/MyDrive/project/data_aihub/5_2/...   \n",
              "11998  /content/drive/MyDrive/project/data_aihub/5/5e...   \n",
              "11999  /content/drive/MyDrive/project/data_aihub/5_2/...   \n",
              "\n",
              "                                       Text  \n",
              "0         편하게 좋은 곳으로 갔겠지? 응. 힘을 내야되는데 어떡하지.  \n",
              "1      내가 받은 선물이 궁금한거야? 보고싶어? 그래. 나중에 보여줄게.  \n",
              "2                        아직 말씀 안 드렸어. 어떡하지.  \n",
              "3      오늘도 털어놓았더니 마음이 한결 가벼워졌어. 다음에도 또 부탁해.  \n",
              "4                                 그건 나도 몰라.  \n",
              "...                                     ...  \n",
              "11995            3년 전에 동호회 갔었는데 거기서 처음 만났지.  \n",
              "11996                             깜짝 놀랬다니까.  \n",
              "11997         실망스러운건 사과를 억지로 했다는 거야. 상처받았지.  \n",
              "11998                합격자 명단에 이름이 또 없는 거 있지?  \n",
              "11999       당연히 마음에 들지. 내가 평소에 얼마나 갖고싶었던건데.  \n",
              "\n",
              "[12000 rows x 2 columns]"
            ],
            "text/html": [
              "\n",
              "  <div id=\"df-0df59446-745f-4902-8cea-e0b7a270bf72\" class=\"colab-df-container\">\n",
              "    <div>\n",
              "<style scoped>\n",
              "    .dataframe tbody tr th:only-of-type {\n",
              "        vertical-align: middle;\n",
              "    }\n",
              "\n",
              "    .dataframe tbody tr th {\n",
              "        vertical-align: top;\n",
              "    }\n",
              "\n",
              "    .dataframe thead th {\n",
              "        text-align: right;\n",
              "    }\n",
              "</style>\n",
              "<table border=\"1\" class=\"dataframe\">\n",
              "  <thead>\n",
              "    <tr style=\"text-align: right;\">\n",
              "      <th></th>\n",
              "      <th>Path</th>\n",
              "      <th>Text</th>\n",
              "    </tr>\n",
              "  </thead>\n",
              "  <tbody>\n",
              "    <tr>\n",
              "      <th>0</th>\n",
              "      <td>/content/drive/MyDrive/project/data_aihub/4/5e...</td>\n",
              "      <td>편하게 좋은 곳으로 갔겠지? 응. 힘을 내야되는데 어떡하지.</td>\n",
              "    </tr>\n",
              "    <tr>\n",
              "      <th>1</th>\n",
              "      <td>/content/drive/MyDrive/project/data_aihub/5_2/...</td>\n",
              "      <td>내가 받은 선물이 궁금한거야? 보고싶어? 그래. 나중에 보여줄게.</td>\n",
              "    </tr>\n",
              "    <tr>\n",
              "      <th>2</th>\n",
              "      <td>/content/drive/MyDrive/project/data_aihub/4/5e...</td>\n",
              "      <td>아직 말씀 안 드렸어. 어떡하지.</td>\n",
              "    </tr>\n",
              "    <tr>\n",
              "      <th>3</th>\n",
              "      <td>/content/drive/MyDrive/project/data_aihub/5/5e...</td>\n",
              "      <td>오늘도 털어놓았더니 마음이 한결 가벼워졌어. 다음에도 또 부탁해.</td>\n",
              "    </tr>\n",
              "    <tr>\n",
              "      <th>4</th>\n",
              "      <td>/content/drive/MyDrive/project/data_aihub/5_2/...</td>\n",
              "      <td>그건 나도 몰라.</td>\n",
              "    </tr>\n",
              "    <tr>\n",
              "      <th>...</th>\n",
              "      <td>...</td>\n",
              "      <td>...</td>\n",
              "    </tr>\n",
              "    <tr>\n",
              "      <th>11995</th>\n",
              "      <td>/content/drive/MyDrive/project/data_aihub/4/5e...</td>\n",
              "      <td>3년 전에 동호회 갔었는데 거기서 처음 만났지.</td>\n",
              "    </tr>\n",
              "    <tr>\n",
              "      <th>11996</th>\n",
              "      <td>/content/drive/MyDrive/project/data_aihub/4/5e...</td>\n",
              "      <td>깜짝 놀랬다니까.</td>\n",
              "    </tr>\n",
              "    <tr>\n",
              "      <th>11997</th>\n",
              "      <td>/content/drive/MyDrive/project/data_aihub/5_2/...</td>\n",
              "      <td>실망스러운건 사과를 억지로 했다는 거야. 상처받았지.</td>\n",
              "    </tr>\n",
              "    <tr>\n",
              "      <th>11998</th>\n",
              "      <td>/content/drive/MyDrive/project/data_aihub/5/5e...</td>\n",
              "      <td>합격자 명단에 이름이 또 없는 거 있지?</td>\n",
              "    </tr>\n",
              "    <tr>\n",
              "      <th>11999</th>\n",
              "      <td>/content/drive/MyDrive/project/data_aihub/5_2/...</td>\n",
              "      <td>당연히 마음에 들지. 내가 평소에 얼마나 갖고싶었던건데.</td>\n",
              "    </tr>\n",
              "  </tbody>\n",
              "</table>\n",
              "<p>12000 rows × 2 columns</p>\n",
              "</div>\n",
              "    <div class=\"colab-df-buttons\">\n",
              "\n",
              "  <div class=\"colab-df-container\">\n",
              "    <button class=\"colab-df-convert\" onclick=\"convertToInteractive('df-0df59446-745f-4902-8cea-e0b7a270bf72')\"\n",
              "            title=\"Convert this dataframe to an interactive table.\"\n",
              "            style=\"display:none;\">\n",
              "\n",
              "  <svg xmlns=\"http://www.w3.org/2000/svg\" height=\"24px\" viewBox=\"0 -960 960 960\">\n",
              "    <path d=\"M120-120v-720h720v720H120Zm60-500h600v-160H180v160Zm220 220h160v-160H400v160Zm0 220h160v-160H400v160ZM180-400h160v-160H180v160Zm440 0h160v-160H620v160ZM180-180h160v-160H180v160Zm440 0h160v-160H620v160Z\"/>\n",
              "  </svg>\n",
              "    </button>\n",
              "\n",
              "  <style>\n",
              "    .colab-df-container {\n",
              "      display:flex;\n",
              "      gap: 12px;\n",
              "    }\n",
              "\n",
              "    .colab-df-convert {\n",
              "      background-color: #E8F0FE;\n",
              "      border: none;\n",
              "      border-radius: 50%;\n",
              "      cursor: pointer;\n",
              "      display: none;\n",
              "      fill: #1967D2;\n",
              "      height: 32px;\n",
              "      padding: 0 0 0 0;\n",
              "      width: 32px;\n",
              "    }\n",
              "\n",
              "    .colab-df-convert:hover {\n",
              "      background-color: #E2EBFA;\n",
              "      box-shadow: 0px 1px 2px rgba(60, 64, 67, 0.3), 0px 1px 3px 1px rgba(60, 64, 67, 0.15);\n",
              "      fill: #174EA6;\n",
              "    }\n",
              "\n",
              "    .colab-df-buttons div {\n",
              "      margin-bottom: 4px;\n",
              "    }\n",
              "\n",
              "    [theme=dark] .colab-df-convert {\n",
              "      background-color: #3B4455;\n",
              "      fill: #D2E3FC;\n",
              "    }\n",
              "\n",
              "    [theme=dark] .colab-df-convert:hover {\n",
              "      background-color: #434B5C;\n",
              "      box-shadow: 0px 1px 3px 1px rgba(0, 0, 0, 0.15);\n",
              "      filter: drop-shadow(0px 1px 2px rgba(0, 0, 0, 0.3));\n",
              "      fill: #FFFFFF;\n",
              "    }\n",
              "  </style>\n",
              "\n",
              "    <script>\n",
              "      const buttonEl =\n",
              "        document.querySelector('#df-0df59446-745f-4902-8cea-e0b7a270bf72 button.colab-df-convert');\n",
              "      buttonEl.style.display =\n",
              "        google.colab.kernel.accessAllowed ? 'block' : 'none';\n",
              "\n",
              "      async function convertToInteractive(key) {\n",
              "        const element = document.querySelector('#df-0df59446-745f-4902-8cea-e0b7a270bf72');\n",
              "        const dataTable =\n",
              "          await google.colab.kernel.invokeFunction('convertToInteractive',\n",
              "                                                    [key], {});\n",
              "        if (!dataTable) return;\n",
              "\n",
              "        const docLinkHtml = 'Like what you see? Visit the ' +\n",
              "          '<a target=\"_blank\" href=https://colab.research.google.com/notebooks/data_table.ipynb>data table notebook</a>'\n",
              "          + ' to learn more about interactive tables.';\n",
              "        element.innerHTML = '';\n",
              "        dataTable['output_type'] = 'display_data';\n",
              "        await google.colab.output.renderOutput(dataTable, element);\n",
              "        const docLink = document.createElement('div');\n",
              "        docLink.innerHTML = docLinkHtml;\n",
              "        element.appendChild(docLink);\n",
              "      }\n",
              "    </script>\n",
              "  </div>\n",
              "\n",
              "\n",
              "<div id=\"df-3eb5e0f9-052a-45c4-bcb7-c99f957e6a35\">\n",
              "  <button class=\"colab-df-quickchart\" onclick=\"quickchart('df-3eb5e0f9-052a-45c4-bcb7-c99f957e6a35')\"\n",
              "            title=\"Suggest charts\"\n",
              "            style=\"display:none;\">\n",
              "\n",
              "<svg xmlns=\"http://www.w3.org/2000/svg\" height=\"24px\"viewBox=\"0 0 24 24\"\n",
              "     width=\"24px\">\n",
              "    <g>\n",
              "        <path d=\"M19 3H5c-1.1 0-2 .9-2 2v14c0 1.1.9 2 2 2h14c1.1 0 2-.9 2-2V5c0-1.1-.9-2-2-2zM9 17H7v-7h2v7zm4 0h-2V7h2v10zm4 0h-2v-4h2v4z\"/>\n",
              "    </g>\n",
              "</svg>\n",
              "  </button>\n",
              "\n",
              "<style>\n",
              "  .colab-df-quickchart {\n",
              "      --bg-color: #E8F0FE;\n",
              "      --fill-color: #1967D2;\n",
              "      --hover-bg-color: #E2EBFA;\n",
              "      --hover-fill-color: #174EA6;\n",
              "      --disabled-fill-color: #AAA;\n",
              "      --disabled-bg-color: #DDD;\n",
              "  }\n",
              "\n",
              "  [theme=dark] .colab-df-quickchart {\n",
              "      --bg-color: #3B4455;\n",
              "      --fill-color: #D2E3FC;\n",
              "      --hover-bg-color: #434B5C;\n",
              "      --hover-fill-color: #FFFFFF;\n",
              "      --disabled-bg-color: #3B4455;\n",
              "      --disabled-fill-color: #666;\n",
              "  }\n",
              "\n",
              "  .colab-df-quickchart {\n",
              "    background-color: var(--bg-color);\n",
              "    border: none;\n",
              "    border-radius: 50%;\n",
              "    cursor: pointer;\n",
              "    display: none;\n",
              "    fill: var(--fill-color);\n",
              "    height: 32px;\n",
              "    padding: 0;\n",
              "    width: 32px;\n",
              "  }\n",
              "\n",
              "  .colab-df-quickchart:hover {\n",
              "    background-color: var(--hover-bg-color);\n",
              "    box-shadow: 0 1px 2px rgba(60, 64, 67, 0.3), 0 1px 3px 1px rgba(60, 64, 67, 0.15);\n",
              "    fill: var(--button-hover-fill-color);\n",
              "  }\n",
              "\n",
              "  .colab-df-quickchart-complete:disabled,\n",
              "  .colab-df-quickchart-complete:disabled:hover {\n",
              "    background-color: var(--disabled-bg-color);\n",
              "    fill: var(--disabled-fill-color);\n",
              "    box-shadow: none;\n",
              "  }\n",
              "\n",
              "  .colab-df-spinner {\n",
              "    border: 2px solid var(--fill-color);\n",
              "    border-color: transparent;\n",
              "    border-bottom-color: var(--fill-color);\n",
              "    animation:\n",
              "      spin 1s steps(1) infinite;\n",
              "  }\n",
              "\n",
              "  @keyframes spin {\n",
              "    0% {\n",
              "      border-color: transparent;\n",
              "      border-bottom-color: var(--fill-color);\n",
              "      border-left-color: var(--fill-color);\n",
              "    }\n",
              "    20% {\n",
              "      border-color: transparent;\n",
              "      border-left-color: var(--fill-color);\n",
              "      border-top-color: var(--fill-color);\n",
              "    }\n",
              "    30% {\n",
              "      border-color: transparent;\n",
              "      border-left-color: var(--fill-color);\n",
              "      border-top-color: var(--fill-color);\n",
              "      border-right-color: var(--fill-color);\n",
              "    }\n",
              "    40% {\n",
              "      border-color: transparent;\n",
              "      border-right-color: var(--fill-color);\n",
              "      border-top-color: var(--fill-color);\n",
              "    }\n",
              "    60% {\n",
              "      border-color: transparent;\n",
              "      border-right-color: var(--fill-color);\n",
              "    }\n",
              "    80% {\n",
              "      border-color: transparent;\n",
              "      border-right-color: var(--fill-color);\n",
              "      border-bottom-color: var(--fill-color);\n",
              "    }\n",
              "    90% {\n",
              "      border-color: transparent;\n",
              "      border-bottom-color: var(--fill-color);\n",
              "    }\n",
              "  }\n",
              "</style>\n",
              "\n",
              "  <script>\n",
              "    async function quickchart(key) {\n",
              "      const quickchartButtonEl =\n",
              "        document.querySelector('#' + key + ' button');\n",
              "      quickchartButtonEl.disabled = true;  // To prevent multiple clicks.\n",
              "      quickchartButtonEl.classList.add('colab-df-spinner');\n",
              "      try {\n",
              "        const charts = await google.colab.kernel.invokeFunction(\n",
              "            'suggestCharts', [key], {});\n",
              "      } catch (error) {\n",
              "        console.error('Error during call to suggestCharts:', error);\n",
              "      }\n",
              "      quickchartButtonEl.classList.remove('colab-df-spinner');\n",
              "      quickchartButtonEl.classList.add('colab-df-quickchart-complete');\n",
              "    }\n",
              "    (() => {\n",
              "      let quickchartButtonEl =\n",
              "        document.querySelector('#df-3eb5e0f9-052a-45c4-bcb7-c99f957e6a35 button');\n",
              "      quickchartButtonEl.style.display =\n",
              "        google.colab.kernel.accessAllowed ? 'block' : 'none';\n",
              "    })();\n",
              "  </script>\n",
              "</div>\n",
              "\n",
              "  <div id=\"id_f8935210-0099-4542-a785-36ae752f8aa7\">\n",
              "    <style>\n",
              "      .colab-df-generate {\n",
              "        background-color: #E8F0FE;\n",
              "        border: none;\n",
              "        border-radius: 50%;\n",
              "        cursor: pointer;\n",
              "        display: none;\n",
              "        fill: #1967D2;\n",
              "        height: 32px;\n",
              "        padding: 0 0 0 0;\n",
              "        width: 32px;\n",
              "      }\n",
              "\n",
              "      .colab-df-generate:hover {\n",
              "        background-color: #E2EBFA;\n",
              "        box-shadow: 0px 1px 2px rgba(60, 64, 67, 0.3), 0px 1px 3px 1px rgba(60, 64, 67, 0.15);\n",
              "        fill: #174EA6;\n",
              "      }\n",
              "\n",
              "      [theme=dark] .colab-df-generate {\n",
              "        background-color: #3B4455;\n",
              "        fill: #D2E3FC;\n",
              "      }\n",
              "\n",
              "      [theme=dark] .colab-df-generate:hover {\n",
              "        background-color: #434B5C;\n",
              "        box-shadow: 0px 1px 3px 1px rgba(0, 0, 0, 0.15);\n",
              "        filter: drop-shadow(0px 1px 2px rgba(0, 0, 0, 0.3));\n",
              "        fill: #FFFFFF;\n",
              "      }\n",
              "    </style>\n",
              "    <button class=\"colab-df-generate\" onclick=\"generateWithVariable('general')\"\n",
              "            title=\"Generate code using this dataframe.\"\n",
              "            style=\"display:none;\">\n",
              "\n",
              "  <svg xmlns=\"http://www.w3.org/2000/svg\" height=\"24px\"viewBox=\"0 0 24 24\"\n",
              "       width=\"24px\">\n",
              "    <path d=\"M7,19H8.4L18.45,9,17,7.55,7,17.6ZM5,21V16.75L18.45,3.32a2,2,0,0,1,2.83,0l1.4,1.43a1.91,1.91,0,0,1,.58,1.4,1.91,1.91,0,0,1-.58,1.4L9.25,21ZM18.45,9,17,7.55Zm-12,3A5.31,5.31,0,0,0,4.9,8.1,5.31,5.31,0,0,0,1,6.5,5.31,5.31,0,0,0,4.9,4.9,5.31,5.31,0,0,0,6.5,1,5.31,5.31,0,0,0,8.1,4.9,5.31,5.31,0,0,0,12,6.5,5.46,5.46,0,0,0,6.5,12Z\"/>\n",
              "  </svg>\n",
              "    </button>\n",
              "    <script>\n",
              "      (() => {\n",
              "      const buttonEl =\n",
              "        document.querySelector('#id_f8935210-0099-4542-a785-36ae752f8aa7 button.colab-df-generate');\n",
              "      buttonEl.style.display =\n",
              "        google.colab.kernel.accessAllowed ? 'block' : 'none';\n",
              "\n",
              "      buttonEl.onclick = () => {\n",
              "        google.colab.notebook.generateWithVariable('general');\n",
              "      }\n",
              "      })();\n",
              "    </script>\n",
              "  </div>\n",
              "\n",
              "    </div>\n",
              "  </div>\n"
            ],
            "application/vnd.google.colaboratory.intrinsic+json": {
              "type": "dataframe",
              "variable_name": "general",
              "summary": "{\n  \"name\": \"general\",\n  \"rows\": 12000,\n  \"fields\": [\n    {\n      \"column\": \"Path\",\n      \"properties\": {\n        \"dtype\": \"string\",\n        \"num_unique_values\": 12000,\n        \"samples\": [\n          \"/content/drive/MyDrive/project/data_aihub/4/5e38f691ee8206179943d219.wav\",\n          \"/content/drive/MyDrive/project/data_aihub/5_2/5f712396111dfd48d40fd419.wav\",\n          \"/content/drive/MyDrive/project/data_aihub/4/5e3cb2e4dbc4b7182a6aa81d.wav\"\n        ],\n        \"semantic_type\": \"\",\n        \"description\": \"\"\n      }\n    },\n    {\n      \"column\": \"Text\",\n      \"properties\": {\n        \"dtype\": \"string\",\n        \"num_unique_values\": 12000,\n        \"samples\": [\n          \"\\uc0dd\\uac01\\ud574\\ubd10\\uc57c \\ub418\\uaca0\\uc5b4.\",\n          \"\\uc6b0\\ub9ac\\ub3c4 \\ud654\\uc7a5\\uc2e4\\uc774 \\ud658\\uae30\\uad6c\\uac00 \\uc5c6\\uae30\\ub294 \\ud574.\",\n          \"\\uc751, \\uace0\\ub9c8\\uc6cc.\"\n        ],\n        \"semantic_type\": \"\",\n        \"description\": \"\"\n      }\n    }\n  ]\n}"
            }
          },
          "metadata": {},
          "execution_count": 5
        }
      ]
    },
    {
      "cell_type": "markdown",
      "source": [
        "## 데이터 개수 확인"
      ],
      "metadata": {
        "id": "_-3XijEY6bEE"
      }
    },
    {
      "cell_type": "code",
      "source": [
        "print(general.info())"
      ],
      "metadata": {
        "colab": {
          "base_uri": "https://localhost:8080/"
        },
        "id": "5XwHFpTS6UnK",
        "outputId": "687c6a81-9d15-49ff-9a68-d3826ca8b504"
      },
      "execution_count": 6,
      "outputs": [
        {
          "output_type": "stream",
          "name": "stdout",
          "text": [
            "<class 'pandas.core.frame.DataFrame'>\n",
            "RangeIndex: 12000 entries, 0 to 11999\n",
            "Data columns (total 2 columns):\n",
            " #   Column  Non-Null Count  Dtype \n",
            "---  ------  --------------  ----- \n",
            " 0   Path    12000 non-null  object\n",
            " 1   Text    12000 non-null  object\n",
            "dtypes: object(2)\n",
            "memory usage: 187.6+ KB\n",
            "None\n"
          ]
        }
      ]
    },
    {
      "cell_type": "code",
      "source": [
        "print(general.describe())"
      ],
      "metadata": {
        "colab": {
          "base_uri": "https://localhost:8080/"
        },
        "id": "ZGcWXlmU6sv3",
        "outputId": "84998471-fa1e-4848-ef03-aa1faf943033"
      },
      "execution_count": 7,
      "outputs": [
        {
          "output_type": "stream",
          "name": "stdout",
          "text": [
            "                                                     Path  \\\n",
            "count                                               12000   \n",
            "unique                                              12000   \n",
            "top     /content/drive/MyDrive/project/data_aihub/4/5e...   \n",
            "freq                                                    1   \n",
            "\n",
            "                                     Text  \n",
            "count                               12000  \n",
            "unique                              12000  \n",
            "top     편하게 좋은 곳으로 갔겠지? 응. 힘을 내야되는데 어떡하지.  \n",
            "freq                                    1  \n"
          ]
        }
      ]
    },
    {
      "cell_type": "code",
      "source": [
        "missing_text = general[general['Text'] == '']\n",
        "print(f\"빈 텍스트 개수: {len(missing_text)}\")"
      ],
      "metadata": {
        "colab": {
          "base_uri": "https://localhost:8080/"
        },
        "id": "Kyv0FsCz6w2k",
        "outputId": "3106a49d-26b6-45f6-ea33-b88f2848b4a1"
      },
      "execution_count": 8,
      "outputs": [
        {
          "output_type": "stream",
          "name": "stdout",
          "text": [
            "빈 텍스트 개수: 0\n"
          ]
        }
      ]
    },
    {
      "cell_type": "code",
      "source": [
        "duplicate_texts = general['Text'].duplicated().sum()\n",
        "print(f\"중복된 텍스트 개수: {duplicate_texts}\")"
      ],
      "metadata": {
        "colab": {
          "base_uri": "https://localhost:8080/"
        },
        "id": "z4ZzlRWg62w2",
        "outputId": "e053e2a8-b8ef-4cdb-d515-1e0a496cd4a3"
      },
      "execution_count": 9,
      "outputs": [
        {
          "output_type": "stream",
          "name": "stdout",
          "text": [
            "중복된 텍스트 개수: 0\n"
          ]
        }
      ]
    },
    {
      "cell_type": "markdown",
      "source": [
        "## 음성 파일 길이 분석"
      ],
      "metadata": {
        "id": "hE9xQTQK7LCy"
      }
    },
    {
      "cell_type": "code",
      "source": [
        "def get_audio_length(path):\n",
        "  audio = AudioSegment.from_wav(path)\n",
        "  return len(audio) / 1000"
      ],
      "metadata": {
        "id": "YiBiZ-Dy7MpK"
      },
      "execution_count": 10,
      "outputs": []
    },
    {
      "cell_type": "code",
      "source": [
        "general['Audio_Length'] = [get_audio_length(path) for path in tqdm(general['Path'])]"
      ],
      "metadata": {
        "colab": {
          "base_uri": "https://localhost:8080/"
        },
        "id": "SuMgOhdG7VZS",
        "outputId": "1ef624b0-e934-4ddb-d775-9a6dc2046bd3"
      },
      "execution_count": 11,
      "outputs": [
        {
          "output_type": "stream",
          "name": "stderr",
          "text": [
            "100%|██████████| 12000/12000 [1:11:27<00:00,  2.80it/s]\n"
          ]
        }
      ]
    },
    {
      "cell_type": "code",
      "source": [
        "plt.figure(figsize = (10, 6))\n",
        "plt.hist(general['Audio_Length'], bins = 30, color = 'blue', alpha = 0.7)\n",
        "plt.title('Distribution of Audio Lengths')\n",
        "plt.xlabel('Audio Length (seconds)')\n",
        "plt.ylabel('Frequency')\n",
        "plt.show()"
      ],
      "metadata": {
        "id": "xCXw2nkyE-ff",
        "outputId": "9e4d1142-214a-48b3-b5b1-e0fd615a6915",
        "colab": {
          "base_uri": "https://localhost:8080/",
          "height": 564
        }
      },
      "execution_count": 12,
      "outputs": [
        {
          "output_type": "display_data",
          "data": {
            "text/plain": [
              "<Figure size 1000x600 with 1 Axes>"
            ],
            "image/png": "[encoded data removed]"
          },
          "metadata": {}
        }
      ]
    },
    {
      "cell_type": "markdown",
      "source": [
        "## 텍스트 분석"
      ],
      "metadata": {
        "id": "8gTlgSUC8U6I"
      }
    },
    {
      "cell_type": "markdown",
      "source": [
        "### 불필요한 기호 제거"
      ],
      "metadata": {
        "id": "2lVRPwqKDUs-"
      }
    },
    {
      "cell_type": "code",
      "source": [
        "def clean_text(text):\n",
        "    cleaned_text = re.sub(r'[+u/I*]', '', text)\n",
        "    return cleaned_text"
      ],
      "metadata": {
        "id": "o6re5_ksDu12"
      },
      "execution_count": 19,
      "outputs": []
    },
    {
      "cell_type": "code",
      "source": [
        "general['Cleaned_Text'] = general['Text'].apply(clean_text)"
      ],
      "metadata": {
        "id": "E6P8YmllEDLJ"
      },
      "execution_count": 20,
      "outputs": []
    },
    {
      "cell_type": "code",
      "source": [
        "print(general[['Text', 'Cleaned_Text']].head())"
      ],
      "metadata": {
        "id": "1DRHjt6UEExH",
        "outputId": "8512d30c-04fd-49eb-ac3c-e24705a9dd0b",
        "colab": {
          "base_uri": "https://localhost:8080/"
        }
      },
      "execution_count": 21,
      "outputs": [
        {
          "output_type": "stream",
          "name": "stdout",
          "text": [
            "                                   Text                          Cleaned_Text\n",
            "0     편하게 좋은 곳으로 갔겠지? 응. 힘을 내야되는데 어떡하지.     편하게 좋은 곳으로 갔겠지? 응. 힘을 내야되는데 어떡하지.\n",
            "1  내가 받은 선물이 궁금한거야? 보고싶어? 그래. 나중에 보여줄게.  내가 받은 선물이 궁금한거야? 보고싶어? 그래. 나중에 보여줄게.\n",
            "2                    아직 말씀 안 드렸어. 어떡하지.                    아직 말씀 안 드렸어. 어떡하지.\n",
            "3  오늘도 털어놓았더니 마음이 한결 가벼워졌어. 다음에도 또 부탁해.  오늘도 털어놓았더니 마음이 한결 가벼워졌어. 다음에도 또 부탁해.\n",
            "4                             그건 나도 몰라.                             그건 나도 몰라.\n"
          ]
        }
      ]
    },
    {
      "cell_type": "markdown",
      "source": [
        "### 텍스트 길이 분석"
      ],
      "metadata": {
        "id": "rVm_LT6G9gc1"
      }
    },
    {
      "cell_type": "code",
      "source": [
        "general['Text_Length'] = general['Text'].apply(len)"
      ],
      "metadata": {
        "id": "qgTaXlnV8WNS"
      },
      "execution_count": 13,
      "outputs": []
    },
    {
      "cell_type": "code",
      "source": [
        "print(general[['Text', 'Text_Length']].head())"
      ],
      "metadata": {
        "id": "AMiFSoMg9Y4b",
        "outputId": "55e21bf1-4500-4e07-bdbf-45488a60edc9",
        "colab": {
          "base_uri": "https://localhost:8080/"
        }
      },
      "execution_count": 14,
      "outputs": [
        {
          "output_type": "stream",
          "name": "stdout",
          "text": [
            "                                   Text  Text_Length\n",
            "0     편하게 좋은 곳으로 갔겠지? 응. 힘을 내야되는데 어떡하지.           33\n",
            "1  내가 받은 선물이 궁금한거야? 보고싶어? 그래. 나중에 보여줄게.           36\n",
            "2                    아직 말씀 안 드렸어. 어떡하지.           18\n",
            "3  오늘도 털어놓았더니 마음이 한결 가벼워졌어. 다음에도 또 부탁해.           36\n",
            "4                             그건 나도 몰라.            9\n"
          ]
        }
      ]
    },
    {
      "cell_type": "code",
      "source": [
        "plt.figure(figsize = (10, 6))\n",
        "plt.hist(general['Text_Length'], bins = 30, color = 'blue', alpha = 0.7)\n",
        "plt.title('Distribution of Text Lengths')\n",
        "plt.xlabel('Text Length (characters)')\n",
        "plt.ylabel('Frequency')\n",
        "plt.show()"
      ],
      "metadata": {
        "id": "H0oJE0Hi9P_R",
        "outputId": "d80415b1-855c-4be9-e0db-0feb22e0f648",
        "colab": {
          "base_uri": "https://localhost:8080/",
          "height": 564
        }
      },
      "execution_count": 15,
      "outputs": [
        {
          "output_type": "display_data",
          "data": {
            "text/plain": [
              "<Figure size 1000x600 with 1 Axes>"
            ],
            "image/png": "[encoded data removed]"
          },
          "metadata": {}
        }
      ]
    },
    {
      "cell_type": "markdown",
      "source": [
        "### 빈 텍스트 확인"
      ],
      "metadata": {
        "id": "EKWkF9eP9jSi"
      }
    },
    {
      "cell_type": "code",
      "source": [
        "empty_texts = general[general['Text_Length'] == 0]\n",
        "print(f\"빈 텍스트 개수: {len(empty_texts)}\")"
      ],
      "metadata": {
        "id": "Z1wWnmeZ9n5p",
        "outputId": "2944248e-c986-4945-c27a-3f90ef7908f0",
        "colab": {
          "base_uri": "https://localhost:8080/"
        }
      },
      "execution_count": 16,
      "outputs": [
        {
          "output_type": "stream",
          "name": "stdout",
          "text": [
            "빈 텍스트 개수: 0\n"
          ]
        }
      ]
    },
    {
      "cell_type": "markdown",
      "source": [
        "### 중복된 텍스트 확인"
      ],
      "metadata": {
        "id": "CABj34rK9lbp"
      }
    },
    {
      "cell_type": "code",
      "source": [
        "duplicate_texts = general[general['Text'].duplicated()]\n",
        "print(f\"중복된 텍스트 개수: {len(duplicate_texts)}\")"
      ],
      "metadata": {
        "id": "7iM4Sx329sef",
        "outputId": "e362f550-34dd-49c2-ad3b-781187196557",
        "colab": {
          "base_uri": "https://localhost:8080/"
        }
      },
      "execution_count": 17,
      "outputs": [
        {
          "output_type": "stream",
          "name": "stdout",
          "text": [
            "중복된 텍스트 개수: 0\n"
          ]
        }
      ]
    },
    {
      "cell_type": "code",
      "source": [
        "general"
      ],
      "metadata": {
        "id": "Nma_LBzCWeSn",
        "outputId": "c0668628-12e7-456d-d709-c22324cb37c0",
        "colab": {
          "base_uri": "https://localhost:8080/",
          "height": 493
        }
      },
      "execution_count": 28,
      "outputs": [
        {
          "output_type": "execute_result",
          "data": {
            "text/plain": [
              "                                                    Path  \\\n",
              "0      /content/drive/MyDrive/project/data_aihub/4/5e...   \n",
              "1      /content/drive/MyDrive/project/data_aihub/5_2/...   \n",
              "2      /content/drive/MyDrive/project/data_aihub/4/5e...   \n",
              "3      /content/drive/MyDrive/project/data_aihub/5/5e...   \n",
              "4      /content/drive/MyDrive/project/data_aihub/5_2/...   \n",
              "...                                                  ...   \n",
              "11995  /content/drive/MyDrive/project/data_aihub/4/5e...   \n",
              "11996  /content/drive/MyDrive/project/data_aihub/4/5e...   \n",
              "11997  /content/drive/MyDrive/project/data_aihub/5_2/...   \n",
              "11998  /content/drive/MyDrive/project/data_aihub/5/5e...   \n",
              "11999  /content/drive/MyDrive/project/data_aihub/5_2/...   \n",
              "\n",
              "                                       Text  Audio_Length  Text_Length  \\\n",
              "0         편하게 좋은 곳으로 갔겠지? 응. 힘을 내야되는데 어떡하지.         9.259           33   \n",
              "1      내가 받은 선물이 궁금한거야? 보고싶어? 그래. 나중에 보여줄게.         8.661           36   \n",
              "2                        아직 말씀 안 드렸어. 어떡하지.         5.547           18   \n",
              "3      오늘도 털어놓았더니 마음이 한결 가벼워졌어. 다음에도 또 부탁해.         8.277           36   \n",
              "4                                 그건 나도 몰라.         2.347            9   \n",
              "...                                     ...           ...          ...   \n",
              "11995            3년 전에 동호회 갔었는데 거기서 처음 만났지.         6.955           26   \n",
              "11996                             깜짝 놀랬다니까.         4.053            9   \n",
              "11997         실망스러운건 사과를 억지로 했다는 거야. 상처받았지.         5.419           29   \n",
              "11998                합격자 명단에 이름이 또 없는 거 있지?         4.523           22   \n",
              "11999       당연히 마음에 들지. 내가 평소에 얼마나 갖고싶었던건데.         4.309           31   \n",
              "\n",
              "                               Cleaned_Text           SNR  \n",
              "0         편하게 좋은 곳으로 갔겠지? 응. 힘을 내야되는데 어떡하지.  0.000000e+00  \n",
              "1      내가 받은 선물이 궁금한거야? 보고싶어? 그래. 나중에 보여줄게.  2.288259e-04  \n",
              "2                        아직 말씀 안 드렸어. 어떡하지.  5.572141e-02  \n",
              "3      오늘도 털어놓았더니 마음이 한결 가벼워졌어. 다음에도 또 부탁해.  5.177193e-07  \n",
              "4                                 그건 나도 몰라.  0.000000e+00  \n",
              "...                                     ...           ...  \n",
              "11995            3년 전에 동호회 갔었는데 거기서 처음 만났지.  1.514065e-03  \n",
              "11996                             깜짝 놀랬다니까.  1.553158e-06  \n",
              "11997         실망스러운건 사과를 억지로 했다는 거야. 상처받았지.  0.000000e+00  \n",
              "11998                합격자 명단에 이름이 또 없는 거 있지?  5.177193e-07  \n",
              "11999       당연히 마음에 들지. 내가 평소에 얼마나 갖고싶었던건데.  0.000000e+00  \n",
              "\n",
              "[12000 rows x 6 columns]"
            ],
            "text/html": [
              "\n",
              "  <div id=\"df-cea93d1e-76ae-4088-9133-58fb69eb702d\" class=\"colab-df-container\">\n",
              "    <div>\n",
              "<style scoped>\n",
              "    .dataframe tbody tr th:only-of-type {\n",
              "        vertical-align: middle;\n",
              "    }\n",
              "\n",
              "    .dataframe tbody tr th {\n",
              "        vertical-align: top;\n",
              "    }\n",
              "\n",
              "    .dataframe thead th {\n",
              "        text-align: right;\n",
              "    }\n",
              "</style>\n",
              "<table border=\"1\" class=\"dataframe\">\n",
              "  <thead>\n",
              "    <tr style=\"text-align: right;\">\n",
              "      <th></th>\n",
              "      <th>Path</th>\n",
              "      <th>Text</th>\n",
              "      <th>Audio_Length</th>\n",
              "      <th>Text_Length</th>\n",
              "      <th>Cleaned_Text</th>\n",
              "      <th>SNR</th>\n",
              "    </tr>\n",
              "  </thead>\n",
              "  <tbody>\n",
              "    <tr>\n",
              "      <th>0</th>\n",
              "      <td>/content/drive/MyDrive/project/data_aihub/4/5e...</td>\n",
              "      <td>편하게 좋은 곳으로 갔겠지? 응. 힘을 내야되는데 어떡하지.</td>\n",
              "      <td>9.259</td>\n",
              "      <td>33</td>\n",
              "      <td>편하게 좋은 곳으로 갔겠지? 응. 힘을 내야되는데 어떡하지.</td>\n",
              "      <td>0.000000e+00</td>\n",
              "    </tr>\n",
              "    <tr>\n",
              "      <th>1</th>\n",
              "      <td>/content/drive/MyDrive/project/data_aihub/5_2/...</td>\n",
              "      <td>내가 받은 선물이 궁금한거야? 보고싶어? 그래. 나중에 보여줄게.</td>\n",
              "      <td>8.661</td>\n",
              "      <td>36</td>\n",
              "      <td>내가 받은 선물이 궁금한거야? 보고싶어? 그래. 나중에 보여줄게.</td>\n",
              "      <td>2.288259e-04</td>\n",
              "    </tr>\n",
              "    <tr>\n",
              "      <th>2</th>\n",
              "      <td>/content/drive/MyDrive/project/data_aihub/4/5e...</td>\n",
              "      <td>아직 말씀 안 드렸어. 어떡하지.</td>\n",
              "      <td>5.547</td>\n",
              "      <td>18</td>\n",
              "      <td>아직 말씀 안 드렸어. 어떡하지.</td>\n",
              "      <td>5.572141e-02</td>\n",
              "    </tr>\n",
              "    <tr>\n",
              "      <th>3</th>\n",
              "      <td>/content/drive/MyDrive/project/data_aihub/5/5e...</td>\n",
              "      <td>오늘도 털어놓았더니 마음이 한결 가벼워졌어. 다음에도 또 부탁해.</td>\n",
              "      <td>8.277</td>\n",
              "      <td>36</td>\n",
              "      <td>오늘도 털어놓았더니 마음이 한결 가벼워졌어. 다음에도 또 부탁해.</td>\n",
              "      <td>5.177193e-07</td>\n",
              "    </tr>\n",
              "    <tr>\n",
              "      <th>4</th>\n",
              "      <td>/content/drive/MyDrive/project/data_aihub/5_2/...</td>\n",
              "      <td>그건 나도 몰라.</td>\n",
              "      <td>2.347</td>\n",
              "      <td>9</td>\n",
              "      <td>그건 나도 몰라.</td>\n",
              "      <td>0.000000e+00</td>\n",
              "    </tr>\n",
              "    <tr>\n",
              "      <th>...</th>\n",
              "      <td>...</td>\n",
              "      <td>...</td>\n",
              "      <td>...</td>\n",
              "      <td>...</td>\n",
              "      <td>...</td>\n",
              "      <td>...</td>\n",
              "    </tr>\n",
              "    <tr>\n",
              "      <th>11995</th>\n",
              "      <td>/content/drive/MyDrive/project/data_aihub/4/5e...</td>\n",
              "      <td>3년 전에 동호회 갔었는데 거기서 처음 만났지.</td>\n",
              "      <td>6.955</td>\n",
              "      <td>26</td>\n",
              "      <td>3년 전에 동호회 갔었는데 거기서 처음 만났지.</td>\n",
              "      <td>1.514065e-03</td>\n",
              "    </tr>\n",
              "    <tr>\n",
              "      <th>11996</th>\n",
              "      <td>/content/drive/MyDrive/project/data_aihub/4/5e...</td>\n",
              "      <td>깜짝 놀랬다니까.</td>\n",
              "      <td>4.053</td>\n",
              "      <td>9</td>\n",
              "      <td>깜짝 놀랬다니까.</td>\n",
              "      <td>1.553158e-06</td>\n",
              "    </tr>\n",
              "    <tr>\n",
              "      <th>11997</th>\n",
              "      <td>/content/drive/MyDrive/project/data_aihub/5_2/...</td>\n",
              "      <td>실망스러운건 사과를 억지로 했다는 거야. 상처받았지.</td>\n",
              "      <td>5.419</td>\n",
              "      <td>29</td>\n",
              "      <td>실망스러운건 사과를 억지로 했다는 거야. 상처받았지.</td>\n",
              "      <td>0.000000e+00</td>\n",
              "    </tr>\n",
              "    <tr>\n",
              "      <th>11998</th>\n",
              "      <td>/content/drive/MyDrive/project/data_aihub/5/5e...</td>\n",
              "      <td>합격자 명단에 이름이 또 없는 거 있지?</td>\n",
              "      <td>4.523</td>\n",
              "      <td>22</td>\n",
              "      <td>합격자 명단에 이름이 또 없는 거 있지?</td>\n",
              "      <td>5.177193e-07</td>\n",
              "    </tr>\n",
              "    <tr>\n",
              "      <th>11999</th>\n",
              "      <td>/content/drive/MyDrive/project/data_aihub/5_2/...</td>\n",
              "      <td>당연히 마음에 들지. 내가 평소에 얼마나 갖고싶었던건데.</td>\n",
              "      <td>4.309</td>\n",
              "      <td>31</td>\n",
              "      <td>당연히 마음에 들지. 내가 평소에 얼마나 갖고싶었던건데.</td>\n",
              "      <td>0.000000e+00</td>\n",
              "    </tr>\n",
              "  </tbody>\n",
              "</table>\n",
              "<p>12000 rows × 6 columns</p>\n",
              "</div>\n",
              "    <div class=\"colab-df-buttons\">\n",
              "\n",
              "  <div class=\"colab-df-container\">\n",
              "    <button class=\"colab-df-convert\" onclick=\"convertToInteractive('df-cea93d1e-76ae-4088-9133-58fb69eb702d')\"\n",
              "            title=\"Convert this dataframe to an interactive table.\"\n",
              "            style=\"display:none;\">\n",
              "\n",
              "  <svg xmlns=\"http://www.w3.org/2000/svg\" height=\"24px\" viewBox=\"0 -960 960 960\">\n",
              "    <path d=\"M120-120v-720h720v720H120Zm60-500h600v-160H180v160Zm220 220h160v-160H400v160Zm0 220h160v-160H400v160ZM180-400h160v-160H180v160Zm440 0h160v-160H620v160ZM180-180h160v-160H180v160Zm440 0h160v-160H620v160Z\"/>\n",
              "  </svg>\n",
              "    </button>\n",
              "\n",
              "  <style>\n",
              "    .colab-df-container {\n",
              "      display:flex;\n",
              "      gap: 12px;\n",
              "    }\n",
              "\n",
              "    .colab-df-convert {\n",
              "      background-color: #E8F0FE;\n",
              "      border: none;\n",
              "      border-radius: 50%;\n",
              "      cursor: pointer;\n",
              "      display: none;\n",
              "      fill: #1967D2;\n",
              "      height: 32px;\n",
              "      padding: 0 0 0 0;\n",
              "      width: 32px;\n",
              "    }\n",
              "\n",
              "    .colab-df-convert:hover {\n",
              "      background-color: #E2EBFA;\n",
              "      box-shadow: 0px 1px 2px rgba(60, 64, 67, 0.3), 0px 1px 3px 1px rgba(60, 64, 67, 0.15);\n",
              "      fill: #174EA6;\n",
              "    }\n",
              "\n",
              "    .colab-df-buttons div {\n",
              "      margin-bottom: 4px;\n",
              "    }\n",
              "\n",
              "    [theme=dark] .colab-df-convert {\n",
              "      background-color: #3B4455;\n",
              "      fill: #D2E3FC;\n",
              "    }\n",
              "\n",
              "    [theme=dark] .colab-df-convert:hover {\n",
              "      background-color: #434B5C;\n",
              "      box-shadow: 0px 1px 3px 1px rgba(0, 0, 0, 0.15);\n",
              "      filter: drop-shadow(0px 1px 2px rgba(0, 0, 0, 0.3));\n",
              "      fill: #FFFFFF;\n",
              "    }\n",
              "  </style>\n",
              "\n",
              "    <script>\n",
              "      const buttonEl =\n",
              "        document.querySelector('#df-cea93d1e-76ae-4088-9133-58fb69eb702d button.colab-df-convert');\n",
              "      buttonEl.style.display =\n",
              "        google.colab.kernel.accessAllowed ? 'block' : 'none';\n",
              "\n",
              "      async function convertToInteractive(key) {\n",
              "        const element = document.querySelector('#df-cea93d1e-76ae-4088-9133-58fb69eb702d');\n",
              "        const dataTable =\n",
              "          await google.colab.kernel.invokeFunction('convertToInteractive',\n",
              "                                                    [key], {});\n",
              "        if (!dataTable) return;\n",
              "\n",
              "        const docLinkHtml = 'Like what you see? Visit the ' +\n",
              "          '<a target=\"_blank\" href=https://colab.research.google.com/notebooks/data_table.ipynb>data table notebook</a>'\n",
              "          + ' to learn more about interactive tables.';\n",
              "        element.innerHTML = '';\n",
              "        dataTable['output_type'] = 'display_data';\n",
              "        await google.colab.output.renderOutput(dataTable, element);\n",
              "        const docLink = document.createElement('div');\n",
              "        docLink.innerHTML = docLinkHtml;\n",
              "        element.appendChild(docLink);\n",
              "      }\n",
              "    </script>\n",
              "  </div>\n",
              "\n",
              "\n",
              "<div id=\"df-98e80631-10f8-4da9-a941-6c3b4a6c87bb\">\n",
              "  <button class=\"colab-df-quickchart\" onclick=\"quickchart('df-98e80631-10f8-4da9-a941-6c3b4a6c87bb')\"\n",
              "            title=\"Suggest charts\"\n",
              "            style=\"display:none;\">\n",
              "\n",
              "<svg xmlns=\"http://www.w3.org/2000/svg\" height=\"24px\"viewBox=\"0 0 24 24\"\n",
              "     width=\"24px\">\n",
              "    <g>\n",
              "        <path d=\"M19 3H5c-1.1 0-2 .9-2 2v14c0 1.1.9 2 2 2h14c1.1 0 2-.9 2-2V5c0-1.1-.9-2-2-2zM9 17H7v-7h2v7zm4 0h-2V7h2v10zm4 0h-2v-4h2v4z\"/>\n",
              "    </g>\n",
              "</svg>\n",
              "  </button>\n",
              "\n",
              "<style>\n",
              "  .colab-df-quickchart {\n",
              "      --bg-color: #E8F0FE;\n",
              "      --fill-color: #1967D2;\n",
              "      --hover-bg-color: #E2EBFA;\n",
              "      --hover-fill-color: #174EA6;\n",
              "      --disabled-fill-color: #AAA;\n",
              "      --disabled-bg-color: #DDD;\n",
              "  }\n",
              "\n",
              "  [theme=dark] .colab-df-quickchart {\n",
              "      --bg-color: #3B4455;\n",
              "      --fill-color: #D2E3FC;\n",
              "      --hover-bg-color: #434B5C;\n",
              "      --hover-fill-color: #FFFFFF;\n",
              "      --disabled-bg-color: #3B4455;\n",
              "      --disabled-fill-color: #666;\n",
              "  }\n",
              "\n",
              "  .colab-df-quickchart {\n",
              "    background-color: var(--bg-color);\n",
              "    border: none;\n",
              "    border-radius: 50%;\n",
              "    cursor: pointer;\n",
              "    display: none;\n",
              "    fill: var(--fill-color);\n",
              "    height: 32px;\n",
              "    padding: 0;\n",
              "    width: 32px;\n",
              "  }\n",
              "\n",
              "  .colab-df-quickchart:hover {\n",
              "    background-color: var(--hover-bg-color);\n",
              "    box-shadow: 0 1px 2px rgba(60, 64, 67, 0.3), 0 1px 3px 1px rgba(60, 64, 67, 0.15);\n",
              "    fill: var(--button-hover-fill-color);\n",
              "  }\n",
              "\n",
              "  .colab-df-quickchart-complete:disabled,\n",
              "  .colab-df-quickchart-complete:disabled:hover {\n",
              "    background-color: var(--disabled-bg-color);\n",
              "    fill: var(--disabled-fill-color);\n",
              "    box-shadow: none;\n",
              "  }\n",
              "\n",
              "  .colab-df-spinner {\n",
              "    border: 2px solid var(--fill-color);\n",
              "    border-color: transparent;\n",
              "    border-bottom-color: var(--fill-color);\n",
              "    animation:\n",
              "      spin 1s steps(1) infinite;\n",
              "  }\n",
              "\n",
              "  @keyframes spin {\n",
              "    0% {\n",
              "      border-color: transparent;\n",
              "      border-bottom-color: var(--fill-color);\n",
              "      border-left-color: var(--fill-color);\n",
              "    }\n",
              "    20% {\n",
              "      border-color: transparent;\n",
              "      border-left-color: var(--fill-color);\n",
              "      border-top-color: var(--fill-color);\n",
              "    }\n",
              "    30% {\n",
              "      border-color: transparent;\n",
              "      border-left-color: var(--fill-color);\n",
              "      border-top-color: var(--fill-color);\n",
              "      border-right-color: var(--fill-color);\n",
              "    }\n",
              "    40% {\n",
              "      border-color: transparent;\n",
              "      border-right-color: var(--fill-color);\n",
              "      border-top-color: var(--fill-color);\n",
              "    }\n",
              "    60% {\n",
              "      border-color: transparent;\n",
              "      border-right-color: var(--fill-color);\n",
              "    }\n",
              "    80% {\n",
              "      border-color: transparent;\n",
              "      border-right-color: var(--fill-color);\n",
              "      border-bottom-color: var(--fill-color);\n",
              "    }\n",
              "    90% {\n",
              "      border-color: transparent;\n",
              "      border-bottom-color: var(--fill-color);\n",
              "    }\n",
              "  }\n",
              "</style>\n",
              "\n",
              "  <script>\n",
              "    async function quickchart(key) {\n",
              "      const quickchartButtonEl =\n",
              "        document.querySelector('#' + key + ' button');\n",
              "      quickchartButtonEl.disabled = true;  // To prevent multiple clicks.\n",
              "      quickchartButtonEl.classList.add('colab-df-spinner');\n",
              "      try {\n",
              "        const charts = await google.colab.kernel.invokeFunction(\n",
              "            'suggestCharts', [key], {});\n",
              "      } catch (error) {\n",
              "        console.error('Error during call to suggestCharts:', error);\n",
              "      }\n",
              "      quickchartButtonEl.classList.remove('colab-df-spinner');\n",
              "      quickchartButtonEl.classList.add('colab-df-quickchart-complete');\n",
              "    }\n",
              "    (() => {\n",
              "      let quickchartButtonEl =\n",
              "        document.querySelector('#df-98e80631-10f8-4da9-a941-6c3b4a6c87bb button');\n",
              "      quickchartButtonEl.style.display =\n",
              "        google.colab.kernel.accessAllowed ? 'block' : 'none';\n",
              "    })();\n",
              "  </script>\n",
              "</div>\n",
              "\n",
              "  <div id=\"id_29ae2eb4-c828-4b82-9d86-411e52901ff0\">\n",
              "    <style>\n",
              "      .colab-df-generate {\n",
              "        background-color: #E8F0FE;\n",
              "        border: none;\n",
              "        border-radius: 50%;\n",
              "        cursor: pointer;\n",
              "        display: none;\n",
              "        fill: #1967D2;\n",
              "        height: 32px;\n",
              "        padding: 0 0 0 0;\n",
              "        width: 32px;\n",
              "      }\n",
              "\n",
              "      .colab-df-generate:hover {\n",
              "        background-color: #E2EBFA;\n",
              "        box-shadow: 0px 1px 2px rgba(60, 64, 67, 0.3), 0px 1px 3px 1px rgba(60, 64, 67, 0.15);\n",
              "        fill: #174EA6;\n",
              "      }\n",
              "\n",
              "      [theme=dark] .colab-df-generate {\n",
              "        background-color: #3B4455;\n",
              "        fill: #D2E3FC;\n",
              "      }\n",
              "\n",
              "      [theme=dark] .colab-df-generate:hover {\n",
              "        background-color: #434B5C;\n",
              "        box-shadow: 0px 1px 3px 1px rgba(0, 0, 0, 0.15);\n",
              "        filter: drop-shadow(0px 1px 2px rgba(0, 0, 0, 0.3));\n",
              "        fill: #FFFFFF;\n",
              "      }\n",
              "    </style>\n",
              "    <button class=\"colab-df-generate\" onclick=\"generateWithVariable('general')\"\n",
              "            title=\"Generate code using this dataframe.\"\n",
              "            style=\"display:none;\">\n",
              "\n",
              "  <svg xmlns=\"http://www.w3.org/2000/svg\" height=\"24px\"viewBox=\"0 0 24 24\"\n",
              "       width=\"24px\">\n",
              "    <path d=\"M7,19H8.4L18.45,9,17,7.55,7,17.6ZM5,21V16.75L18.45,3.32a2,2,0,0,1,2.83,0l1.4,1.43a1.91,1.91,0,0,1,.58,1.4,1.91,1.91,0,0,1-.58,1.4L9.25,21ZM18.45,9,17,7.55Zm-12,3A5.31,5.31,0,0,0,4.9,8.1,5.31,5.31,0,0,0,1,6.5,5.31,5.31,0,0,0,4.9,4.9,5.31,5.31,0,0,0,6.5,1,5.31,5.31,0,0,0,8.1,4.9,5.31,5.31,0,0,0,12,6.5,5.46,5.46,0,0,0,6.5,12Z\"/>\n",
              "  </svg>\n",
              "    </button>\n",
              "    <script>\n",
              "      (() => {\n",
              "      const buttonEl =\n",
              "        document.querySelector('#id_29ae2eb4-c828-4b82-9d86-411e52901ff0 button.colab-df-generate');\n",
              "      buttonEl.style.display =\n",
              "        google.colab.kernel.accessAllowed ? 'block' : 'none';\n",
              "\n",
              "      buttonEl.onclick = () => {\n",
              "        google.colab.notebook.generateWithVariable('general');\n",
              "      }\n",
              "      })();\n",
              "    </script>\n",
              "  </div>\n",
              "\n",
              "    </div>\n",
              "  </div>\n"
            ],
            "application/vnd.google.colaboratory.intrinsic+json": {
              "type": "dataframe",
              "variable_name": "general",
              "summary": "{\n  \"name\": \"general\",\n  \"rows\": 12000,\n  \"fields\": [\n    {\n      \"column\": \"Path\",\n      \"properties\": {\n        \"dtype\": \"string\",\n        \"num_unique_values\": 12000,\n        \"samples\": [\n          \"/content/drive/MyDrive/project/data_aihub/4/5e38f691ee8206179943d219.wav\",\n          \"/content/drive/MyDrive/project/data_aihub/5_2/5f712396111dfd48d40fd419.wav\",\n          \"/content/drive/MyDrive/project/data_aihub/4/5e3cb2e4dbc4b7182a6aa81d.wav\"\n        ],\n        \"semantic_type\": \"\",\n        \"description\": \"\"\n      }\n    },\n    {\n      \"column\": \"Text\",\n      \"properties\": {\n        \"dtype\": \"string\",\n        \"num_unique_values\": 12000,\n        \"samples\": [\n          \"\\uc0dd\\uac01\\ud574\\ubd10\\uc57c \\ub418\\uaca0\\uc5b4.\",\n          \"\\uc6b0\\ub9ac\\ub3c4 \\ud654\\uc7a5\\uc2e4\\uc774 \\ud658\\uae30\\uad6c\\uac00 \\uc5c6\\uae30\\ub294 \\ud574.\",\n          \"\\uc751, \\uace0\\ub9c8\\uc6cc.\"\n        ],\n        \"semantic_type\": \"\",\n        \"description\": \"\"\n      }\n    },\n    {\n      \"column\": \"Audio_Length\",\n      \"properties\": {\n        \"dtype\": \"number\",\n        \"std\": 2.9744940159230473,\n        \"min\": 1.237,\n        \"max\": 44.117,\n        \"num_unique_values\": 433,\n        \"samples\": [\n          16.981,\n          6.571,\n          4.949\n        ],\n        \"semantic_type\": \"\",\n        \"description\": \"\"\n      }\n    },\n    {\n      \"column\": \"Text_Length\",\n      \"properties\": {\n        \"dtype\": \"number\",\n        \"std\": 13,\n        \"min\": 1,\n        \"max\": 124,\n        \"num_unique_values\": 104,\n        \"samples\": [\n          11,\n          102,\n          72\n        ],\n        \"semantic_type\": \"\",\n        \"description\": \"\"\n      }\n    },\n    {\n      \"column\": \"Cleaned_Text\",\n      \"properties\": {\n        \"dtype\": \"string\",\n        \"num_unique_values\": 12000,\n        \"samples\": [\n          \"\\uc0dd\\uac01\\ud574\\ubd10\\uc57c \\ub418\\uaca0\\uc5b4.\",\n          \"\\uc6b0\\ub9ac\\ub3c4 \\ud654\\uc7a5\\uc2e4\\uc774 \\ud658\\uae30\\uad6c\\uac00 \\uc5c6\\uae30\\ub294 \\ud574.\",\n          \"\\uc751, \\uace0\\ub9c8\\uc6cc.\"\n        ],\n        \"semantic_type\": \"\",\n        \"description\": \"\"\n      }\n    },\n    {\n      \"column\": \"SNR\",\n      \"properties\": {\n        \"dtype\": \"number\",\n        \"std\": 0.1263344621692285,\n        \"min\": -1.2942986415964697e-06,\n        \"max\": 6.008567810058594,\n        \"num_unique_values\": 2624,\n        \"samples\": [\n          0.005697904271073639,\n          0.0021624931832775474,\n          0.00013046332242083736\n        ],\n        \"semantic_type\": \"\",\n        \"description\": \"\"\n      }\n    }\n  ]\n}"
            }
          },
          "metadata": {},
          "execution_count": 28
        }
      ]
    },
    {
      "cell_type": "code",
      "source": [
        "general.to_csv('general_eda.csv', index = False, encoding = 'utf-8-sig')"
      ],
      "metadata": {
        "id": "JsnHeaiEJGNT"
      },
      "execution_count": null,
      "outputs": []
    }
  ]
}