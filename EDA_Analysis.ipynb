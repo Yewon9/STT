{
  "nbformat": 4,
  "nbformat_minor": 0,
  "metadata": {
    "colab": {
      "provenance": [],
      "toc_visible": true,
      "authorship_tag": "ABX9TyOGgMg6zbLiyzeTOEt+lzGc",
      "include_colab_link": true
    },
    "kernelspec": {
      "name": "python3",
      "display_name": "Python 3"
    },
    "language_info": {
      "name": "python"
    }
  },
  "cells": [
    {
      "cell_type": "markdown",
      "metadata": {
        "id": "view-in-github",
        "colab_type": "text"
      },
      "source": [
        "<a href=\"https://colab.research.google.com/github/Yewon9/STT/blob/main/EDA_Analysis.ipynb\" target=\"_parent\"><img src=\"https://colab.research.google.com/assets/colab-badge.svg\" alt=\"Open In Colab\"/></a>"
      ]
    },
    {
      "cell_type": "markdown",
      "source": [
        "# IMPORT"
      ],
      "metadata": {
        "id": "Gm55VhL152nC"
      }
    },
    {
      "cell_type": "code",
      "source": [
        "from google.colab import drive\n",
        "drive.mount('/content/drive')"
      ],
      "metadata": {
        "colab": {
          "base_uri": "https://localhost:8080/"
        },
        "id": "nJYZ0Di46kpz",
        "outputId": "39b193d6-3514-4be6-b633-807fe1afd39a"
      },
      "execution_count": 1,
      "outputs": [
        {
          "output_type": "stream",
          "name": "stdout",
          "text": [
            "Mounted at /content/drive\n"
          ]
        }
      ]
    },
    {
      "cell_type": "code",
      "source": [
        "!pip install pydub"
      ],
      "metadata": {
        "colab": {
          "base_uri": "https://localhost:8080/"
        },
        "id": "pP4yfQHi7Ida",
        "outputId": "6765d6de-b56a-40da-fa08-b7681271ca42"
      },
      "execution_count": 9,
      "outputs": [
        {
          "output_type": "stream",
          "name": "stdout",
          "text": [
            "Collecting pydub\n",
            "  Downloading pydub-0.25.1-py2.py3-none-any.whl.metadata (1.4 kB)\n",
            "Downloading pydub-0.25.1-py2.py3-none-any.whl (32 kB)\n",
            "Installing collected packages: pydub\n",
            "Successfully installed pydub-0.25.1\n"
          ]
        }
      ]
    },
    {
      "cell_type": "code",
      "execution_count": 21,
      "metadata": {
        "id": "NpdqNgEn5oJO"
      },
      "outputs": [],
      "source": [
        "import pandas as pd\n",
        "from pydub import AudioSegment\n",
        "from tqdm import tqdm\n",
        "import matplotlib.pyplot as plt\n",
        "import librosa\n",
        "import numpy as np\n",
        "import seaborn\n",
        "import re"
      ]
    },
    {
      "cell_type": "markdown",
      "source": [
        "# 일반 음성 데이터"
      ],
      "metadata": {
        "id": "R63SeJ_t6TQv"
      }
    },
    {
      "cell_type": "code",
      "source": [
        "general = pd.read_csv('general.csv')"
      ],
      "metadata": {
        "id": "-p87CV7b6dE2"
      },
      "execution_count": 14,
      "outputs": []
    },
    {
      "cell_type": "markdown",
      "source": [
        "## 데이터 개수 확인"
      ],
      "metadata": {
        "id": "_-3XijEY6bEE"
      }
    },
    {
      "cell_type": "code",
      "source": [
        "print(general.info())"
      ],
      "metadata": {
        "colab": {
          "base_uri": "https://localhost:8080/"
        },
        "id": "5XwHFpTS6UnK",
        "outputId": "4172608c-55c0-4f20-a70e-1087de5004d3"
      },
      "execution_count": 15,
      "outputs": [
        {
          "output_type": "stream",
          "name": "stdout",
          "text": [
            "<class 'pandas.core.frame.DataFrame'>\n",
            "RangeIndex: 37196 entries, 0 to 37195\n",
            "Data columns (total 2 columns):\n",
            " #   Column  Non-Null Count  Dtype \n",
            "---  ------  --------------  ----- \n",
            " 0   Path    37196 non-null  object\n",
            " 1   Text    37196 non-null  object\n",
            "dtypes: object(2)\n",
            "memory usage: 581.3+ KB\n",
            "None\n"
          ]
        }
      ]
    },
    {
      "cell_type": "code",
      "source": [
        "print(general.describe())"
      ],
      "metadata": {
        "colab": {
          "base_uri": "https://localhost:8080/"
        },
        "id": "ZGcWXlmU6sv3",
        "outputId": "63db35b8-dcc0-4166-dc8f-357337876b9f"
      },
      "execution_count": 16,
      "outputs": [
        {
          "output_type": "stream",
          "name": "stdout",
          "text": [
            "                                                     Path              Text\n",
            "count                                               37196             37196\n",
            "unique                                              37196             37196\n",
            "top     /content/drive/MyDrive/project/data_aihub/4/5e...  어, 청소 니가 대신 해 줘!\n",
            "freq                                                    1                 1\n"
          ]
        }
      ]
    },
    {
      "cell_type": "code",
      "source": [
        "missing_text = general[general['Text'] == '']\n",
        "print(f\"빈 텍스트 개수: {len(missing_text)}\")"
      ],
      "metadata": {
        "colab": {
          "base_uri": "https://localhost:8080/"
        },
        "id": "Kyv0FsCz6w2k",
        "outputId": "dee14e40-aeb8-434a-a5d2-46173bbcaf25"
      },
      "execution_count": 17,
      "outputs": [
        {
          "output_type": "stream",
          "name": "stdout",
          "text": [
            "빈 텍스트 개수: 0\n"
          ]
        }
      ]
    },
    {
      "cell_type": "code",
      "source": [
        "duplicate_texts = general['Text'].duplicated().sum()\n",
        "print(f\"중복된 텍스트 개수: {duplicate_texts}\")"
      ],
      "metadata": {
        "colab": {
          "base_uri": "https://localhost:8080/"
        },
        "id": "z4ZzlRWg62w2",
        "outputId": "b7f04569-6be5-4e54-a8a4-88a69ac5437b"
      },
      "execution_count": 18,
      "outputs": [
        {
          "output_type": "stream",
          "name": "stdout",
          "text": [
            "중복된 텍스트 개수: 0\n"
          ]
        }
      ]
    },
    {
      "cell_type": "markdown",
      "source": [
        "## 음성 파일 길이 분석"
      ],
      "metadata": {
        "id": "hE9xQTQK7LCy"
      }
    },
    {
      "cell_type": "code",
      "source": [
        "def get_audio_length(path):\n",
        "  audio = AudioSegment.from_wav(path)\n",
        "  return len(audio) / 1000"
      ],
      "metadata": {
        "id": "YiBiZ-Dy7MpK"
      },
      "execution_count": 19,
      "outputs": []
    },
    {
      "cell_type": "code",
      "source": [
        "general['Audio_Length'] = [get_audio_length(path) for path in tqdm(general['Path'])]"
      ],
      "metadata": {
        "colab": {
          "base_uri": "https://localhost:8080/"
        },
        "id": "SuMgOhdG7VZS",
        "outputId": "109d9223-f944-43b4-f0a4-0a4acdef301b"
      },
      "execution_count": null,
      "outputs": [
        {
          "output_type": "stream",
          "name": "stderr",
          "text": [
            " 13%|█▎        | 4925/37196 [36:01<3:17:50,  2.72it/s]"
          ]
        }
      ]
    },
    {
      "cell_type": "markdown",
      "source": [
        "# 시각화 분포 확인 (히스토 or 박스)"
      ],
      "metadata": {
        "id": "X4O_yjoyBCLT"
      }
    },
    {
      "cell_type": "code",
      "source": [
        "# 이상치 제거"
      ],
      "metadata": {
        "id": "RweAr7jh7c9C"
      },
      "execution_count": null,
      "outputs": []
    },
    {
      "cell_type": "markdown",
      "source": [
        "## 텍스트 분석"
      ],
      "metadata": {
        "id": "8gTlgSUC8U6I"
      }
    },
    {
      "cell_type": "markdown",
      "source": [
        "### 텍스트 길이 분석"
      ],
      "metadata": {
        "id": "rVm_LT6G9gc1"
      }
    },
    {
      "cell_type": "code",
      "source": [
        "general['Text_Length'] = general['Text'].apply(len)"
      ],
      "metadata": {
        "id": "qgTaXlnV8WNS"
      },
      "execution_count": null,
      "outputs": []
    },
    {
      "cell_type": "code",
      "source": [
        "print(general[['Text', 'Text_Length']].head())"
      ],
      "metadata": {
        "id": "AMiFSoMg9Y4b"
      },
      "execution_count": null,
      "outputs": []
    },
    {
      "cell_type": "code",
      "source": [
        "plt.figure(figsize = (10, 6))\n",
        "plt.hist(general['Text_Length'], bins = 30, color = 'blue', alpha = 0.7)\n",
        "plt.title('Distribution of Text Lengths')\n",
        "plt.xlabel('Text Length (characters)')\n",
        "plt.ylabel('Frequency')\n",
        "plt.show()"
      ],
      "metadata": {
        "id": "H0oJE0Hi9P_R"
      },
      "execution_count": null,
      "outputs": []
    },
    {
      "cell_type": "markdown",
      "source": [
        "### 빈 텍스트 확인"
      ],
      "metadata": {
        "id": "EKWkF9eP9jSi"
      }
    },
    {
      "cell_type": "code",
      "source": [
        "empty_texts = general[general['Text_Length'] == 0]\n",
        "print(f\"빈 텍스트 개수: {len(empty_texts)}\")"
      ],
      "metadata": {
        "id": "Z1wWnmeZ9n5p"
      },
      "execution_count": null,
      "outputs": []
    },
    {
      "cell_type": "markdown",
      "source": [
        "### 중복된 텍스트 확인"
      ],
      "metadata": {
        "id": "CABj34rK9lbp"
      }
    },
    {
      "cell_type": "code",
      "source": [
        "duplicate_texts = general[general['Text'].duplicated()]\n",
        "print(f\"중복된 텍스트 개수: {len(duplicate_texts)}\")"
      ],
      "metadata": {
        "id": "7iM4Sx329sef"
      },
      "execution_count": null,
      "outputs": []
    },
    {
      "cell_type": "markdown",
      "source": [
        "### 불필요한 기호 제거"
      ],
      "metadata": {
        "id": "2lVRPwqKDUs-"
      }
    },
    {
      "cell_type": "code",
      "source": [
        "unique_chars = set(''.join(general['Text']))\n",
        "print(unique_chars)"
      ],
      "metadata": {
        "id": "wDbkR53QD_mr"
      },
      "execution_count": null,
      "outputs": []
    },
    {
      "cell_type": "code",
      "source": [
        "def clean_text(text):\n",
        "    cleaned_text = re.sub(r'[+u/I*]', '', text)\n",
        "    return cleaned_text"
      ],
      "metadata": {
        "id": "o6re5_ksDu12"
      },
      "execution_count": null,
      "outputs": []
    },
    {
      "cell_type": "code",
      "source": [
        "general['Cleaned_Text'] = general['Text'].apply(clean_text)"
      ],
      "metadata": {
        "id": "E6P8YmllEDLJ"
      },
      "execution_count": null,
      "outputs": []
    },
    {
      "cell_type": "code",
      "source": [
        "print(general[['Text', 'Cleaned_Text']].head())"
      ],
      "metadata": {
        "id": "1DRHjt6UEExH"
      },
      "execution_count": null,
      "outputs": []
    },
    {
      "cell_type": "markdown",
      "source": [
        "## 데이터 품질 검사"
      ],
      "metadata": {
        "id": "JPSkpqnL-wVt"
      }
    },
    {
      "cell_type": "code",
      "source": [
        "def calculate_snr(path):\n",
        "    audio, sr = librosa.load(path)\n",
        "    signal_power = np.mean(audio ** 2)\n",
        "    noise_power = np.mean((audio - np.mean(audio)) ** 2)\n",
        "    snr = 10 * np.log10(signal_power / noise_power)\n",
        "    return snr"
      ],
      "metadata": {
        "id": "v7VHNiXv-1f0"
      },
      "execution_count": null,
      "outputs": []
    },
    {
      "cell_type": "code",
      "source": [
        "general['SNR'] = [calculate_snr(path) for path in tqdm(general['Path'])]"
      ],
      "metadata": {
        "id": "2tHGfMrq-6pP"
      },
      "execution_count": null,
      "outputs": []
    },
    {
      "cell_type": "code",
      "source": [
        "plt.figure(figsize=(10, 6))\n",
        "sns.histplot(general['SNR'], bins = 30, color = 'blue', kde = True)\n",
        "plt.axvline(x = 10, color = 'red', linestyle='--', label = '10 dB')\n",
        "plt.axvline(x = 20, color = 'green', linestyle='--', label = '20 dB')\n",
        "plt.title('SNR Distribution')\n",
        "plt.xlabel('SNR (dB)')\n",
        "plt.ylabel('Frequency')\n",
        "plt.legend()\n",
        "plt.show()"
      ],
      "metadata": {
        "id": "P-XR4NH8_TAm"
      },
      "execution_count": null,
      "outputs": []
    },
    {
      "cell_type": "code",
      "source": [
        "# 10 또는 20\n",
        "noisy_files = general[general['SNR'] < 20]\n",
        "print(noisy_files[['Path', 'SNR']])"
      ],
      "metadata": {
        "id": "C7cmwbDa--DN"
      },
      "execution_count": null,
      "outputs": []
    }
  ]
}