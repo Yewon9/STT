{
  "nbformat": 4,
  "nbformat_minor": 0,
  "metadata": {
    "colab": {
      "provenance": [],
      "authorship_tag": "ABX9TyOAquptB6CjOrOfhqctc20t",
      "include_colab_link": true
    },
    "kernelspec": {
      "name": "python3",
      "display_name": "Python 3"
    },
    "language_info": {
      "name": "python"
    }
  },
  "cells": [
    {
      "cell_type": "markdown",
      "metadata": {
        "id": "view-in-github",
        "colab_type": "text"
      },
      "source": [
        "<a href=\"https://colab.research.google.com/github/Yewon9/STT/blob/main/EDA_Analysis.ipynb\" target=\"_parent\"><img src=\"https://colab.research.google.com/assets/colab-badge.svg\" alt=\"Open In Colab\"/></a>"
      ]
    },
    {
      "cell_type": "markdown",
      "source": [
        "# IMPORT"
      ],
      "metadata": {
        "id": "Gm55VhL152nC"
      }
    },
    {
      "cell_type": "code",
      "source": [
        "from google.colab import drive\n",
        "drive.mount('/content/drive')"
      ],
      "metadata": {
        "colab": {
          "base_uri": "https://localhost:8080/"
        },
        "id": "nJYZ0Di46kpz",
        "outputId": "8d975da4-ef37-4a06-9610-2c685f910128"
      },
      "execution_count": null,
      "outputs": [
        {
          "output_type": "stream",
          "name": "stdout",
          "text": [
            "Mounted at /content/drive\n"
          ]
        }
      ]
    },
    {
      "cell_type": "code",
      "source": [
        "!pip install pydub"
      ],
      "metadata": {
        "colab": {
          "base_uri": "https://localhost:8080/"
        },
        "id": "pP4yfQHi7Ida",
        "outputId": "46b852c1-d2fa-4f3a-c64d-27efa5185c56"
      },
      "execution_count": null,
      "outputs": [
        {
          "output_type": "stream",
          "name": "stdout",
          "text": [
            "Collecting pydub\n",
            "  Downloading pydub-0.25.1-py2.py3-none-any.whl.metadata (1.4 kB)\n",
            "Downloading pydub-0.25.1-py2.py3-none-any.whl (32 kB)\n",
            "Installing collected packages: pydub\n",
            "Successfully installed pydub-0.25.1\n"
          ]
        }
      ]
    },
    {
      "cell_type": "code",
      "execution_count": null,
      "metadata": {
        "id": "NpdqNgEn5oJO"
      },
      "outputs": [],
      "source": [
        "import pandas as pd\n",
        "from pydub import AudioSegment\n",
        "from tqdm import tqdm\n",
        "import matplotlib.pyplot as plt\n",
        "import librosa\n",
        "import numpy as np\n",
        "import seaborn as sns\n",
        "import re"
      ]
    },
    {
      "cell_type": "markdown",
      "source": [
        "# 일반 음성 데이터"
      ],
      "metadata": {
        "id": "R63SeJ_t6TQv"
      }
    },
    {
      "cell_type": "code",
      "source": [
        "general = pd.read_csv('general.csv')"
      ],
      "metadata": {
        "id": "-p87CV7b6dE2"
      },
      "execution_count": 6,
      "outputs": []
    },
    {
      "cell_type": "code",
      "source": [
        "general"
      ],
      "metadata": {
        "colab": {
          "base_uri": "https://localhost:8080/",
          "height": 424
        },
        "id": "CpE2pnimEWAR",
        "outputId": "3092996a-d830-457e-ede6-81c973f5ce7b"
      },
      "execution_count": 7,
      "outputs": [
        {
          "output_type": "execute_result",
          "data": {
            "text/plain": [
              "                                                   Path  \\\n",
              "0     /content/drive/MyDrive/project/data_aihub/4/5e...   \n",
              "1     /content/drive/MyDrive/project/data_aihub/5_2/...   \n",
              "2     /content/drive/MyDrive/project/data_aihub/4/5e...   \n",
              "3     /content/drive/MyDrive/project/data_aihub/5/5e...   \n",
              "4     /content/drive/MyDrive/project/data_aihub/5_2/...   \n",
              "...                                                 ...   \n",
              "9995  /content/drive/MyDrive/project/data_aihub/5/5f...   \n",
              "9996  /content/drive/MyDrive/project/data_aihub/5_2/...   \n",
              "9997  /content/drive/MyDrive/project/data_aihub/4/5e...   \n",
              "9998  /content/drive/MyDrive/project/data_aihub/4/5e...   \n",
              "9999  /content/drive/MyDrive/project/data_aihub/4/5e...   \n",
              "\n",
              "                                                   Text  \n",
              "0                     편하게 좋은 곳으로 갔겠지? 응. 힘을 내야되는데 어떡하지.  \n",
              "1                  내가 받은 선물이 궁금한거야? 보고싶어? 그래. 나중에 보여줄게.  \n",
              "2                                    아직 말씀 안 드렸어. 어떡하지.  \n",
              "3                  오늘도 털어놓았더니 마음이 한결 가벼워졌어. 다음에도 또 부탁해.  \n",
              "4                                             그건 나도 몰라.  \n",
              "...                                                 ...  \n",
              "9995  아빠가 술을 너무 많이 드시고 오니까 가족들이 아빠의 건강이 걱정이 돼서 술 좀 적...  \n",
              "9996   프로젝트에 최종 발표를 마쳤으니까 모든 게 완전히 끝난 거야. 마음이 너무나 홀가분해.  \n",
              "9997             아, 어제 아버지가 집에 오시면서 또 계단에서 넘어지셔서 또 다쳤어.  \n",
              "9998               나는 다친데가 없어서 아프지 않지만 아픈데가 생기면 병원에 갈게.  \n",
              "9999                                   어. 나가면서 말씀 드릴려고.  \n",
              "\n",
              "[10000 rows x 2 columns]"
            ],
            "text/html": [
              "\n",
              "  <div id=\"df-ce9d5814-3f76-4fed-8d29-818d7d50ee15\" class=\"colab-df-container\">\n",
              "    <div>\n",
              "<style scoped>\n",
              "    .dataframe tbody tr th:only-of-type {\n",
              "        vertical-align: middle;\n",
              "    }\n",
              "\n",
              "    .dataframe tbody tr th {\n",
              "        vertical-align: top;\n",
              "    }\n",
              "\n",
              "    .dataframe thead th {\n",
              "        text-align: right;\n",
              "    }\n",
              "</style>\n",
              "<table border=\"1\" class=\"dataframe\">\n",
              "  <thead>\n",
              "    <tr style=\"text-align: right;\">\n",
              "      <th></th>\n",
              "      <th>Path</th>\n",
              "      <th>Text</th>\n",
              "    </tr>\n",
              "  </thead>\n",
              "  <tbody>\n",
              "    <tr>\n",
              "      <th>0</th>\n",
              "      <td>/content/drive/MyDrive/project/data_aihub/4/5e...</td>\n",
              "      <td>편하게 좋은 곳으로 갔겠지? 응. 힘을 내야되는데 어떡하지.</td>\n",
              "    </tr>\n",
              "    <tr>\n",
              "      <th>1</th>\n",
              "      <td>/content/drive/MyDrive/project/data_aihub/5_2/...</td>\n",
              "      <td>내가 받은 선물이 궁금한거야? 보고싶어? 그래. 나중에 보여줄게.</td>\n",
              "    </tr>\n",
              "    <tr>\n",
              "      <th>2</th>\n",
              "      <td>/content/drive/MyDrive/project/data_aihub/4/5e...</td>\n",
              "      <td>아직 말씀 안 드렸어. 어떡하지.</td>\n",
              "    </tr>\n",
              "    <tr>\n",
              "      <th>3</th>\n",
              "      <td>/content/drive/MyDrive/project/data_aihub/5/5e...</td>\n",
              "      <td>오늘도 털어놓았더니 마음이 한결 가벼워졌어. 다음에도 또 부탁해.</td>\n",
              "    </tr>\n",
              "    <tr>\n",
              "      <th>4</th>\n",
              "      <td>/content/drive/MyDrive/project/data_aihub/5_2/...</td>\n",
              "      <td>그건 나도 몰라.</td>\n",
              "    </tr>\n",
              "    <tr>\n",
              "      <th>...</th>\n",
              "      <td>...</td>\n",
              "      <td>...</td>\n",
              "    </tr>\n",
              "    <tr>\n",
              "      <th>9995</th>\n",
              "      <td>/content/drive/MyDrive/project/data_aihub/5/5f...</td>\n",
              "      <td>아빠가 술을 너무 많이 드시고 오니까 가족들이 아빠의 건강이 걱정이 돼서 술 좀 적...</td>\n",
              "    </tr>\n",
              "    <tr>\n",
              "      <th>9996</th>\n",
              "      <td>/content/drive/MyDrive/project/data_aihub/5_2/...</td>\n",
              "      <td>프로젝트에 최종 발표를 마쳤으니까 모든 게 완전히 끝난 거야. 마음이 너무나 홀가분해.</td>\n",
              "    </tr>\n",
              "    <tr>\n",
              "      <th>9997</th>\n",
              "      <td>/content/drive/MyDrive/project/data_aihub/4/5e...</td>\n",
              "      <td>아, 어제 아버지가 집에 오시면서 또 계단에서 넘어지셔서 또 다쳤어.</td>\n",
              "    </tr>\n",
              "    <tr>\n",
              "      <th>9998</th>\n",
              "      <td>/content/drive/MyDrive/project/data_aihub/4/5e...</td>\n",
              "      <td>나는 다친데가 없어서 아프지 않지만 아픈데가 생기면 병원에 갈게.</td>\n",
              "    </tr>\n",
              "    <tr>\n",
              "      <th>9999</th>\n",
              "      <td>/content/drive/MyDrive/project/data_aihub/4/5e...</td>\n",
              "      <td>어. 나가면서 말씀 드릴려고.</td>\n",
              "    </tr>\n",
              "  </tbody>\n",
              "</table>\n",
              "<p>10000 rows × 2 columns</p>\n",
              "</div>\n",
              "    <div class=\"colab-df-buttons\">\n",
              "\n",
              "  <div class=\"colab-df-container\">\n",
              "    <button class=\"colab-df-convert\" onclick=\"convertToInteractive('df-ce9d5814-3f76-4fed-8d29-818d7d50ee15')\"\n",
              "            title=\"Convert this dataframe to an interactive table.\"\n",
              "            style=\"display:none;\">\n",
              "\n",
              "  <svg xmlns=\"http://www.w3.org/2000/svg\" height=\"24px\" viewBox=\"0 -960 960 960\">\n",
              "    <path d=\"M120-120v-720h720v720H120Zm60-500h600v-160H180v160Zm220 220h160v-160H400v160Zm0 220h160v-160H400v160ZM180-400h160v-160H180v160Zm440 0h160v-160H620v160ZM180-180h160v-160H180v160Zm440 0h160v-160H620v160Z\"/>\n",
              "  </svg>\n",
              "    </button>\n",
              "\n",
              "  <style>\n",
              "    .colab-df-container {\n",
              "      display:flex;\n",
              "      gap: 12px;\n",
              "    }\n",
              "\n",
              "    .colab-df-convert {\n",
              "      background-color: #E8F0FE;\n",
              "      border: none;\n",
              "      border-radius: 50%;\n",
              "      cursor: pointer;\n",
              "      display: none;\n",
              "      fill: #1967D2;\n",
              "      height: 32px;\n",
              "      padding: 0 0 0 0;\n",
              "      width: 32px;\n",
              "    }\n",
              "\n",
              "    .colab-df-convert:hover {\n",
              "      background-color: #E2EBFA;\n",
              "      box-shadow: 0px 1px 2px rgba(60, 64, 67, 0.3), 0px 1px 3px 1px rgba(60, 64, 67, 0.15);\n",
              "      fill: #174EA6;\n",
              "    }\n",
              "\n",
              "    .colab-df-buttons div {\n",
              "      margin-bottom: 4px;\n",
              "    }\n",
              "\n",
              "    [theme=dark] .colab-df-convert {\n",
              "      background-color: #3B4455;\n",
              "      fill: #D2E3FC;\n",
              "    }\n",
              "\n",
              "    [theme=dark] .colab-df-convert:hover {\n",
              "      background-color: #434B5C;\n",
              "      box-shadow: 0px 1px 3px 1px rgba(0, 0, 0, 0.15);\n",
              "      filter: drop-shadow(0px 1px 2px rgba(0, 0, 0, 0.3));\n",
              "      fill: #FFFFFF;\n",
              "    }\n",
              "  </style>\n",
              "\n",
              "    <script>\n",
              "      const buttonEl =\n",
              "        document.querySelector('#df-ce9d5814-3f76-4fed-8d29-818d7d50ee15 button.colab-df-convert');\n",
              "      buttonEl.style.display =\n",
              "        google.colab.kernel.accessAllowed ? 'block' : 'none';\n",
              "\n",
              "      async function convertToInteractive(key) {\n",
              "        const element = document.querySelector('#df-ce9d5814-3f76-4fed-8d29-818d7d50ee15');\n",
              "        const dataTable =\n",
              "          await google.colab.kernel.invokeFunction('convertToInteractive',\n",
              "                                                    [key], {});\n",
              "        if (!dataTable) return;\n",
              "\n",
              "        const docLinkHtml = 'Like what you see? Visit the ' +\n",
              "          '<a target=\"_blank\" href=https://colab.research.google.com/notebooks/data_table.ipynb>data table notebook</a>'\n",
              "          + ' to learn more about interactive tables.';\n",
              "        element.innerHTML = '';\n",
              "        dataTable['output_type'] = 'display_data';\n",
              "        await google.colab.output.renderOutput(dataTable, element);\n",
              "        const docLink = document.createElement('div');\n",
              "        docLink.innerHTML = docLinkHtml;\n",
              "        element.appendChild(docLink);\n",
              "      }\n",
              "    </script>\n",
              "  </div>\n",
              "\n",
              "\n",
              "<div id=\"df-8c753e90-dcdf-4272-8f7e-1e5d6922f062\">\n",
              "  <button class=\"colab-df-quickchart\" onclick=\"quickchart('df-8c753e90-dcdf-4272-8f7e-1e5d6922f062')\"\n",
              "            title=\"Suggest charts\"\n",
              "            style=\"display:none;\">\n",
              "\n",
              "<svg xmlns=\"http://www.w3.org/2000/svg\" height=\"24px\"viewBox=\"0 0 24 24\"\n",
              "     width=\"24px\">\n",
              "    <g>\n",
              "        <path d=\"M19 3H5c-1.1 0-2 .9-2 2v14c0 1.1.9 2 2 2h14c1.1 0 2-.9 2-2V5c0-1.1-.9-2-2-2zM9 17H7v-7h2v7zm4 0h-2V7h2v10zm4 0h-2v-4h2v4z\"/>\n",
              "    </g>\n",
              "</svg>\n",
              "  </button>\n",
              "\n",
              "<style>\n",
              "  .colab-df-quickchart {\n",
              "      --bg-color: #E8F0FE;\n",
              "      --fill-color: #1967D2;\n",
              "      --hover-bg-color: #E2EBFA;\n",
              "      --hover-fill-color: #174EA6;\n",
              "      --disabled-fill-color: #AAA;\n",
              "      --disabled-bg-color: #DDD;\n",
              "  }\n",
              "\n",
              "  [theme=dark] .colab-df-quickchart {\n",
              "      --bg-color: #3B4455;\n",
              "      --fill-color: #D2E3FC;\n",
              "      --hover-bg-color: #434B5C;\n",
              "      --hover-fill-color: #FFFFFF;\n",
              "      --disabled-bg-color: #3B4455;\n",
              "      --disabled-fill-color: #666;\n",
              "  }\n",
              "\n",
              "  .colab-df-quickchart {\n",
              "    background-color: var(--bg-color);\n",
              "    border: none;\n",
              "    border-radius: 50%;\n",
              "    cursor: pointer;\n",
              "    display: none;\n",
              "    fill: var(--fill-color);\n",
              "    height: 32px;\n",
              "    padding: 0;\n",
              "    width: 32px;\n",
              "  }\n",
              "\n",
              "  .colab-df-quickchart:hover {\n",
              "    background-color: var(--hover-bg-color);\n",
              "    box-shadow: 0 1px 2px rgba(60, 64, 67, 0.3), 0 1px 3px 1px rgba(60, 64, 67, 0.15);\n",
              "    fill: var(--button-hover-fill-color);\n",
              "  }\n",
              "\n",
              "  .colab-df-quickchart-complete:disabled,\n",
              "  .colab-df-quickchart-complete:disabled:hover {\n",
              "    background-color: var(--disabled-bg-color);\n",
              "    fill: var(--disabled-fill-color);\n",
              "    box-shadow: none;\n",
              "  }\n",
              "\n",
              "  .colab-df-spinner {\n",
              "    border: 2px solid var(--fill-color);\n",
              "    border-color: transparent;\n",
              "    border-bottom-color: var(--fill-color);\n",
              "    animation:\n",
              "      spin 1s steps(1) infinite;\n",
              "  }\n",
              "\n",
              "  @keyframes spin {\n",
              "    0% {\n",
              "      border-color: transparent;\n",
              "      border-bottom-color: var(--fill-color);\n",
              "      border-left-color: var(--fill-color);\n",
              "    }\n",
              "    20% {\n",
              "      border-color: transparent;\n",
              "      border-left-color: var(--fill-color);\n",
              "      border-top-color: var(--fill-color);\n",
              "    }\n",
              "    30% {\n",
              "      border-color: transparent;\n",
              "      border-left-color: var(--fill-color);\n",
              "      border-top-color: var(--fill-color);\n",
              "      border-right-color: var(--fill-color);\n",
              "    }\n",
              "    40% {\n",
              "      border-color: transparent;\n",
              "      border-right-color: var(--fill-color);\n",
              "      border-top-color: var(--fill-color);\n",
              "    }\n",
              "    60% {\n",
              "      border-color: transparent;\n",
              "      border-right-color: var(--fill-color);\n",
              "    }\n",
              "    80% {\n",
              "      border-color: transparent;\n",
              "      border-right-color: var(--fill-color);\n",
              "      border-bottom-color: var(--fill-color);\n",
              "    }\n",
              "    90% {\n",
              "      border-color: transparent;\n",
              "      border-bottom-color: var(--fill-color);\n",
              "    }\n",
              "  }\n",
              "</style>\n",
              "\n",
              "  <script>\n",
              "    async function quickchart(key) {\n",
              "      const quickchartButtonEl =\n",
              "        document.querySelector('#' + key + ' button');\n",
              "      quickchartButtonEl.disabled = true;  // To prevent multiple clicks.\n",
              "      quickchartButtonEl.classList.add('colab-df-spinner');\n",
              "      try {\n",
              "        const charts = await google.colab.kernel.invokeFunction(\n",
              "            'suggestCharts', [key], {});\n",
              "      } catch (error) {\n",
              "        console.error('Error during call to suggestCharts:', error);\n",
              "      }\n",
              "      quickchartButtonEl.classList.remove('colab-df-spinner');\n",
              "      quickchartButtonEl.classList.add('colab-df-quickchart-complete');\n",
              "    }\n",
              "    (() => {\n",
              "      let quickchartButtonEl =\n",
              "        document.querySelector('#df-8c753e90-dcdf-4272-8f7e-1e5d6922f062 button');\n",
              "      quickchartButtonEl.style.display =\n",
              "        google.colab.kernel.accessAllowed ? 'block' : 'none';\n",
              "    })();\n",
              "  </script>\n",
              "</div>\n",
              "\n",
              "  <div id=\"id_f47a7acc-0fe2-4bd4-adb2-c8c84e2620ff\">\n",
              "    <style>\n",
              "      .colab-df-generate {\n",
              "        background-color: #E8F0FE;\n",
              "        border: none;\n",
              "        border-radius: 50%;\n",
              "        cursor: pointer;\n",
              "        display: none;\n",
              "        fill: #1967D2;\n",
              "        height: 32px;\n",
              "        padding: 0 0 0 0;\n",
              "        width: 32px;\n",
              "      }\n",
              "\n",
              "      .colab-df-generate:hover {\n",
              "        background-color: #E2EBFA;\n",
              "        box-shadow: 0px 1px 2px rgba(60, 64, 67, 0.3), 0px 1px 3px 1px rgba(60, 64, 67, 0.15);\n",
              "        fill: #174EA6;\n",
              "      }\n",
              "\n",
              "      [theme=dark] .colab-df-generate {\n",
              "        background-color: #3B4455;\n",
              "        fill: #D2E3FC;\n",
              "      }\n",
              "\n",
              "      [theme=dark] .colab-df-generate:hover {\n",
              "        background-color: #434B5C;\n",
              "        box-shadow: 0px 1px 3px 1px rgba(0, 0, 0, 0.15);\n",
              "        filter: drop-shadow(0px 1px 2px rgba(0, 0, 0, 0.3));\n",
              "        fill: #FFFFFF;\n",
              "      }\n",
              "    </style>\n",
              "    <button class=\"colab-df-generate\" onclick=\"generateWithVariable('general')\"\n",
              "            title=\"Generate code using this dataframe.\"\n",
              "            style=\"display:none;\">\n",
              "\n",
              "  <svg xmlns=\"http://www.w3.org/2000/svg\" height=\"24px\"viewBox=\"0 0 24 24\"\n",
              "       width=\"24px\">\n",
              "    <path d=\"M7,19H8.4L18.45,9,17,7.55,7,17.6ZM5,21V16.75L18.45,3.32a2,2,0,0,1,2.83,0l1.4,1.43a1.91,1.91,0,0,1,.58,1.4,1.91,1.91,0,0,1-.58,1.4L9.25,21ZM18.45,9,17,7.55Zm-12,3A5.31,5.31,0,0,0,4.9,8.1,5.31,5.31,0,0,0,1,6.5,5.31,5.31,0,0,0,4.9,4.9,5.31,5.31,0,0,0,6.5,1,5.31,5.31,0,0,0,8.1,4.9,5.31,5.31,0,0,0,12,6.5,5.46,5.46,0,0,0,6.5,12Z\"/>\n",
              "  </svg>\n",
              "    </button>\n",
              "    <script>\n",
              "      (() => {\n",
              "      const buttonEl =\n",
              "        document.querySelector('#id_f47a7acc-0fe2-4bd4-adb2-c8c84e2620ff button.colab-df-generate');\n",
              "      buttonEl.style.display =\n",
              "        google.colab.kernel.accessAllowed ? 'block' : 'none';\n",
              "\n",
              "      buttonEl.onclick = () => {\n",
              "        google.colab.notebook.generateWithVariable('general');\n",
              "      }\n",
              "      })();\n",
              "    </script>\n",
              "  </div>\n",
              "\n",
              "    </div>\n",
              "  </div>\n"
            ],
            "application/vnd.google.colaboratory.intrinsic+json": {
              "type": "dataframe",
              "variable_name": "general",
              "summary": "{\n  \"name\": \"general\",\n  \"rows\": 10000,\n  \"fields\": [\n    {\n      \"column\": \"Path\",\n      \"properties\": {\n        \"dtype\": \"string\",\n        \"num_unique_values\": 10000,\n        \"samples\": [\n          \"/content/drive/MyDrive/project/data_aihub/5_2/5f6a37879e04b149046cba16.wav\",\n          \"/content/drive/MyDrive/project/data_aihub/5_2/5f64b7dc111dfd48d40fc998.wav\",\n          \"/content/drive/MyDrive/project/data_aihub/5/5f053ed7b140144dfcfef873.wav\"\n        ],\n        \"semantic_type\": \"\",\n        \"description\": \"\"\n      }\n    },\n    {\n      \"column\": \"Text\",\n      \"properties\": {\n        \"dtype\": \"string\",\n        \"num_unique_values\": 10000,\n        \"samples\": [\n          \"\\ub0b4\\uc77c \\uce5c\\uad6c\\ub791 \\ub9cc\\ub098\\ub294\\ub370 \\ubb58 \\uba39\\uc5b4\\uc57c \\ub420\\uc9c0 \\uace0\\ubbfc\\uc774\\uc57c.\",\n          \"\\uadf8\\ub54c\\ub294 \\uc815\\ub9d0 \\ub180\\ub790\\ub294\\ub370 \\uc9c0\\uae08\\uc740 \\uadf8\\ub807\\uac8c \\ub180\\ub784 \\ud544\\uc694\\ub3c4 \\uc5c6\\ub294 \\uc18c\\ub9ac\\uac19\\uc558\\uc5b4.\",\n          \"\\uc5f0\\ub77d\\ub3c4 \\uc5c6\\uace0 \\uc5b4\\ub5bb\\uac8c \\ub41c \\uac74\\uc9c0 \\uc54c \\uc218\\uac00 \\uc5c6\\uc5b4 \\uc774\\ub807\\uac8c \\uc790\\uafb8 \\uae30\\ub2e4\\ub824\\ub3c4 \\ub418\\ub294 \\uac74\\uc9c0.\\t\"\n        ],\n        \"semantic_type\": \"\",\n        \"description\": \"\"\n      }\n    }\n  ]\n}"
            }
          },
          "metadata": {},
          "execution_count": 7
        }
      ]
    },
    {
      "cell_type": "markdown",
      "source": [
        "## 데이터 개수 확인"
      ],
      "metadata": {
        "id": "_-3XijEY6bEE"
      }
    },
    {
      "cell_type": "code",
      "source": [
        "print(general.info())"
      ],
      "metadata": {
        "colab": {
          "base_uri": "https://localhost:8080/"
        },
        "id": "5XwHFpTS6UnK",
        "outputId": "02be2a73-935e-4a60-b3d2-21e93246aef4"
      },
      "execution_count": 8,
      "outputs": [
        {
          "output_type": "stream",
          "name": "stdout",
          "text": [
            "<class 'pandas.core.frame.DataFrame'>\n",
            "RangeIndex: 10000 entries, 0 to 9999\n",
            "Data columns (total 2 columns):\n",
            " #   Column  Non-Null Count  Dtype \n",
            "---  ------  --------------  ----- \n",
            " 0   Path    10000 non-null  object\n",
            " 1   Text    10000 non-null  object\n",
            "dtypes: object(2)\n",
            "memory usage: 156.4+ KB\n",
            "None\n"
          ]
        }
      ]
    },
    {
      "cell_type": "code",
      "source": [
        "print(general.describe())"
      ],
      "metadata": {
        "colab": {
          "base_uri": "https://localhost:8080/"
        },
        "id": "ZGcWXlmU6sv3",
        "outputId": "4a691895-80ce-4f43-f0f3-e3e4c441921e"
      },
      "execution_count": 9,
      "outputs": [
        {
          "output_type": "stream",
          "name": "stdout",
          "text": [
            "                                                     Path  \\\n",
            "count                                               10000   \n",
            "unique                                              10000   \n",
            "top     /content/drive/MyDrive/project/data_aihub/4/5e...   \n",
            "freq                                                    1   \n",
            "\n",
            "                                     Text  \n",
            "count                               10000  \n",
            "unique                              10000  \n",
            "top     편하게 좋은 곳으로 갔겠지? 응. 힘을 내야되는데 어떡하지.  \n",
            "freq                                    1  \n"
          ]
        }
      ]
    },
    {
      "cell_type": "code",
      "source": [
        "missing_text = general[general['Text'] == '']\n",
        "print(f\"빈 텍스트 개수: {len(missing_text)}\")"
      ],
      "metadata": {
        "colab": {
          "base_uri": "https://localhost:8080/"
        },
        "id": "Kyv0FsCz6w2k",
        "outputId": "a388b372-571a-46bc-bec7-cca4cc19453d"
      },
      "execution_count": 10,
      "outputs": [
        {
          "output_type": "stream",
          "name": "stdout",
          "text": [
            "빈 텍스트 개수: 0\n"
          ]
        }
      ]
    },
    {
      "cell_type": "code",
      "source": [
        "duplicate_texts = general['Text'].duplicated().sum()\n",
        "print(f\"중복된 텍스트 개수: {duplicate_texts}\")"
      ],
      "metadata": {
        "colab": {
          "base_uri": "https://localhost:8080/"
        },
        "id": "z4ZzlRWg62w2",
        "outputId": "ceada80e-e6fc-4dc8-f6c2-feb405b2b865"
      },
      "execution_count": 11,
      "outputs": [
        {
          "output_type": "stream",
          "name": "stdout",
          "text": [
            "중복된 텍스트 개수: 0\n"
          ]
        }
      ]
    },
    {
      "cell_type": "markdown",
      "source": [
        "## 음성 파일 길이 분석"
      ],
      "metadata": {
        "id": "hE9xQTQK7LCy"
      }
    },
    {
      "cell_type": "code",
      "source": [
        "def get_audio_length(path):\n",
        "  audio = AudioSegment.from_wav(path)\n",
        "  return len(audio) / 1000"
      ],
      "metadata": {
        "id": "YiBiZ-Dy7MpK"
      },
      "execution_count": 12,
      "outputs": []
    },
    {
      "cell_type": "code",
      "source": [
        "general['Audio_Length'] = [get_audio_length(path) for path in tqdm(general['Path'])]"
      ],
      "metadata": {
        "colab": {
          "base_uri": "https://localhost:8080/"
        },
        "id": "SuMgOhdG7VZS",
        "outputId": "421e2b25-2c3a-4bf8-cab6-ded382ccf9ff"
      },
      "execution_count": null,
      "outputs": [
        {
          "output_type": "stream",
          "name": "stderr",
          "text": [
            " 22%|██▏       | 2230/10000 [24:44<1:34:09,  1.38it/s]"
          ]
        }
      ]
    },
    {
      "cell_type": "code",
      "source": [
        "plt.figure(figsize = (10, 6))\n",
        "plt.hist(general['Audio_Length'], bins = 30, color = 'blue', alpha = 0.7)\n",
        "plt.title('Distribution of Audio Lengths')\n",
        "plt.xlabel('Audio Length (seconds)')\n",
        "plt.ylabel('Frequency')\n",
        "plt.show()"
      ],
      "metadata": {
        "id": "xCXw2nkyE-ff"
      },
      "execution_count": null,
      "outputs": []
    },
    {
      "cell_type": "markdown",
      "source": [
        "## 텍스트 분석"
      ],
      "metadata": {
        "id": "8gTlgSUC8U6I"
      }
    },
    {
      "cell_type": "markdown",
      "source": [
        "### 불필요한 기호 제거"
      ],
      "metadata": {
        "id": "2lVRPwqKDUs-"
      }
    },
    {
      "cell_type": "code",
      "source": [
        "def clean_text(text):\n",
        "    cleaned_text = re.sub(r'[+u/I*]', '', text)\n",
        "    return cleaned_text"
      ],
      "metadata": {
        "id": "o6re5_ksDu12"
      },
      "execution_count": null,
      "outputs": []
    },
    {
      "cell_type": "code",
      "source": [
        "general['Cleaned_Text'] = general['Text'].apply(clean_text)"
      ],
      "metadata": {
        "id": "E6P8YmllEDLJ"
      },
      "execution_count": null,
      "outputs": []
    },
    {
      "cell_type": "code",
      "source": [
        "print(general[['Text', 'Cleaned_Text']].head())"
      ],
      "metadata": {
        "id": "1DRHjt6UEExH"
      },
      "execution_count": null,
      "outputs": []
    },
    {
      "cell_type": "markdown",
      "source": [
        "### 텍스트 길이 분석"
      ],
      "metadata": {
        "id": "rVm_LT6G9gc1"
      }
    },
    {
      "cell_type": "code",
      "source": [
        "general['Text_Length'] = general['Text'].apply(len)"
      ],
      "metadata": {
        "id": "qgTaXlnV8WNS"
      },
      "execution_count": null,
      "outputs": []
    },
    {
      "cell_type": "code",
      "source": [
        "print(general[['Text', 'Text_Length']].head())"
      ],
      "metadata": {
        "id": "AMiFSoMg9Y4b"
      },
      "execution_count": null,
      "outputs": []
    },
    {
      "cell_type": "code",
      "source": [
        "plt.figure(figsize = (10, 6))\n",
        "plt.hist(general['Text_Length'], bins = 30, color = 'blue', alpha = 0.7)\n",
        "plt.title('Distribution of Text Lengths')\n",
        "plt.xlabel('Text Length (characters)')\n",
        "plt.ylabel('Frequency')\n",
        "plt.show()"
      ],
      "metadata": {
        "id": "H0oJE0Hi9P_R"
      },
      "execution_count": null,
      "outputs": []
    },
    {
      "cell_type": "markdown",
      "source": [
        "### 빈 텍스트 확인"
      ],
      "metadata": {
        "id": "EKWkF9eP9jSi"
      }
    },
    {
      "cell_type": "code",
      "source": [
        "empty_texts = general[general['Text_Length'] == 0]\n",
        "print(f\"빈 텍스트 개수: {len(empty_texts)}\")"
      ],
      "metadata": {
        "id": "Z1wWnmeZ9n5p"
      },
      "execution_count": null,
      "outputs": []
    },
    {
      "cell_type": "markdown",
      "source": [
        "### 중복된 텍스트 확인"
      ],
      "metadata": {
        "id": "CABj34rK9lbp"
      }
    },
    {
      "cell_type": "code",
      "source": [
        "duplicate_texts = general[general['Text'].duplicated()]\n",
        "print(f\"중복된 텍스트 개수: {len(duplicate_texts)}\")"
      ],
      "metadata": {
        "id": "7iM4Sx329sef"
      },
      "execution_count": null,
      "outputs": []
    },
    {
      "cell_type": "code",
      "source": [
        "general"
      ],
      "metadata": {
        "id": "Nma_LBzCWeSn"
      },
      "execution_count": null,
      "outputs": []
    },
    {
      "cell_type": "code",
      "source": [
        "general.to_csv('general_eda.csv', index = False, encoding = 'utf-8-sig')"
      ],
      "metadata": {
        "id": "JsnHeaiEJGNT"
      },
      "execution_count": null,
      "outputs": []
    },
    {
      "cell_type": "markdown",
      "source": [
        "# 구음 장애 음성 데이터"
      ],
      "metadata": {
        "id": "1583oTZDXVdz"
      }
    },
    {
      "cell_type": "code",
      "source": [
        "disorder = pd.read_csv('disorder.csv')"
      ],
      "metadata": {
        "id": "QwYO1znWXbqq"
      },
      "execution_count": null,
      "outputs": []
    },
    {
      "cell_type": "code",
      "source": [
        "disorder"
      ],
      "metadata": {
        "id": "LUQk2r3FXjhj",
        "outputId": "6e77383e-2ee8-48a4-a226-3f5c25ec3218",
        "colab": {
          "base_uri": "https://localhost:8080/",
          "height": 424
        }
      },
      "execution_count": null,
      "outputs": [
        {
          "output_type": "execute_result",
          "data": {
            "text/plain": [
              "                                                  Path  \\\n",
              "0    /content/drive/MyDrive/project/data/Training/w...   \n",
              "1    /content/drive/MyDrive/project/data/Training/w...   \n",
              "2    /content/drive/MyDrive/project/data/Training/w...   \n",
              "3    /content/drive/MyDrive/project/data/Training/w...   \n",
              "4    /content/drive/MyDrive/project/data/Training/w...   \n",
              "..                                                 ...   \n",
              "309  /content/drive/MyDrive/project/data/Training/w...   \n",
              "310  /content/drive/MyDrive/project/data/Training/w...   \n",
              "311  /content/drive/MyDrive/project/data/Training/w...   \n",
              "312  /content/drive/MyDrive/project/data/Training/w...   \n",
              "313  /content/drive/MyDrive/project/data/Training/w...   \n",
              "\n",
              "                                                  Text  \n",
              "0    미영이랑 나연이는 단짝입니다. 미영이와 나연이는 노래하며 놉니다. 마루 위에 나란히...  \n",
              "1    거울 안경 전화 신발 나무 가위 사과 모자 풍선 당근 연필 기차 날개 창문 동생 약...  \n",
              "2    나는 바지를 입고 단추를 채웁니다. 책상 위에 가방이 있습니다. 가방에 사탕과 연필...  \n",
              "3    새 해 배 개 집 일 입 이 꿀 불 귤 물 피 쥐 비 귀 콩 돈 공 손 풀 붓 뿔 ...  \n",
              "4    바지 단추 책상 가방 사탕 연필 자동차 동물원 엄마 뽀뽀 호랑이 꼬리 코끼리 땅콩 ...  \n",
              "..                                                 ...  \n",
              "309  제 나이는 서른 일곱 살입니다. 저는 용 띠입니다. 제가 태어난 곳은 동해시이고 주...  \n",
              "310  100만원 태국 돈으로 얼마야? 10월 14일 로또 당첨자 알려 줘 10월 16일 ...  \n",
              "311  거짓말을 하는 것이 분명합니다. 고기는 좋아하지만 생선은 싫어한다. 기차를 탈 분은...  \n",
              "312  100만원 태국 돈으로 얼마야? 10월 14일 로또 당첨자 알려 줘 10월 16일 ...  \n",
              "313  지하철은 어디에서 타요? 여기 엘리베이터를 타고 지하 일층으로 내려가세요. 티머니 ...  \n",
              "\n",
              "[314 rows x 2 columns]"
            ],
            "text/html": [
              "\n",
              "  <div id=\"df-120a32f5-8c91-42d7-8627-608391976b78\" class=\"colab-df-container\">\n",
              "    <div>\n",
              "<style scoped>\n",
              "    .dataframe tbody tr th:only-of-type {\n",
              "        vertical-align: middle;\n",
              "    }\n",
              "\n",
              "    .dataframe tbody tr th {\n",
              "        vertical-align: top;\n",
              "    }\n",
              "\n",
              "    .dataframe thead th {\n",
              "        text-align: right;\n",
              "    }\n",
              "</style>\n",
              "<table border=\"1\" class=\"dataframe\">\n",
              "  <thead>\n",
              "    <tr style=\"text-align: right;\">\n",
              "      <th></th>\n",
              "      <th>Path</th>\n",
              "      <th>Text</th>\n",
              "    </tr>\n",
              "  </thead>\n",
              "  <tbody>\n",
              "    <tr>\n",
              "      <th>0</th>\n",
              "      <td>/content/drive/MyDrive/project/data/Training/w...</td>\n",
              "      <td>미영이랑 나연이는 단짝입니다. 미영이와 나연이는 노래하며 놉니다. 마루 위에 나란히...</td>\n",
              "    </tr>\n",
              "    <tr>\n",
              "      <th>1</th>\n",
              "      <td>/content/drive/MyDrive/project/data/Training/w...</td>\n",
              "      <td>거울 안경 전화 신발 나무 가위 사과 모자 풍선 당근 연필 기차 날개 창문 동생 약...</td>\n",
              "    </tr>\n",
              "    <tr>\n",
              "      <th>2</th>\n",
              "      <td>/content/drive/MyDrive/project/data/Training/w...</td>\n",
              "      <td>나는 바지를 입고 단추를 채웁니다. 책상 위에 가방이 있습니다. 가방에 사탕과 연필...</td>\n",
              "    </tr>\n",
              "    <tr>\n",
              "      <th>3</th>\n",
              "      <td>/content/drive/MyDrive/project/data/Training/w...</td>\n",
              "      <td>새 해 배 개 집 일 입 이 꿀 불 귤 물 피 쥐 비 귀 콩 돈 공 손 풀 붓 뿔 ...</td>\n",
              "    </tr>\n",
              "    <tr>\n",
              "      <th>4</th>\n",
              "      <td>/content/drive/MyDrive/project/data/Training/w...</td>\n",
              "      <td>바지 단추 책상 가방 사탕 연필 자동차 동물원 엄마 뽀뽀 호랑이 꼬리 코끼리 땅콩 ...</td>\n",
              "    </tr>\n",
              "    <tr>\n",
              "      <th>...</th>\n",
              "      <td>...</td>\n",
              "      <td>...</td>\n",
              "    </tr>\n",
              "    <tr>\n",
              "      <th>309</th>\n",
              "      <td>/content/drive/MyDrive/project/data/Training/w...</td>\n",
              "      <td>제 나이는 서른 일곱 살입니다. 저는 용 띠입니다. 제가 태어난 곳은 동해시이고 주...</td>\n",
              "    </tr>\n",
              "    <tr>\n",
              "      <th>310</th>\n",
              "      <td>/content/drive/MyDrive/project/data/Training/w...</td>\n",
              "      <td>100만원 태국 돈으로 얼마야? 10월 14일 로또 당첨자 알려 줘 10월 16일 ...</td>\n",
              "    </tr>\n",
              "    <tr>\n",
              "      <th>311</th>\n",
              "      <td>/content/drive/MyDrive/project/data/Training/w...</td>\n",
              "      <td>거짓말을 하는 것이 분명합니다. 고기는 좋아하지만 생선은 싫어한다. 기차를 탈 분은...</td>\n",
              "    </tr>\n",
              "    <tr>\n",
              "      <th>312</th>\n",
              "      <td>/content/drive/MyDrive/project/data/Training/w...</td>\n",
              "      <td>100만원 태국 돈으로 얼마야? 10월 14일 로또 당첨자 알려 줘 10월 16일 ...</td>\n",
              "    </tr>\n",
              "    <tr>\n",
              "      <th>313</th>\n",
              "      <td>/content/drive/MyDrive/project/data/Training/w...</td>\n",
              "      <td>지하철은 어디에서 타요? 여기 엘리베이터를 타고 지하 일층으로 내려가세요. 티머니 ...</td>\n",
              "    </tr>\n",
              "  </tbody>\n",
              "</table>\n",
              "<p>314 rows × 2 columns</p>\n",
              "</div>\n",
              "    <div class=\"colab-df-buttons\">\n",
              "\n",
              "  <div class=\"colab-df-container\">\n",
              "    <button class=\"colab-df-convert\" onclick=\"convertToInteractive('df-120a32f5-8c91-42d7-8627-608391976b78')\"\n",
              "            title=\"Convert this dataframe to an interactive table.\"\n",
              "            style=\"display:none;\">\n",
              "\n",
              "  <svg xmlns=\"http://www.w3.org/2000/svg\" height=\"24px\" viewBox=\"0 -960 960 960\">\n",
              "    <path d=\"M120-120v-720h720v720H120Zm60-500h600v-160H180v160Zm220 220h160v-160H400v160Zm0 220h160v-160H400v160ZM180-400h160v-160H180v160Zm440 0h160v-160H620v160ZM180-180h160v-160H180v160Zm440 0h160v-160H620v160Z\"/>\n",
              "  </svg>\n",
              "    </button>\n",
              "\n",
              "  <style>\n",
              "    .colab-df-container {\n",
              "      display:flex;\n",
              "      gap: 12px;\n",
              "    }\n",
              "\n",
              "    .colab-df-convert {\n",
              "      background-color: #E8F0FE;\n",
              "      border: none;\n",
              "      border-radius: 50%;\n",
              "      cursor: pointer;\n",
              "      display: none;\n",
              "      fill: #1967D2;\n",
              "      height: 32px;\n",
              "      padding: 0 0 0 0;\n",
              "      width: 32px;\n",
              "    }\n",
              "\n",
              "    .colab-df-convert:hover {\n",
              "      background-color: #E2EBFA;\n",
              "      box-shadow: 0px 1px 2px rgba(60, 64, 67, 0.3), 0px 1px 3px 1px rgba(60, 64, 67, 0.15);\n",
              "      fill: #174EA6;\n",
              "    }\n",
              "\n",
              "    .colab-df-buttons div {\n",
              "      margin-bottom: 4px;\n",
              "    }\n",
              "\n",
              "    [theme=dark] .colab-df-convert {\n",
              "      background-color: #3B4455;\n",
              "      fill: #D2E3FC;\n",
              "    }\n",
              "\n",
              "    [theme=dark] .colab-df-convert:hover {\n",
              "      background-color: #434B5C;\n",
              "      box-shadow: 0px 1px 3px 1px rgba(0, 0, 0, 0.15);\n",
              "      filter: drop-shadow(0px 1px 2px rgba(0, 0, 0, 0.3));\n",
              "      fill: #FFFFFF;\n",
              "    }\n",
              "  </style>\n",
              "\n",
              "    <script>\n",
              "      const buttonEl =\n",
              "        document.querySelector('#df-120a32f5-8c91-42d7-8627-608391976b78 button.colab-df-convert');\n",
              "      buttonEl.style.display =\n",
              "        google.colab.kernel.accessAllowed ? 'block' : 'none';\n",
              "\n",
              "      async function convertToInteractive(key) {\n",
              "        const element = document.querySelector('#df-120a32f5-8c91-42d7-8627-608391976b78');\n",
              "        const dataTable =\n",
              "          await google.colab.kernel.invokeFunction('convertToInteractive',\n",
              "                                                    [key], {});\n",
              "        if (!dataTable) return;\n",
              "\n",
              "        const docLinkHtml = 'Like what you see? Visit the ' +\n",
              "          '<a target=\"_blank\" href=https://colab.research.google.com/notebooks/data_table.ipynb>data table notebook</a>'\n",
              "          + ' to learn more about interactive tables.';\n",
              "        element.innerHTML = '';\n",
              "        dataTable['output_type'] = 'display_data';\n",
              "        await google.colab.output.renderOutput(dataTable, element);\n",
              "        const docLink = document.createElement('div');\n",
              "        docLink.innerHTML = docLinkHtml;\n",
              "        element.appendChild(docLink);\n",
              "      }\n",
              "    </script>\n",
              "  </div>\n",
              "\n",
              "\n",
              "<div id=\"df-371ee721-c283-4014-890f-891b32508041\">\n",
              "  <button class=\"colab-df-quickchart\" onclick=\"quickchart('df-371ee721-c283-4014-890f-891b32508041')\"\n",
              "            title=\"Suggest charts\"\n",
              "            style=\"display:none;\">\n",
              "\n",
              "<svg xmlns=\"http://www.w3.org/2000/svg\" height=\"24px\"viewBox=\"0 0 24 24\"\n",
              "     width=\"24px\">\n",
              "    <g>\n",
              "        <path d=\"M19 3H5c-1.1 0-2 .9-2 2v14c0 1.1.9 2 2 2h14c1.1 0 2-.9 2-2V5c0-1.1-.9-2-2-2zM9 17H7v-7h2v7zm4 0h-2V7h2v10zm4 0h-2v-4h2v4z\"/>\n",
              "    </g>\n",
              "</svg>\n",
              "  </button>\n",
              "\n",
              "<style>\n",
              "  .colab-df-quickchart {\n",
              "      --bg-color: #E8F0FE;\n",
              "      --fill-color: #1967D2;\n",
              "      --hover-bg-color: #E2EBFA;\n",
              "      --hover-fill-color: #174EA6;\n",
              "      --disabled-fill-color: #AAA;\n",
              "      --disabled-bg-color: #DDD;\n",
              "  }\n",
              "\n",
              "  [theme=dark] .colab-df-quickchart {\n",
              "      --bg-color: #3B4455;\n",
              "      --fill-color: #D2E3FC;\n",
              "      --hover-bg-color: #434B5C;\n",
              "      --hover-fill-color: #FFFFFF;\n",
              "      --disabled-bg-color: #3B4455;\n",
              "      --disabled-fill-color: #666;\n",
              "  }\n",
              "\n",
              "  .colab-df-quickchart {\n",
              "    background-color: var(--bg-color);\n",
              "    border: none;\n",
              "    border-radius: 50%;\n",
              "    cursor: pointer;\n",
              "    display: none;\n",
              "    fill: var(--fill-color);\n",
              "    height: 32px;\n",
              "    padding: 0;\n",
              "    width: 32px;\n",
              "  }\n",
              "\n",
              "  .colab-df-quickchart:hover {\n",
              "    background-color: var(--hover-bg-color);\n",
              "    box-shadow: 0 1px 2px rgba(60, 64, 67, 0.3), 0 1px 3px 1px rgba(60, 64, 67, 0.15);\n",
              "    fill: var(--button-hover-fill-color);\n",
              "  }\n",
              "\n",
              "  .colab-df-quickchart-complete:disabled,\n",
              "  .colab-df-quickchart-complete:disabled:hover {\n",
              "    background-color: var(--disabled-bg-color);\n",
              "    fill: var(--disabled-fill-color);\n",
              "    box-shadow: none;\n",
              "  }\n",
              "\n",
              "  .colab-df-spinner {\n",
              "    border: 2px solid var(--fill-color);\n",
              "    border-color: transparent;\n",
              "    border-bottom-color: var(--fill-color);\n",
              "    animation:\n",
              "      spin 1s steps(1) infinite;\n",
              "  }\n",
              "\n",
              "  @keyframes spin {\n",
              "    0% {\n",
              "      border-color: transparent;\n",
              "      border-bottom-color: var(--fill-color);\n",
              "      border-left-color: var(--fill-color);\n",
              "    }\n",
              "    20% {\n",
              "      border-color: transparent;\n",
              "      border-left-color: var(--fill-color);\n",
              "      border-top-color: var(--fill-color);\n",
              "    }\n",
              "    30% {\n",
              "      border-color: transparent;\n",
              "      border-left-color: var(--fill-color);\n",
              "      border-top-color: var(--fill-color);\n",
              "      border-right-color: var(--fill-color);\n",
              "    }\n",
              "    40% {\n",
              "      border-color: transparent;\n",
              "      border-right-color: var(--fill-color);\n",
              "      border-top-color: var(--fill-color);\n",
              "    }\n",
              "    60% {\n",
              "      border-color: transparent;\n",
              "      border-right-color: var(--fill-color);\n",
              "    }\n",
              "    80% {\n",
              "      border-color: transparent;\n",
              "      border-right-color: var(--fill-color);\n",
              "      border-bottom-color: var(--fill-color);\n",
              "    }\n",
              "    90% {\n",
              "      border-color: transparent;\n",
              "      border-bottom-color: var(--fill-color);\n",
              "    }\n",
              "  }\n",
              "</style>\n",
              "\n",
              "  <script>\n",
              "    async function quickchart(key) {\n",
              "      const quickchartButtonEl =\n",
              "        document.querySelector('#' + key + ' button');\n",
              "      quickchartButtonEl.disabled = true;  // To prevent multiple clicks.\n",
              "      quickchartButtonEl.classList.add('colab-df-spinner');\n",
              "      try {\n",
              "        const charts = await google.colab.kernel.invokeFunction(\n",
              "            'suggestCharts', [key], {});\n",
              "      } catch (error) {\n",
              "        console.error('Error during call to suggestCharts:', error);\n",
              "      }\n",
              "      quickchartButtonEl.classList.remove('colab-df-spinner');\n",
              "      quickchartButtonEl.classList.add('colab-df-quickchart-complete');\n",
              "    }\n",
              "    (() => {\n",
              "      let quickchartButtonEl =\n",
              "        document.querySelector('#df-371ee721-c283-4014-890f-891b32508041 button');\n",
              "      quickchartButtonEl.style.display =\n",
              "        google.colab.kernel.accessAllowed ? 'block' : 'none';\n",
              "    })();\n",
              "  </script>\n",
              "</div>\n",
              "\n",
              "  <div id=\"id_1df4c9bb-d383-4948-a4b4-99220e15c5d2\">\n",
              "    <style>\n",
              "      .colab-df-generate {\n",
              "        background-color: #E8F0FE;\n",
              "        border: none;\n",
              "        border-radius: 50%;\n",
              "        cursor: pointer;\n",
              "        display: none;\n",
              "        fill: #1967D2;\n",
              "        height: 32px;\n",
              "        padding: 0 0 0 0;\n",
              "        width: 32px;\n",
              "      }\n",
              "\n",
              "      .colab-df-generate:hover {\n",
              "        background-color: #E2EBFA;\n",
              "        box-shadow: 0px 1px 2px rgba(60, 64, 67, 0.3), 0px 1px 3px 1px rgba(60, 64, 67, 0.15);\n",
              "        fill: #174EA6;\n",
              "      }\n",
              "\n",
              "      [theme=dark] .colab-df-generate {\n",
              "        background-color: #3B4455;\n",
              "        fill: #D2E3FC;\n",
              "      }\n",
              "\n",
              "      [theme=dark] .colab-df-generate:hover {\n",
              "        background-color: #434B5C;\n",
              "        box-shadow: 0px 1px 3px 1px rgba(0, 0, 0, 0.15);\n",
              "        filter: drop-shadow(0px 1px 2px rgba(0, 0, 0, 0.3));\n",
              "        fill: #FFFFFF;\n",
              "      }\n",
              "    </style>\n",
              "    <button class=\"colab-df-generate\" onclick=\"generateWithVariable('disorder')\"\n",
              "            title=\"Generate code using this dataframe.\"\n",
              "            style=\"display:none;\">\n",
              "\n",
              "  <svg xmlns=\"http://www.w3.org/2000/svg\" height=\"24px\"viewBox=\"0 0 24 24\"\n",
              "       width=\"24px\">\n",
              "    <path d=\"M7,19H8.4L18.45,9,17,7.55,7,17.6ZM5,21V16.75L18.45,3.32a2,2,0,0,1,2.83,0l1.4,1.43a1.91,1.91,0,0,1,.58,1.4,1.91,1.91,0,0,1-.58,1.4L9.25,21ZM18.45,9,17,7.55Zm-12,3A5.31,5.31,0,0,0,4.9,8.1,5.31,5.31,0,0,0,1,6.5,5.31,5.31,0,0,0,4.9,4.9,5.31,5.31,0,0,0,6.5,1,5.31,5.31,0,0,0,8.1,4.9,5.31,5.31,0,0,0,12,6.5,5.46,5.46,0,0,0,6.5,12Z\"/>\n",
              "  </svg>\n",
              "    </button>\n",
              "    <script>\n",
              "      (() => {\n",
              "      const buttonEl =\n",
              "        document.querySelector('#id_1df4c9bb-d383-4948-a4b4-99220e15c5d2 button.colab-df-generate');\n",
              "      buttonEl.style.display =\n",
              "        google.colab.kernel.accessAllowed ? 'block' : 'none';\n",
              "\n",
              "      buttonEl.onclick = () => {\n",
              "        google.colab.notebook.generateWithVariable('disorder');\n",
              "      }\n",
              "      })();\n",
              "    </script>\n",
              "  </div>\n",
              "\n",
              "    </div>\n",
              "  </div>\n"
            ],
            "application/vnd.google.colaboratory.intrinsic+json": {
              "type": "dataframe",
              "variable_name": "disorder",
              "summary": "{\n  \"name\": \"disorder\",\n  \"rows\": 314,\n  \"fields\": [\n    {\n      \"column\": \"Path\",\n      \"properties\": {\n        \"dtype\": \"string\",\n        \"num_unique_values\": 314,\n        \"samples\": [\n          \"/content/drive/MyDrive/project/data/Training/wav/26_1/ID-02-26-N-SJH-03-M-63-KK.wav\",\n          \"/content/drive/MyDrive/project/data/Training/wav/25/ID-02-25-N-YJA-04-F-29-KK.wav\",\n          \"/content/drive/MyDrive/project/data/Training/wav/26_1/ID-02-26-N-PJM-02-04-F-38-CC1.wav\"\n        ],\n        \"semantic_type\": \"\",\n        \"description\": \"\"\n      }\n    },\n    {\n      \"column\": \"Text\",\n      \"properties\": {\n        \"dtype\": \"string\",\n        \"num_unique_values\": 314,\n        \"samples\": [\n          \"\\uc81c \\ub098\\uc774\\ub294 \\uc721\\uc2ed \\uc0ac \\uc0b4\\uc785\\ub2c8\\ub2e4. \\uc800\\ub294 \\uac1c\\ub760\\uc785\\ub2c8\\ub2e4. \\uc81c\\uac00 \\ud0dc\\uc5b4\\ub09c \\uacf3\\uc740 \\uc778\\ucc9c\\uc2dc \\ub0a8\\ub3d9\\uad6c\\uc774\\uace0 \\uc8fc\\ub85c \\uc0b0 \\uacf3\\uc740 \\uc778\\ucc9c\\uc2dc \\ub0a8\\ub3d9\\uad6c\\uc785\\ub2c8\\ub2e4. \\ucd9c\\uc0dd+ \\ucd9c\\uc0dd\\uc9c0\\uc778 \\uc778\\ucc9c\\uc2dc\\uad6c\\uc5d0\\uc11c \\uc0b4\\ub2e4\\uac00 \\uc654\\uc2b5\\ub2c8\\ub2e4. \\uc544\\ubc84\\uc9c0 \\ucd9c\\uc0dd*+ \\ucd9c\\uc0dd \\uc9c0\\uc5ed \\ucd9c\\uc2e0\\uc774\\uace0 \\uc5b4\\uba38\\ub2c8\\ub294 \\uc804\\ub0a8 \\uc9c0\\uc5ed \\ucd9c\\uc2e0\\uc785\\ub2c8\\ub2e4. \\uc81c \\uc704\\ub85c\\ub294 \\ud615 \\uc138 \\uba85\\uc774 \\uc788\\uace0 \\uc544\\ub798\\ub85c \\ub0a8\\ub3d9\\uc0dd \\ud55c \\uba85\\uc774 \\uc788\\uc2b5\\ub2c8\\ub2e4. \\uc6b0\\ub9ac \\uac00\\uc871\\uc740 \\ub2e4\\uc12f \\uba85\\uc774\\uace0 \\uadf8\\ub9ac\\uace0 \\uc800\\uc774\\uace0 \\uadf8\\ub798\\uc11c \\ubaa8\\ub450 \\uc721 \\uba85\\uc785\\ub2c8\\ub2e4. \\uc9c0\\uae08 \\uc800\\ub791 \\uac19\\uc774 \\uc0b4\\uace0 \\uc788\\ub294 \\uc0ac\\ub78c\\uc740 \\uc544\\ub0b4\\uc640 \\uc544\\ub4e4\\uc785\\ub2c8\\ub2e4. \\uac00\\uc871\\uacfc \\uc8fc\\ub85c \\ud558\\ub294 \\uc774\\uc57c\\uae30\\ub294 \\uc5b4/  \\ub300\\ud55c \\uac83\\uc785\\ub2c8\\ub2e4. \\uce5c\\uad6c\\uc640 \\uc8fc\\ub85c \\ud558\\ub294 \\uc774\\uc57c\\uae30\\ub294 \\ucf54\\ub85c\\ub098\\uc5d0 \\ub300\\ud55c \\uac83\\uc785\\ub2c8\\ub2e4. \\uc800\\ub294 \\ud3c9\\uc18c\\uc5d0 \\uc8fc\\ub85c \\uc790\\uc804\\uac70\\ub97c \\ud0c0\\uace0 \\ub2e4\\ub2d9\\ub2c8\\ub2e4. \\uc6b0\\ub9ac \\ub3d9\\ub124\\ub294 \\uad50\\ud1b5\\uc774 \\ud3b8\\ub9ac\\ud569\\ub2c8\\ub2e4. \\uad50\\ud1b5\\uc774 \\ud3b8\\ub9ac\\ud55c \\uc774\\uc720\\ub294 \\uc9c0\\ud558\\ucca0 \\ub54c\\ubb38\\uc785\\ub2c8\\ub2e4.  \\uc6b0\\ub9ac \\uc9d1\\uc5d0\\uc11c \\uc11c\\uc6b8\\uc5ed\\uc5d0 \\uac00\\ub824\\uba74 \\uc800+ \\uc804\\ucca0\\uc744 \\ud0c0\\uace0 \\uac00\\uc57c \\ud569\\ub2c8\\ub2e4. \\uc6b0\\ub9ac \\uc9d1 \\uadfc\\ucc98\\uc5d0\\ub294 \\uc774\\ub9c8\\ud2b8 \\uc2dc\\uc7a5\\uc774 \\uc788\\ub294\\ub370 \\uac78\\uc5b4\\uc11c \\uc2ed \\ubd84 \\uac70\\ub9ac\\uc5d0 \\uc788\\uc2b5\\ub2c8\\ub2e4.  \\ub098\\ub294 \\ubcf4\\ud1b5 \\uc544\\uce68 \\uc5ec\\uc12f\\uc2dc \\uc0ac+ \\uc5ec\\uc12f \\uc2dc\\uc5d0 \\uc77c\\uc5b4\\ub098\\uace0 \\ubc24 \\uc5f4 \\uc2dc\\uc5d0 \\uc7a1\\ub2c8\\ub2e4. \\uc81c\\uac00 \\uac00\\uc7a5 \\uc88b\\uc544\\ud558\\ub294 \\uc74c\\uc2dd\\uc740 \\uace0\\uae30\\uc785\\ub2c8\\ub2e4. \\uc81c \\ucde8\\ubbf8\\ub294 \\uc5e0\\ud2f0\\ube44 \\uc785\\ub2c8\\ub2e4.  \\ubb34\\uc9c0\\uac1c \\uc77c\\uacf1 \\uc0c9\\uae54\\uc740 \\uc785\\ub2c8\\ub2e4. \\uc77c\\uc8fc\\uc77c\\uc740 \\uce60 \\uc77c \\uc694\\uc77c \\uc785\\ub2c8\\ub2e4. \\uc124\\ub0a0\\uc740 \\uc785\\ub2c8\\ub2e4. \\ud06c\\ub9ac\\uc2a4\\ub9c8\\uc2a4\\ub294 \\uc2ed \\uc774 \\uc6d4 \\uc774\\uc2ed \\uc624 \\uc77c\\uc785\\ub2c8\\ub2e4. \\uc9c0\\uae08 \\uacc4\\uc808\\uc740 \\uc5ec\\ub984\\uc785\\ub2c8\\ub2e4. \\uc5b4\\uc81c\\ub294 \\ub0a0\\uc528\\uac00 \\ud478\\uadfc\\ud588\\uace0 \\uc624\\ub298 \\ub0a0\\uc528\\ub294 \\uc74c/ \\ube44\\uac00 \\uc654\\uc2b5+ \\ud574\\uac00 \\ub0ac\\ub2e4. \\uc77c \\ub144\\uc740 \\uc0bc\\ubc31 \\uc721\\uc2ed \\uc624 \\uc77c\\uc774\\uace0 \\uc77c \\uc8fc\\uc77c\\uc740 \\uce60 \\uc77c\\uc785\\ub2c8\\ub2e4. \\ud558\\ub8e8\\ub294 \\uc2a4\\ubb3c \\ub124 \\uc2dc\\uac04\\uc774\\uace0 \\uc77c \\ubd84\\uc740 \\uc721\\uc2ed \\ucd08\\uc785\\ub2c8\\ub2e4.\",\n          \"\\ubbf8\\uc601\\uc774\\ub791 \\ub098\\uc5f0\\uc774\\ub294 \\ub2e8\\uc9dd\\uc785\\ub2c8\\ub2e4. \\ubbf8\\uc601\\uc774\\uc640 \\ub098\\uc5f0\\uc774\\ub294 \\ub178\\ub798\\ub97c \\ud558\\uba70 \\ub189\\ub2c8\\ub2e4. \\ub9c8\\ub8e8 \\uc704\\uc5d0 \\ub098\\ub780\\ud788 \\ub204\\uc6cc \\ub0ad\\ub791\\ud788 \\ub178\\ub798\\ud569\\ub2c8\\ub2e4. \\ub098\\uc5f0\\uc774\\ub294 \\ub178\\ub798\\ub97c \\ub9e4\\uc6b0 \\ub9ce\\uc774 \\uc555\\ub2c8\\ub2e4. \\ub178\\ub798\\ub3c4 \\ub354 \\uc798\\ud574\\uc11c \\ubbf8\\uc601\\uc774\\uc5d0\\uac8c \\uc54c\\ub824 \\uc90d\\ub2c8\\ub2e4. \\ubbf8\\uc601\\uc774\\ub294 \\uc74c\\uc545\\uc5d0 \\uc5b4\\uc6b8\\ub9ac\\ub294 \\uc548\\ubb34\\ub97c \\ub9c8\\ub828\\ud569\\ub2c8\\ub2e4. \\uc5b4\\ub290 \\ub0a0 \\ub098\\uc5f0\\uc774\\ub294 \\ubbf8\\uc601\\uc774\\ub97c \\ub180\\ub9bd\\ub2c8\\ub2e4. \\uc790\\uae30\\ubcf4\\ub2e4 \\ub178\\ub798\\ub97c \\ubabb\\ud55c\\ub2e4\\uace0 \\ub180\\ub9bd\\ub2c8\\ub2e4. \\ubbf8\\uc601\\uc774\\ub294 \\ub0a8\\ubab0\\ub798 \\ub178\\ub798\\ub97c \\uc5f0\\ub9c8\\ud569\\ub2c8\\ub2e4. \\ubbf8\\uc601\\uc774\\uc758 \\ub2a5\\ub825\\uc774 \\ub098\\ub0a0\\uc774 \\ub298\\uc5b4\\ub0a9\\ub2c8\\ub2e4. \\uadf8\\ub798\\uc11c \\ub098\\uc5f0\\uc774\\ub294 \\ub354 \\uc774\\uc0c1 \\ubbf8\\uc601\\uc774\\ub97c \\ub180\\ub9b4 \\uc218 \\uc5c6\\uac8c \\ub418\\uc5c8\\uc2b5\\ub2c8\\ub2e4. \\ub098\\uc5f0\\uc774\\ub294 \\uc0ac\\uacfc\\ud588\\uace0 \\ub458\\uc740 \\ub2e4\\uc2dc \\uc0ac\\uc774\\uac00 \\uc88b\\uc544\\uc84c\\uc2b5\\ub2c8\\ub2e4.\",\n          \"\\uc544\\uae30 \\uc637\\uc744 \\ubc97\\uae30\\uace0 \\uc785\\ud788\\uba74\\uc11c \\ube57\\uc73c\\ub85c \\uba38\\ub9ac\\ub3c4 \\ube57\\uaca8 \\uc8fc\\uc5c8\\ub2e4. \\ubc1d\\uc740 \\ube5b\\uc73c\\ub85c \\uacf1\\ud558\\uae30 \\uacf5\\ubd80\\ub97c \\ud558\\ub2e4\\uac00 \\uae09\\ud558\\uac8c \\ucc45 \\ud55c \\uad8c\\uc744 \\uc77d\\uc5c8\\ub2e4. \\ud070 \\ube5a\\uc744 \\uc838\\uc11c \\ub9db\\uc788\\ub294 \\ucc1c\\ub2ed\\ub3c4 \\ubabb \\uba39\\uace0 \\ubc24\\ub0ae\\uc73c\\ub85c \\ub6f0\\uc5b4\\ub2e4\\ub154\\ub2e4.  \\uc0ac\\uae30\\uadf8\\ub987 \\uac00\\uac8c\\ub85c\\ubd80\\ud130 \\uc0ac\\uae30\\ub97c \\ub2f9\\ud588\\ub2e4\\ub294 \\uac78 \\uc54c\\uace0 \\uadf8\\ub4e4\\uc740 \\uc0ac\\uae30\\uac00 \\ub5a8\\uc5b4\\uc84c\\ub2e4. \\uc11c\\ub978\\uc5ec\\ub35f\\uc758 \\uae40\\uc720\\uc2e0\\uc740 \\uad8c\\ub825\\uc744 \\uc774\\uc6a9\\ud574 \\ubd88\\ubc95\\uc73c\\ub85c \\uc0dd\\uc0b0\\ub77c\\uc778\\uc744 \\uac1c\\uc870\\ud558\\uc600\\ub2e4. \\uc18c\\uc8fc\\uc640 \\uae40\\ubc25\\uacfc \\ud1b5\\ub2ed\\uc744 \\uc990\\uaca8 \\uba39\\uc740 \\uae4c\\ub2ed\\uc5d0 \\uc218\\uc77c \\ub0b4\\uc5d0 \\ub3fc\\uc9c0\\uac00 \\ub420 \\uac83 \\uac19\\ub2e4. \\uc6d0\\ub8f8\\uc5d0 \\uc0ac\\ub2c8\\uae4c \\uc808\\uc57d\\ud560 \\ud544\\uc694\\uac00 \\uc5c6\\uc5b4\\uc11c \\ubc29\\uc744 \\ubc1d\\uac8c \\ud55c\\ub2e4. \\uc77c\\uc694\\uc77c\\ub0a0\\uc5d0\\ub294 \\uc548\\uc554 \\uc77c \\ub3d9\\uc5d0\\uc11c \\uc774 \\ub3d9\\uc73c\\ub85c \\uc774\\ub3d9\\ud558\\ub294 \\uac83\\ub3c4 \\uc740\\uadfc\\ud788 \\uc77c\\uc774\\ub2e4. \\uc800 \\ubcd1\\uc5d0 \\ub4e0 \\uc57d\\uc744 \\ub9c8\\uc2dc\\uba74 \\ubcd1\\uc5d0 \\ucc28\\ub3c4\\uac00 \\uc788\\uc744 \\uac83\\uc774\\ub2e4. \\uc74c\\uc6b4\\ub860\\uc744 \\uac00\\ub974\\uce58\\uc2dc\\ub358 \\uc120 \\ub2f4\\uc784\\uc120\\uc0dd\\ub2d8\\uc740 \\ud759\\uc5d0\\uc11c \\ub113\\uc8fd\\ud55c \\uace0\\uad6c\\ub9c8\\ub97c \\uce90\\uc168\\ub2e4. \\uc11c\\uc6b8\\uc5ed\\uc5d0\\uc11c \\uae40\\uc5f0\\uc544\\ub97c \\ubcf4\\uace0 \\uadf8 \\ucc2c\\ub780\\ud55c \\ubaa8\\uc2b5\\uc5d0 \\ub10b \\ub10b\\uc774 \\ub098\\uac14\\ub2e4. \\uc0b0\\uae30\\uc2ad\\uc5d0 \\uc788\\ub294 \\uc7a5\\ubbf8\\uaf43\\uc73c\\ub85c \\uc7a5\\uc2dd\\uc744 \\ud558\\ub824\\ub2e4\\uac00 \\uac00\\uc2dc\\uc758 \\ub05d\\uc744 \\ub9cc\\uc84c\\ub2e4. \\ub2a6\\uc5ec\\ub984\\uc774\\ub098 \\uac00\\uc744\\ub0a0\\uc5d0 \\uc0c1\\uacac\\ub840\\ub97c \\ud558\\ub824\\uace0 \\uc628 \\uc628\\ub77c\\uc778\\uc73c\\ub85c \\uc2dd\\ub2f9\\uc744 \\uc608\\uc57d\\ud588\\ub2e4. \\ub113\\uac8c \\uc9c0\\uc5b4\\uc9c4 \\uc5f0\\ub959\\uad50\\uac00 \\ud6a8\\uacfc\\uc801\\uc73c\\ub85c \\uc81c \\ubaab\\uc744 \\ub2e4 \\ud574\\ub0b4\\uace0 \\uc788\\ub2e4. \\uc774 \\ubaa8 \\uc528\\uc758 \\uc774\\ubaa8\\uac00 \\ub9c8\\uce68\\ub0b4 \\uace0\\uc18c \\uc808\\ucc28\\ub97c \\ubc1f\\uac8c \\ub418\\uc5c8\\ub2e4. \\uc758\\uacac\\uc11c \\uc791\\uc131 \\uc2dc \\ub744\\uc5b4\\uc4f0\\uae30\\uc758 \\uc6d0\\uce59\\uc5d0 \\uc8fc\\uc758\\ud574 \\uc8fc\\uc2ed\\uc2dc\\uc624. \\uc544\\ub4e4\\uacfc \\ubcd1\\uc6d0\\uc5d0 \\uac00\\ubcf4\\ub2c8 \\ud558\\ud544 \\ub179 \\ub291\\ub9c9\\uc5fc\\uc774\\uc5c8\\ub2e4. \\uc560\\ub2ec\\ud508 \\uac1c\\ucc98\\ub7fc \\ud574 \\uc9c8 \\ub158\\uae4c\\uc9c0 \\uc5c4\\ub9c8\\ub97c \\uae30\\ub2e4\\ub838\\ub2e4. \\uc5b4\\uc81c\\ub294 \\ud5c8\\ub9ac\\uac00 \\uc544\\ud30c\\uc11c \\uac70\\ub3d9 \\uac70\\ub3d9\\uc774 \\ubd88\\ud3b8\\ud588\\ub2e4. \\uc5d0\\ub204\\ub9ac \\uc5c6\\uc774 \\uac8c\\uc640 \\uace0\\ub4f1\\uc5b4\\ub97c \\ud30c\\ub294 \\uc0ac\\ub78c\\ub4e4\\uc744 \\ud5e4\\uc544\\ub824 \\ubcf4\\uc558\\ub2e4. \\uc624\\uc804\\uc5d0 \\ud638\\ub8e8\\ub77c\\uae30\\ub97c \\ucc59\\uaca8\\uc11c \\uace0\\uc0ac\\uc7a5\\uc73c\\ub85c \\uac14\\ub2e4. \\uc6b0\\ub9ac\\ub294 \\ud6c4\\uc2dd\\uc73c\\ub85c \\uacfc\\uc790\\ub97c \\uba39\\uc73c\\uba70 \\uad6c\\ub984\\uc744 \\ubcf4\\uc558\\ub2e4. \\uc73c\\ub984\\uc7a5\\uc744 \\ub193\\uc544\\uc11c \\uadf8\\ub97c \\ud750\\ub290\\ub07c\\uac8c \\ub9cc\\ub4e4\\uc5c8\\ub2e4. \\uc774\\ub3d9\\ud560 \\ub54c\\ub97c \\uae30\\ub2e4\\ub9ac\\uba70 \\ud788\\ud788\\ub355\\uac70\\ub838\\ub2e4. \\uc57c\\uc0dd\\ud654 \\ud5a5\\uae30\\ub97c \\ub9e1\\uc544\\ubcf4\\ub354\\ub2c8 \\uace0\\uac1c\\ub97c \\uc57d\\uac04 \\uac38\\uc6c3\\uac70\\ub838\\ub2e4. \\uc598\\ub294 \\uc598\\uae30\\uafbc\\uc774\\ub77c \\uac54\\ubcf4\\ub2e4 \\uc598\\uae30\\ub97c \\uc798\\ud574 \\uc5ec\\ub7ec\\uac00\\uc9c0 \\ud604\\uc545\\uae30\\uac00 \\uacb0\\uc774 \\uacf1\\ub2e4. \\uc608\\uae08 \\uc0c1\\ud488\\uc758 \\ud61c\\ud0dd\\uc744 \\uacc4\\uc0b0\\ud574\\ubcf4\\uc558\\ub2e4. \\uc640\\uc804\\ub41c \\uacfc\\uac70\\uc758 \\uc77c\\uc774 \\ud654\\ub97c \\ubd88\\ub7ec\\uc654\\ub2e4. \\uc65c\\uac00\\ub9ac\\uac00 \\uad18\\uc538\\ud558\\uac8c\\ub3c4 \\ud683\\ub300\\ub97c \\ubd80\\ub7ec\\ub728\\ub838\\ub2e4. \\uc678\\uc0bc\\ucd0c\\uc740 \\uae08\\uc735\\uc5c5 \\ubd84\\uc57c\\uc758 \\ud68c\\uc2dd\\uc744 \\uad34\\ub85c\\uc6cc\\ud588\\ub2e4. \\uc694\\uc998 \\uad50\\uc0ac\\ub4e4 \\uc0ac\\uc774\\uc5d0\\uc11c \\ud6a8\\ub3c4 \\uad00\\uad11\\uc774 \\uc720\\ud589\\uc774\\ub2e4. \\uc6cc\\ub099 \\uad8c\\ub825\\uc744 \\uc88b\\uc544\\ud574\\uc11c \\ud6e8\\uc52c \\ub354 \\ud68c\\uc7a5 \\uc790\\ub9ac\\uc5d0 \\uc9d1\\ucc29\\ud588\\ub2e4. \\uc6e8\\ub529\\ub4dc\\ub808\\uc2a4\\uc5d0 \\ub300\\ud574 \\uada4\\ubcc0\\uc744 \\ub298\\uc5b4\\ub193\\uc73c\\uba70 \\ud6fc\\ubc29\\uc744 \\ub193\\uc558\\ub2e4. \\uc704\\ub300\\ud55c \\uadc0\\ub18d\\uc778\\uc744 \\ub9cc\\ub098\\uae30 \\uc704\\ud574\\uc11c \\ud718\\ud30c\\ub78c\\uc744 \\ubd88\\uba70 \\uc637 \\uc785\\uace0 \\ub098\\uac14\\ub2e4. \\uc720\\ub3c4\\ubd80\\uac00 \\ud734\\uac00\\uc9c0\\uc5d0\\uc11c \\uade4\\uc744 \\uc0ac \\uc654\\ub2e4.\\u02a8 \\uc758\\uc0ac\\ub294 \\ucd95\\uc758\\uae08\\uacfc \\ud568\\uaed8 \\ud76c\\uc18c\\uc2dd\\uc744 \\uc804\\ud588\\ub2e4. \\uac00\\ud3c9\\uc758 \\uace0\\ucd94\\ubc2d\\uc5d0\\uc11c \\uae30\\uc801\\uc801\\uc73c\\ub85c \\uad6c\\ucd9c\\ub418\\uc5c8\\ub2e4. \\uae4c\\uce58\\ub294 \\uafb8\\ubb3c\\uac70\\ub9ac\\ub2e4\\uac00 \\uad6c\\uba4d \\uc0ac\\uc774\\uc5d0 \\ub07c\\uc5c8\\ub2e4. \\ub098\\ubb34\\uc5d0 \\ub110\\ub9b0 \\ub2c8\\ud2b8\\ub4e4\\uc774 \\ub204\\uad6c\\uc758 \\uac83\\uc778\\uc9c0 \\uad81\\uae08\\ud588\\ub2e4. \\ub2e4\\ub9ac \\uc544\\ub798 \\uc0ac\\ub294 \\ub450\\ub354\\uc9c0\\ub294 \\ub545\\uc744 \\ub514\\ub51c \\uc218 \\uc5c6\\uc5c8\\ub2e4. \\ub530\\uac00\\uc6b4 \\uc790\\uc678\\uc120\\uc5d0 \\ub69c\\uaed1\\uc774 \\uac80\\uc740 \\ube5b\\uc744 \\ub760\\uc5c8\\ub2e4. \\ub77c\\uba74\\uc744 \\uba39\\uc73c\\uba74\\uc11c \\uc19c\\uc774\\ubd88 \\uc704\\uc5d0\\uc11c \\ub8e8\\ub9c8\\ub2c8\\uc544 \\ucd95\\uad6c \\ub9ac\\uadf8\\ub97c \\ubcf4\\uc558\\ub2e4. \\ub9c8\\uce68\\ub0b4 \\ubb34\\uc11c\\uc6b4 \\ubbf8\\ub85c\\uc5d0\\uc11c \\ube60\\uc838\\ub098\\uc654\\ub2e4. \\ubc14\\ub2e4\\uc5d0\\uc11c \\ubd80\\ub4dc\\ub7ec\\uc6b4 \\ubc14\\ub78c\\uc744 \\ub9de \\ub9de\\uc73c\\uba70 \\ube44\\ube54\\ubc25\\uc744 \\uba39\\uc5c8\\ub2e4. \\ube60\\ub974\\uac8c \\ub6f0\\ub2e4\\uac00 \\ubfcc\\ub9ac\\uc5d0 \\uac78\\ub824\\uc11c \\ubc1c\\ubaa9\\uc744 \\uc090\\uc5c8\\ub2e4. \\uc0ac\\ub2e4\\ub9ac \\uc704\\uc5d0\\uc11c \\uc218\\ub2e4\\ub97c \\ub5a8\\ub2e4 \\ubcf4\\ub2c8 \\uc2dc\\uac04\\uc774 \\ub2e4 \\ub418\\uc5c8\\ub2e4. \\uc2f8\\ub2e4\\uace0 \\ud558\\ub294 \\uc528\\uac10\\uc790\\ub85c \\uc8fd\\uc744 \\uc464\\ub2e4 \\ub9d0\\uc558\\ub2e4. \\uc790\\uc804\\uac70 \\uac00\\uac8c\\uc5d0\\uc11c \\uc8fc\\ubbfc \\ud68c\\uc758\\uac00 \\uc9c0\\uae08 \\uc9c4\\ud589 \\uc911\\uc774\\ub2e4. \\uc9dc\\uac8c \\ub053\\uc778 \\ucc0c\\uac1c\\ub97c \\ucb48\\uadf8\\ub824 \\uc549\\uc544\\uc11c \\uba39\\uc5c8\\ub2e4. \\ucc28\\uc120\\uc744 \\ub118\\ub098\\ub4e4\\uba70 \\uce58\\uc5f4\\ud558\\uac8c \\ucd94\\uaca9\\uc804\\uc744 \\ubc8c\\uc600\\ub2e4. \\uce74\\uba54\\ub77c\\uc640 \\ucfe0\\ud0a4\\ub97c \\ub4e4\\uace0 \\uc788\\ub294 \\ub0a8\\uc790\\uac00 \\uac00\\uc7a5 \\ud0a4\\uac00 \\ud06c\\ub2e4. \\ud0c0\\uc870\\ub294 \\ud22c\\uba85\\ud55c \\uc720\\ub9ac\\uc5d0\\uc11c \\uce7c\\ub0a0\\uacfc \\ud2f0\\ub04c\\uc744 \\ubc1c\\uacac\\ud588\\ub2e4. \\ud30c\\ub780 \\ub208\\uacfc \\ud558\\uc580 \\ud53c\\ubd80 \\ub355\\ubd84\\uc5d0 \\uccab\\uc778\\uc0c1\\uc774 \\ud478\\uadfc\\ud574\\ubcf4\\uc600 \\ubcf4\\uc600\\ub2e4. \\ud558\\ub298\\uc774\\ub294 \\ud6c4\\ubbf8\\uc9c4 \\uace8\\ubaa9 \\ub05d\\uc5d0\\uc11c \\ud788\\uc8fd\\uac70\\ub838\\ub2e4.\"\n        ],\n        \"semantic_type\": \"\",\n        \"description\": \"\"\n      }\n    }\n  ]\n}"
            }
          },
          "metadata": {},
          "execution_count": 49
        }
      ]
    },
    {
      "cell_type": "markdown",
      "source": [
        "## 데이터 개수 확인"
      ],
      "metadata": {
        "id": "rxeiaTl4XlXs"
      }
    },
    {
      "cell_type": "code",
      "source": [
        "print(disorder.info())"
      ],
      "metadata": {
        "id": "szvMl-rBXkSX",
        "outputId": "8c37f952-8406-41c3-de87-4c7410d03af0",
        "colab": {
          "base_uri": "https://localhost:8080/"
        }
      },
      "execution_count": null,
      "outputs": [
        {
          "output_type": "stream",
          "name": "stdout",
          "text": [
            "<class 'pandas.core.frame.DataFrame'>\n",
            "RangeIndex: 314 entries, 0 to 313\n",
            "Data columns (total 2 columns):\n",
            " #   Column  Non-Null Count  Dtype \n",
            "---  ------  --------------  ----- \n",
            " 0   Path    314 non-null    object\n",
            " 1   Text    314 non-null    object\n",
            "dtypes: object(2)\n",
            "memory usage: 5.0+ KB\n",
            "None\n"
          ]
        }
      ]
    },
    {
      "cell_type": "code",
      "source": [
        "print(disorder.describe())"
      ],
      "metadata": {
        "id": "hOGd7FRyXsjT",
        "outputId": "754ee25e-5cfa-49b5-8e34-039d5315e1a1",
        "colab": {
          "base_uri": "https://localhost:8080/"
        }
      },
      "execution_count": null,
      "outputs": [
        {
          "output_type": "stream",
          "name": "stdout",
          "text": [
            "                                                     Path  \\\n",
            "count                                                 314   \n",
            "unique                                                314   \n",
            "top     /content/drive/MyDrive/project/data/Training/w...   \n",
            "freq                                                    1   \n",
            "\n",
            "                                                     Text  \n",
            "count                                                 314  \n",
            "unique                                                314  \n",
            "top     미영이랑 나연이는 단짝입니다. 미영이와 나연이는 노래하며 놉니다. 마루 위에 나란히...  \n",
            "freq                                                    1  \n"
          ]
        }
      ]
    },
    {
      "cell_type": "code",
      "source": [
        "missing_text = disorder[disorder['Text'] == '']\n",
        "print(f\"빈 텍스트 개수: {len(missing_text)}\")"
      ],
      "metadata": {
        "id": "pJCnDNOAXvFz",
        "outputId": "047a00df-7add-4ad4-850e-ba4b289792cf",
        "colab": {
          "base_uri": "https://localhost:8080/"
        }
      },
      "execution_count": null,
      "outputs": [
        {
          "output_type": "stream",
          "name": "stdout",
          "text": [
            "빈 텍스트 개수: 0\n"
          ]
        }
      ]
    },
    {
      "cell_type": "code",
      "source": [
        "duplicate_texts = disorder['Text'].duplicated().sum()\n",
        "print(f\"중복된 텍스트 개수: {duplicate_texts}\")"
      ],
      "metadata": {
        "id": "3ZNC97UPXx1v",
        "outputId": "e5b1ac17-1e76-4868-f2a2-cc91468d747d",
        "colab": {
          "base_uri": "https://localhost:8080/"
        }
      },
      "execution_count": null,
      "outputs": [
        {
          "output_type": "stream",
          "name": "stdout",
          "text": [
            "중복된 텍스트 개수: 0\n"
          ]
        }
      ]
    },
    {
      "cell_type": "markdown",
      "source": [
        "## 음성 파일 길이 분석"
      ],
      "metadata": {
        "id": "HC3eWx53X0u8"
      }
    },
    {
      "cell_type": "code",
      "source": [
        "def get_audio_length(path):\n",
        "  audio = AudioSegment.from_wav(path)\n",
        "  return len(audio) / 1000"
      ],
      "metadata": {
        "id": "X07NvSApX0N8"
      },
      "execution_count": null,
      "outputs": []
    },
    {
      "cell_type": "code",
      "source": [
        "disorder['Audio_Length'] = [get_audio_length(path) for path in tqdm(disorder['Path'])]"
      ],
      "metadata": {
        "id": "iQwRezi-X3sN",
        "outputId": "1ff465e4-b7b7-4394-9386-2e2532ca7c08",
        "colab": {
          "base_uri": "https://localhost:8080/"
        }
      },
      "execution_count": null,
      "outputs": [
        {
          "output_type": "stream",
          "name": "stderr",
          "text": [
            "100%|██████████| 314/314 [24:24<00:00,  4.67s/it]\n"
          ]
        }
      ]
    },
    {
      "cell_type": "code",
      "source": [
        "plt.figure(figsize = (10, 6))\n",
        "plt.hist(disorder['Audio_Length'], bins = 30, color = 'blue', alpha = 0.7)\n",
        "plt.title('Distribution of Audio Lengths')\n",
        "plt.xlabel('Audio Length (seconds)')\n",
        "plt.ylabel('Frequency')\n",
        "plt.show()"
      ],
      "metadata": {
        "id": "qd6HOwqGhwSi",
        "outputId": "db1edaca-bba6-4645-9949-3f9161372204",
        "colab": {
          "base_uri": "https://localhost:8080/",
          "height": 564
        }
      },
      "execution_count": null,
      "outputs": [
        {
          "output_type": "display_data",
          "data": {
            "text/plain": [
              "<Figure size 1000x600 with 1 Axes>"
            ],
            "image/png": "[encoded data removed]"
          },
          "metadata": {}
        }
      ]
    },
    {
      "cell_type": "markdown",
      "source": [
        "## 텍스트 분석"
      ],
      "metadata": {
        "id": "Hp3mjrR0h6WV"
      }
    },
    {
      "cell_type": "markdown",
      "source": [
        "### 불필요한 기호 제거"
      ],
      "metadata": {
        "id": "mr9qqU0Ph7_9"
      }
    },
    {
      "cell_type": "code",
      "source": [
        "def clean_text(text):\n",
        "    cleaned_text = re.sub(r'[+u/I*]', '', text)\n",
        "    return cleaned_text"
      ],
      "metadata": {
        "id": "WV25VeZaiCKd"
      },
      "execution_count": null,
      "outputs": []
    },
    {
      "cell_type": "code",
      "source": [
        "disorder['Cleaned_Text'] = disorder['Text'].apply(clean_text)"
      ],
      "metadata": {
        "id": "NHzvuhgziJA8"
      },
      "execution_count": null,
      "outputs": []
    },
    {
      "cell_type": "code",
      "source": [
        "print(disorder[['Text', 'Cleaned_Text']].head())"
      ],
      "metadata": {
        "id": "7BvrBvdiiKOq",
        "outputId": "36f1167a-4dbb-4adf-c854-a7872a21b106",
        "colab": {
          "base_uri": "https://localhost:8080/"
        }
      },
      "execution_count": null,
      "outputs": [
        {
          "output_type": "stream",
          "name": "stdout",
          "text": [
            "                                                Text  \\\n",
            "0  미영이랑 나연이는 단짝입니다. 미영이와 나연이는 노래하며 놉니다. 마루 위에 나란히...   \n",
            "1  거울 안경 전화 신발 나무 가위 사과 모자 풍선 당근 연필 기차 날개 창문 동생 약...   \n",
            "2  나는 바지를 입고 단추를 채웁니다. 책상 위에 가방이 있습니다. 가방에 사탕과 연필...   \n",
            "3  새 해 배 개 집 일 입 이 꿀 불 귤 물 피 쥐 비 귀 콩 돈 공 손 풀 붓 뿔 ...   \n",
            "4  바지 단추 책상 가방 사탕 연필 자동차 동물원 엄마 뽀뽀 호랑이 꼬리 코끼리 땅콩 ...   \n",
            "\n",
            "                                        Cleaned_Text  \n",
            "0  미영이랑 나연이는 단짝입니다. 미영이와 나연이는 노래하며 놉니다. 마루 위에 나란히...  \n",
            "1  거울 안경 전화 신발 나무 가위 사과 모자 풍선 당근 연필 기차 날개 창문 동생 약...  \n",
            "2  나는 바지를 입고 단추를 채웁니다. 책상 위에 가방이 있습니다. 가방에 사탕과 연필...  \n",
            "3  새 해 배 개 집 일 입 이 꿀 불 귤 물 피 쥐 비 귀 콩 돈 공 손 풀 붓 뿔 ...  \n",
            "4  바지 단추 책상 가방 사탕 연필 자동차 동물원 엄마 뽀뽀 호랑이 꼬리 코끼리 땅콩 ...  \n"
          ]
        }
      ]
    },
    {
      "cell_type": "markdown",
      "source": [
        "### 텍스트 길이 분석"
      ],
      "metadata": {
        "id": "ro9YH0_NiNnr"
      }
    },
    {
      "cell_type": "code",
      "source": [
        "disorder['Text_Length'] = disorder['Text'].apply(len)"
      ],
      "metadata": {
        "id": "5nHk_3QxiMME"
      },
      "execution_count": null,
      "outputs": []
    },
    {
      "cell_type": "code",
      "source": [
        "print(disorder[['Text', 'Text_Length']].head())"
      ],
      "metadata": {
        "id": "qWsa-bTDiTV5",
        "outputId": "05db9fb0-5c74-40ff-e429-1acf9b74776b",
        "colab": {
          "base_uri": "https://localhost:8080/"
        }
      },
      "execution_count": null,
      "outputs": [
        {
          "output_type": "stream",
          "name": "stdout",
          "text": [
            "                                                Text  Text_Length\n",
            "0  미영이랑 나연이는 단짝입니다. 미영이와 나연이는 노래하며 놉니다. 마루 위에 나란히...         2038\n",
            "1  거울 안경 전화 신발 나무 가위 사과 모자 풍선 당근 연필 기차 날개 창문 동생 약...          215\n",
            "2  나는 바지를 입고 단추를 채웁니다. 책상 위에 가방이 있습니다. 가방에 사탕과 연필...          335\n",
            "3  새 해 배 개 집 일 입 이 꿀 불 귤 물 피 쥐 비 귀 콩 돈 공 손 풀 붓 뿔 ...          299\n",
            "4  바지 단추 책상 가방 사탕 연필 자동차 동물원 엄마 뽀뽀 호랑이 꼬리 코끼리 땅콩 ...           89\n"
          ]
        }
      ]
    },
    {
      "cell_type": "code",
      "source": [
        "plt.figure(figsize = (10, 6))\n",
        "plt.hist(disorder['Text_Length'], bins = 30, color = 'blue', alpha = 0.7)\n",
        "plt.title('Distribution of Text Lengths')\n",
        "plt.xlabel('Text Length (characters)')\n",
        "plt.ylabel('Frequency')\n",
        "plt.show()"
      ],
      "metadata": {
        "id": "ZEXNKtpIiVUQ",
        "outputId": "fb4e244e-48ef-4f06-91d8-88ab5a9b7f05",
        "colab": {
          "base_uri": "https://localhost:8080/",
          "height": 564
        }
      },
      "execution_count": null,
      "outputs": [
        {
          "output_type": "display_data",
          "data": {
            "text/plain": [
              "<Figure size 1000x600 with 1 Axes>"
            ],
            "image/png": "[encoded data removed]"
          },
          "metadata": {}
        }
      ]
    },
    {
      "cell_type": "markdown",
      "source": [
        "### 빈 텍스트 확인"
      ],
      "metadata": {
        "id": "y1g1onediZ9j"
      }
    },
    {
      "cell_type": "code",
      "source": [
        "empty_texts = disorder[disorder['Text_Length'] == 0]\n",
        "print(f\"빈 텍스트 개수: {len(empty_texts)}\")"
      ],
      "metadata": {
        "id": "a3OIBTp_iXqd",
        "outputId": "eb3fb620-5989-4a48-937a-fb6ec7831b1a",
        "colab": {
          "base_uri": "https://localhost:8080/"
        }
      },
      "execution_count": null,
      "outputs": [
        {
          "output_type": "stream",
          "name": "stdout",
          "text": [
            "빈 텍스트 개수: 0\n"
          ]
        }
      ]
    },
    {
      "cell_type": "markdown",
      "source": [
        "### 중복된 텍스트 확인"
      ],
      "metadata": {
        "id": "iwHa-se2ieNi"
      }
    },
    {
      "cell_type": "code",
      "source": [
        "duplicate_texts = disorder[disorder['Text'].duplicated()]\n",
        "print(f\"중복된 텍스트 개수: {len(duplicate_texts)}\")"
      ],
      "metadata": {
        "id": "bFTgq9XbidT8",
        "outputId": "8cdebd1d-225b-4f10-9dc0-09635bb78e59",
        "colab": {
          "base_uri": "https://localhost:8080/"
        }
      },
      "execution_count": null,
      "outputs": [
        {
          "output_type": "stream",
          "name": "stdout",
          "text": [
            "중복된 텍스트 개수: 0\n"
          ]
        }
      ]
    },
    {
      "cell_type": "code",
      "source": [
        "disorder"
      ],
      "metadata": {
        "id": "xAQrUFeaiikU",
        "outputId": "6a3d7c15-0d60-4cbd-e903-cbf3a682b010",
        "colab": {
          "base_uri": "https://localhost:8080/",
          "height": 597
        }
      },
      "execution_count": null,
      "outputs": [
        {
          "output_type": "execute_result",
          "data": {
            "text/plain": [
              "                                                  Path  \\\n",
              "0    /content/drive/MyDrive/project/data/Training/w...   \n",
              "1    /content/drive/MyDrive/project/data/Training/w...   \n",
              "2    /content/drive/MyDrive/project/data/Training/w...   \n",
              "3    /content/drive/MyDrive/project/data/Training/w...   \n",
              "4    /content/drive/MyDrive/project/data/Training/w...   \n",
              "..                                                 ...   \n",
              "309  /content/drive/MyDrive/project/data/Training/w...   \n",
              "310  /content/drive/MyDrive/project/data/Training/w...   \n",
              "311  /content/drive/MyDrive/project/data/Training/w...   \n",
              "312  /content/drive/MyDrive/project/data/Training/w...   \n",
              "313  /content/drive/MyDrive/project/data/Training/w...   \n",
              "\n",
              "                                                  Text  Audio_Length  \\\n",
              "0    미영이랑 나연이는 단짝입니다. 미영이와 나연이는 노래하며 놉니다. 마루 위에 나란히...       772.163   \n",
              "1    거울 안경 전화 신발 나무 가위 사과 모자 풍선 당근 연필 기차 날개 창문 동생 약...       206.577   \n",
              "2    나는 바지를 입고 단추를 채웁니다. 책상 위에 가방이 있습니다. 가방에 사탕과 연필...       709.480   \n",
              "3    새 해 배 개 집 일 입 이 꿀 불 귤 물 피 쥐 비 귀 콩 돈 공 손 풀 붓 뿔 ...      1490.877   \n",
              "4    바지 단추 책상 가방 사탕 연필 자동차 동물원 엄마 뽀뽀 호랑이 꼬리 코끼리 땅콩 ...       276.963   \n",
              "..                                                 ...           ...   \n",
              "309  제 나이는 서른 일곱 살입니다. 저는 용 띠입니다. 제가 태어난 곳은 동해시이고 주...       920.580   \n",
              "310  100만원 태국 돈으로 얼마야? 10월 14일 로또 당첨자 알려 줘 10월 16일 ...      3816.600   \n",
              "311  거짓말을 하는 것이 분명합니다. 고기는 좋아하지만 생선은 싫어한다. 기차를 탈 분은...      2753.132   \n",
              "312  100만원 태국 돈으로 얼마야? 10월 14일 로또 당첨자 알려 줘 10월 16일 ...      4320.615   \n",
              "313  지하철은 어디에서 타요? 여기 엘리베이터를 타고 지하 일층으로 내려가세요. 티머니 ...     15051.692   \n",
              "\n",
              "                                          Cleaned_Text  Text_Length  \n",
              "0    미영이랑 나연이는 단짝입니다. 미영이와 나연이는 노래하며 놉니다. 마루 위에 나란히...         2038  \n",
              "1    거울 안경 전화 신발 나무 가위 사과 모자 풍선 당근 연필 기차 날개 창문 동생 약...          215  \n",
              "2    나는 바지를 입고 단추를 채웁니다. 책상 위에 가방이 있습니다. 가방에 사탕과 연필...          335  \n",
              "3    새 해 배 개 집 일 입 이 꿀 불 귤 물 피 쥐 비 귀 콩 돈 공 손 풀 붓 뿔 ...          299  \n",
              "4    바지 단추 책상 가방 사탕 연필 자동차 동물원 엄마 뽀뽀 호랑이 꼬리 코끼리 땅콩 ...           89  \n",
              "..                                                 ...          ...  \n",
              "309  제 나이는 서른 일곱 살입니다. 저는 용 띠입니다. 제가 태어난 곳은 동해시이고 주...          724  \n",
              "310  100만원 태국 돈으로 얼마야? 10월 14일 로또 당첨자 알려 줘 10월 16일 ...         4211  \n",
              "311  거짓말을 하는 것이 분명합니다. 고기는 좋아하지만 생선은 싫어한다. 기차를 탈 분은...          200  \n",
              "312  100만원 태국 돈으로 얼마야? 10월 14일 로또 당첨자 알려 줘 10월 16일 ...         4190  \n",
              "313  지하철은 어디에서 타요? 여기 엘리베이터를 타고 지하 일층으로 내려가세요. 티머니 ...        19296  \n",
              "\n",
              "[314 rows x 5 columns]"
            ],
            "text/html": [
              "\n",
              "  <div id=\"df-789c814d-0787-4268-9c91-0059c164188f\" class=\"colab-df-container\">\n",
              "    <div>\n",
              "<style scoped>\n",
              "    .dataframe tbody tr th:only-of-type {\n",
              "        vertical-align: middle;\n",
              "    }\n",
              "\n",
              "    .dataframe tbody tr th {\n",
              "        vertical-align: top;\n",
              "    }\n",
              "\n",
              "    .dataframe thead th {\n",
              "        text-align: right;\n",
              "    }\n",
              "</style>\n",
              "<table border=\"1\" class=\"dataframe\">\n",
              "  <thead>\n",
              "    <tr style=\"text-align: right;\">\n",
              "      <th></th>\n",
              "      <th>Path</th>\n",
              "      <th>Text</th>\n",
              "      <th>Audio_Length</th>\n",
              "      <th>Cleaned_Text</th>\n",
              "      <th>Text_Length</th>\n",
              "    </tr>\n",
              "  </thead>\n",
              "  <tbody>\n",
              "    <tr>\n",
              "      <th>0</th>\n",
              "      <td>/content/drive/MyDrive/project/data/Training/w...</td>\n",
              "      <td>미영이랑 나연이는 단짝입니다. 미영이와 나연이는 노래하며 놉니다. 마루 위에 나란히...</td>\n",
              "      <td>772.163</td>\n",
              "      <td>미영이랑 나연이는 단짝입니다. 미영이와 나연이는 노래하며 놉니다. 마루 위에 나란히...</td>\n",
              "      <td>2038</td>\n",
              "    </tr>\n",
              "    <tr>\n",
              "      <th>1</th>\n",
              "      <td>/content/drive/MyDrive/project/data/Training/w...</td>\n",
              "      <td>거울 안경 전화 신발 나무 가위 사과 모자 풍선 당근 연필 기차 날개 창문 동생 약...</td>\n",
              "      <td>206.577</td>\n",
              "      <td>거울 안경 전화 신발 나무 가위 사과 모자 풍선 당근 연필 기차 날개 창문 동생 약...</td>\n",
              "      <td>215</td>\n",
              "    </tr>\n",
              "    <tr>\n",
              "      <th>2</th>\n",
              "      <td>/content/drive/MyDrive/project/data/Training/w...</td>\n",
              "      <td>나는 바지를 입고 단추를 채웁니다. 책상 위에 가방이 있습니다. 가방에 사탕과 연필...</td>\n",
              "      <td>709.480</td>\n",
              "      <td>나는 바지를 입고 단추를 채웁니다. 책상 위에 가방이 있습니다. 가방에 사탕과 연필...</td>\n",
              "      <td>335</td>\n",
              "    </tr>\n",
              "    <tr>\n",
              "      <th>3</th>\n",
              "      <td>/content/drive/MyDrive/project/data/Training/w...</td>\n",
              "      <td>새 해 배 개 집 일 입 이 꿀 불 귤 물 피 쥐 비 귀 콩 돈 공 손 풀 붓 뿔 ...</td>\n",
              "      <td>1490.877</td>\n",
              "      <td>새 해 배 개 집 일 입 이 꿀 불 귤 물 피 쥐 비 귀 콩 돈 공 손 풀 붓 뿔 ...</td>\n",
              "      <td>299</td>\n",
              "    </tr>\n",
              "    <tr>\n",
              "      <th>4</th>\n",
              "      <td>/content/drive/MyDrive/project/data/Training/w...</td>\n",
              "      <td>바지 단추 책상 가방 사탕 연필 자동차 동물원 엄마 뽀뽀 호랑이 꼬리 코끼리 땅콩 ...</td>\n",
              "      <td>276.963</td>\n",
              "      <td>바지 단추 책상 가방 사탕 연필 자동차 동물원 엄마 뽀뽀 호랑이 꼬리 코끼리 땅콩 ...</td>\n",
              "      <td>89</td>\n",
              "    </tr>\n",
              "    <tr>\n",
              "      <th>...</th>\n",
              "      <td>...</td>\n",
              "      <td>...</td>\n",
              "      <td>...</td>\n",
              "      <td>...</td>\n",
              "      <td>...</td>\n",
              "    </tr>\n",
              "    <tr>\n",
              "      <th>309</th>\n",
              "      <td>/content/drive/MyDrive/project/data/Training/w...</td>\n",
              "      <td>제 나이는 서른 일곱 살입니다. 저는 용 띠입니다. 제가 태어난 곳은 동해시이고 주...</td>\n",
              "      <td>920.580</td>\n",
              "      <td>제 나이는 서른 일곱 살입니다. 저는 용 띠입니다. 제가 태어난 곳은 동해시이고 주...</td>\n",
              "      <td>724</td>\n",
              "    </tr>\n",
              "    <tr>\n",
              "      <th>310</th>\n",
              "      <td>/content/drive/MyDrive/project/data/Training/w...</td>\n",
              "      <td>100만원 태국 돈으로 얼마야? 10월 14일 로또 당첨자 알려 줘 10월 16일 ...</td>\n",
              "      <td>3816.600</td>\n",
              "      <td>100만원 태국 돈으로 얼마야? 10월 14일 로또 당첨자 알려 줘 10월 16일 ...</td>\n",
              "      <td>4211</td>\n",
              "    </tr>\n",
              "    <tr>\n",
              "      <th>311</th>\n",
              "      <td>/content/drive/MyDrive/project/data/Training/w...</td>\n",
              "      <td>거짓말을 하는 것이 분명합니다. 고기는 좋아하지만 생선은 싫어한다. 기차를 탈 분은...</td>\n",
              "      <td>2753.132</td>\n",
              "      <td>거짓말을 하는 것이 분명합니다. 고기는 좋아하지만 생선은 싫어한다. 기차를 탈 분은...</td>\n",
              "      <td>200</td>\n",
              "    </tr>\n",
              "    <tr>\n",
              "      <th>312</th>\n",
              "      <td>/content/drive/MyDrive/project/data/Training/w...</td>\n",
              "      <td>100만원 태국 돈으로 얼마야? 10월 14일 로또 당첨자 알려 줘 10월 16일 ...</td>\n",
              "      <td>4320.615</td>\n",
              "      <td>100만원 태국 돈으로 얼마야? 10월 14일 로또 당첨자 알려 줘 10월 16일 ...</td>\n",
              "      <td>4190</td>\n",
              "    </tr>\n",
              "    <tr>\n",
              "      <th>313</th>\n",
              "      <td>/content/drive/MyDrive/project/data/Training/w...</td>\n",
              "      <td>지하철은 어디에서 타요? 여기 엘리베이터를 타고 지하 일층으로 내려가세요. 티머니 ...</td>\n",
              "      <td>15051.692</td>\n",
              "      <td>지하철은 어디에서 타요? 여기 엘리베이터를 타고 지하 일층으로 내려가세요. 티머니 ...</td>\n",
              "      <td>19296</td>\n",
              "    </tr>\n",
              "  </tbody>\n",
              "</table>\n",
              "<p>314 rows × 5 columns</p>\n",
              "</div>\n",
              "    <div class=\"colab-df-buttons\">\n",
              "\n",
              "  <div class=\"colab-df-container\">\n",
              "    <button class=\"colab-df-convert\" onclick=\"convertToInteractive('df-789c814d-0787-4268-9c91-0059c164188f')\"\n",
              "            title=\"Convert this dataframe to an interactive table.\"\n",
              "            style=\"display:none;\">\n",
              "\n",
              "  <svg xmlns=\"http://www.w3.org/2000/svg\" height=\"24px\" viewBox=\"0 -960 960 960\">\n",
              "    <path d=\"M120-120v-720h720v720H120Zm60-500h600v-160H180v160Zm220 220h160v-160H400v160Zm0 220h160v-160H400v160ZM180-400h160v-160H180v160Zm440 0h160v-160H620v160ZM180-180h160v-160H180v160Zm440 0h160v-160H620v160Z\"/>\n",
              "  </svg>\n",
              "    </button>\n",
              "\n",
              "  <style>\n",
              "    .colab-df-container {\n",
              "      display:flex;\n",
              "      gap: 12px;\n",
              "    }\n",
              "\n",
              "    .colab-df-convert {\n",
              "      background-color: #E8F0FE;\n",
              "      border: none;\n",
              "      border-radius: 50%;\n",
              "      cursor: pointer;\n",
              "      display: none;\n",
              "      fill: #1967D2;\n",
              "      height: 32px;\n",
              "      padding: 0 0 0 0;\n",
              "      width: 32px;\n",
              "    }\n",
              "\n",
              "    .colab-df-convert:hover {\n",
              "      background-color: #E2EBFA;\n",
              "      box-shadow: 0px 1px 2px rgba(60, 64, 67, 0.3), 0px 1px 3px 1px rgba(60, 64, 67, 0.15);\n",
              "      fill: #174EA6;\n",
              "    }\n",
              "\n",
              "    .colab-df-buttons div {\n",
              "      margin-bottom: 4px;\n",
              "    }\n",
              "\n",
              "    [theme=dark] .colab-df-convert {\n",
              "      background-color: #3B4455;\n",
              "      fill: #D2E3FC;\n",
              "    }\n",
              "\n",
              "    [theme=dark] .colab-df-convert:hover {\n",
              "      background-color: #434B5C;\n",
              "      box-shadow: 0px 1px 3px 1px rgba(0, 0, 0, 0.15);\n",
              "      filter: drop-shadow(0px 1px 2px rgba(0, 0, 0, 0.3));\n",
              "      fill: #FFFFFF;\n",
              "    }\n",
              "  </style>\n",
              "\n",
              "    <script>\n",
              "      const buttonEl =\n",
              "        document.querySelector('#df-789c814d-0787-4268-9c91-0059c164188f button.colab-df-convert');\n",
              "      buttonEl.style.display =\n",
              "        google.colab.kernel.accessAllowed ? 'block' : 'none';\n",
              "\n",
              "      async function convertToInteractive(key) {\n",
              "        const element = document.querySelector('#df-789c814d-0787-4268-9c91-0059c164188f');\n",
              "        const dataTable =\n",
              "          await google.colab.kernel.invokeFunction('convertToInteractive',\n",
              "                                                    [key], {});\n",
              "        if (!dataTable) return;\n",
              "\n",
              "        const docLinkHtml = 'Like what you see? Visit the ' +\n",
              "          '<a target=\"_blank\" href=https://colab.research.google.com/notebooks/data_table.ipynb>data table notebook</a>'\n",
              "          + ' to learn more about interactive tables.';\n",
              "        element.innerHTML = '';\n",
              "        dataTable['output_type'] = 'display_data';\n",
              "        await google.colab.output.renderOutput(dataTable, element);\n",
              "        const docLink = document.createElement('div');\n",
              "        docLink.innerHTML = docLinkHtml;\n",
              "        element.appendChild(docLink);\n",
              "      }\n",
              "    </script>\n",
              "  </div>\n",
              "\n",
              "\n",
              "<div id=\"df-3e6420ef-729d-43f3-b922-a374294aecd4\">\n",
              "  <button class=\"colab-df-quickchart\" onclick=\"quickchart('df-3e6420ef-729d-43f3-b922-a374294aecd4')\"\n",
              "            title=\"Suggest charts\"\n",
              "            style=\"display:none;\">\n",
              "\n",
              "<svg xmlns=\"http://www.w3.org/2000/svg\" height=\"24px\"viewBox=\"0 0 24 24\"\n",
              "     width=\"24px\">\n",
              "    <g>\n",
              "        <path d=\"M19 3H5c-1.1 0-2 .9-2 2v14c0 1.1.9 2 2 2h14c1.1 0 2-.9 2-2V5c0-1.1-.9-2-2-2zM9 17H7v-7h2v7zm4 0h-2V7h2v10zm4 0h-2v-4h2v4z\"/>\n",
              "    </g>\n",
              "</svg>\n",
              "  </button>\n",
              "\n",
              "<style>\n",
              "  .colab-df-quickchart {\n",
              "      --bg-color: #E8F0FE;\n",
              "      --fill-color: #1967D2;\n",
              "      --hover-bg-color: #E2EBFA;\n",
              "      --hover-fill-color: #174EA6;\n",
              "      --disabled-fill-color: #AAA;\n",
              "      --disabled-bg-color: #DDD;\n",
              "  }\n",
              "\n",
              "  [theme=dark] .colab-df-quickchart {\n",
              "      --bg-color: #3B4455;\n",
              "      --fill-color: #D2E3FC;\n",
              "      --hover-bg-color: #434B5C;\n",
              "      --hover-fill-color: #FFFFFF;\n",
              "      --disabled-bg-color: #3B4455;\n",
              "      --disabled-fill-color: #666;\n",
              "  }\n",
              "\n",
              "  .colab-df-quickchart {\n",
              "    background-color: var(--bg-color);\n",
              "    border: none;\n",
              "    border-radius: 50%;\n",
              "    cursor: pointer;\n",
              "    display: none;\n",
              "    fill: var(--fill-color);\n",
              "    height: 32px;\n",
              "    padding: 0;\n",
              "    width: 32px;\n",
              "  }\n",
              "\n",
              "  .colab-df-quickchart:hover {\n",
              "    background-color: var(--hover-bg-color);\n",
              "    box-shadow: 0 1px 2px rgba(60, 64, 67, 0.3), 0 1px 3px 1px rgba(60, 64, 67, 0.15);\n",
              "    fill: var(--button-hover-fill-color);\n",
              "  }\n",
              "\n",
              "  .colab-df-quickchart-complete:disabled,\n",
              "  .colab-df-quickchart-complete:disabled:hover {\n",
              "    background-color: var(--disabled-bg-color);\n",
              "    fill: var(--disabled-fill-color);\n",
              "    box-shadow: none;\n",
              "  }\n",
              "\n",
              "  .colab-df-spinner {\n",
              "    border: 2px solid var(--fill-color);\n",
              "    border-color: transparent;\n",
              "    border-bottom-color: var(--fill-color);\n",
              "    animation:\n",
              "      spin 1s steps(1) infinite;\n",
              "  }\n",
              "\n",
              "  @keyframes spin {\n",
              "    0% {\n",
              "      border-color: transparent;\n",
              "      border-bottom-color: var(--fill-color);\n",
              "      border-left-color: var(--fill-color);\n",
              "    }\n",
              "    20% {\n",
              "      border-color: transparent;\n",
              "      border-left-color: var(--fill-color);\n",
              "      border-top-color: var(--fill-color);\n",
              "    }\n",
              "    30% {\n",
              "      border-color: transparent;\n",
              "      border-left-color: var(--fill-color);\n",
              "      border-top-color: var(--fill-color);\n",
              "      border-right-color: var(--fill-color);\n",
              "    }\n",
              "    40% {\n",
              "      border-color: transparent;\n",
              "      border-right-color: var(--fill-color);\n",
              "      border-top-color: var(--fill-color);\n",
              "    }\n",
              "    60% {\n",
              "      border-color: transparent;\n",
              "      border-right-color: var(--fill-color);\n",
              "    }\n",
              "    80% {\n",
              "      border-color: transparent;\n",
              "      border-right-color: var(--fill-color);\n",
              "      border-bottom-color: var(--fill-color);\n",
              "    }\n",
              "    90% {\n",
              "      border-color: transparent;\n",
              "      border-bottom-color: var(--fill-color);\n",
              "    }\n",
              "  }\n",
              "</style>\n",
              "\n",
              "  <script>\n",
              "    async function quickchart(key) {\n",
              "      const quickchartButtonEl =\n",
              "        document.querySelector('#' + key + ' button');\n",
              "      quickchartButtonEl.disabled = true;  // To prevent multiple clicks.\n",
              "      quickchartButtonEl.classList.add('colab-df-spinner');\n",
              "      try {\n",
              "        const charts = await google.colab.kernel.invokeFunction(\n",
              "            'suggestCharts', [key], {});\n",
              "      } catch (error) {\n",
              "        console.error('Error during call to suggestCharts:', error);\n",
              "      }\n",
              "      quickchartButtonEl.classList.remove('colab-df-spinner');\n",
              "      quickchartButtonEl.classList.add('colab-df-quickchart-complete');\n",
              "    }\n",
              "    (() => {\n",
              "      let quickchartButtonEl =\n",
              "        document.querySelector('#df-3e6420ef-729d-43f3-b922-a374294aecd4 button');\n",
              "      quickchartButtonEl.style.display =\n",
              "        google.colab.kernel.accessAllowed ? 'block' : 'none';\n",
              "    })();\n",
              "  </script>\n",
              "</div>\n",
              "\n",
              "  <div id=\"id_5732e1d7-1c33-428e-995d-63011e30bb51\">\n",
              "    <style>\n",
              "      .colab-df-generate {\n",
              "        background-color: #E8F0FE;\n",
              "        border: none;\n",
              "        border-radius: 50%;\n",
              "        cursor: pointer;\n",
              "        display: none;\n",
              "        fill: #1967D2;\n",
              "        height: 32px;\n",
              "        padding: 0 0 0 0;\n",
              "        width: 32px;\n",
              "      }\n",
              "\n",
              "      .colab-df-generate:hover {\n",
              "        background-color: #E2EBFA;\n",
              "        box-shadow: 0px 1px 2px rgba(60, 64, 67, 0.3), 0px 1px 3px 1px rgba(60, 64, 67, 0.15);\n",
              "        fill: #174EA6;\n",
              "      }\n",
              "\n",
              "      [theme=dark] .colab-df-generate {\n",
              "        background-color: #3B4455;\n",
              "        fill: #D2E3FC;\n",
              "      }\n",
              "\n",
              "      [theme=dark] .colab-df-generate:hover {\n",
              "        background-color: #434B5C;\n",
              "        box-shadow: 0px 1px 3px 1px rgba(0, 0, 0, 0.15);\n",
              "        filter: drop-shadow(0px 1px 2px rgba(0, 0, 0, 0.3));\n",
              "        fill: #FFFFFF;\n",
              "      }\n",
              "    </style>\n",
              "    <button class=\"colab-df-generate\" onclick=\"generateWithVariable('disorder')\"\n",
              "            title=\"Generate code using this dataframe.\"\n",
              "            style=\"display:none;\">\n",
              "\n",
              "  <svg xmlns=\"http://www.w3.org/2000/svg\" height=\"24px\"viewBox=\"0 0 24 24\"\n",
              "       width=\"24px\">\n",
              "    <path d=\"M7,19H8.4L18.45,9,17,7.55,7,17.6ZM5,21V16.75L18.45,3.32a2,2,0,0,1,2.83,0l1.4,1.43a1.91,1.91,0,0,1,.58,1.4,1.91,1.91,0,0,1-.58,1.4L9.25,21ZM18.45,9,17,7.55Zm-12,3A5.31,5.31,0,0,0,4.9,8.1,5.31,5.31,0,0,0,1,6.5,5.31,5.31,0,0,0,4.9,4.9,5.31,5.31,0,0,0,6.5,1,5.31,5.31,0,0,0,8.1,4.9,5.31,5.31,0,0,0,12,6.5,5.46,5.46,0,0,0,6.5,12Z\"/>\n",
              "  </svg>\n",
              "    </button>\n",
              "    <script>\n",
              "      (() => {\n",
              "      const buttonEl =\n",
              "        document.querySelector('#id_5732e1d7-1c33-428e-995d-63011e30bb51 button.colab-df-generate');\n",
              "      buttonEl.style.display =\n",
              "        google.colab.kernel.accessAllowed ? 'block' : 'none';\n",
              "\n",
              "      buttonEl.onclick = () => {\n",
              "        google.colab.notebook.generateWithVariable('disorder');\n",
              "      }\n",
              "      })();\n",
              "    </script>\n",
              "  </div>\n",
              "\n",
              "    </div>\n",
              "  </div>\n"
            ],
            "application/vnd.google.colaboratory.intrinsic+json": {
              "type": "dataframe",
              "variable_name": "disorder",
              "summary": "{\n  \"name\": \"disorder\",\n  \"rows\": 314,\n  \"fields\": [\n    {\n      \"column\": \"Path\",\n      \"properties\": {\n        \"dtype\": \"string\",\n        \"num_unique_values\": 314,\n        \"samples\": [\n          \"/content/drive/MyDrive/project/data/Training/wav/26_1/ID-02-26-N-SJH-03-M-63-KK.wav\",\n          \"/content/drive/MyDrive/project/data/Training/wav/25/ID-02-25-N-YJA-04-F-29-KK.wav\",\n          \"/content/drive/MyDrive/project/data/Training/wav/26_1/ID-02-26-N-PJM-02-04-F-38-CC1.wav\"\n        ],\n        \"semantic_type\": \"\",\n        \"description\": \"\"\n      }\n    },\n    {\n      \"column\": \"Text\",\n      \"properties\": {\n        \"dtype\": \"string\",\n        \"num_unique_values\": 314,\n        \"samples\": [\n          \"\\uc81c \\ub098\\uc774\\ub294 \\uc721\\uc2ed \\uc0ac \\uc0b4\\uc785\\ub2c8\\ub2e4. \\uc800\\ub294 \\uac1c\\ub760\\uc785\\ub2c8\\ub2e4. \\uc81c\\uac00 \\ud0dc\\uc5b4\\ub09c \\uacf3\\uc740 \\uc778\\ucc9c\\uc2dc \\ub0a8\\ub3d9\\uad6c\\uc774\\uace0 \\uc8fc\\ub85c \\uc0b0 \\uacf3\\uc740 \\uc778\\ucc9c\\uc2dc \\ub0a8\\ub3d9\\uad6c\\uc785\\ub2c8\\ub2e4. \\ucd9c\\uc0dd+ \\ucd9c\\uc0dd\\uc9c0\\uc778 \\uc778\\ucc9c\\uc2dc\\uad6c\\uc5d0\\uc11c \\uc0b4\\ub2e4\\uac00 \\uc654\\uc2b5\\ub2c8\\ub2e4. \\uc544\\ubc84\\uc9c0 \\ucd9c\\uc0dd*+ \\ucd9c\\uc0dd \\uc9c0\\uc5ed \\ucd9c\\uc2e0\\uc774\\uace0 \\uc5b4\\uba38\\ub2c8\\ub294 \\uc804\\ub0a8 \\uc9c0\\uc5ed \\ucd9c\\uc2e0\\uc785\\ub2c8\\ub2e4. \\uc81c \\uc704\\ub85c\\ub294 \\ud615 \\uc138 \\uba85\\uc774 \\uc788\\uace0 \\uc544\\ub798\\ub85c \\ub0a8\\ub3d9\\uc0dd \\ud55c \\uba85\\uc774 \\uc788\\uc2b5\\ub2c8\\ub2e4. \\uc6b0\\ub9ac \\uac00\\uc871\\uc740 \\ub2e4\\uc12f \\uba85\\uc774\\uace0 \\uadf8\\ub9ac\\uace0 \\uc800\\uc774\\uace0 \\uadf8\\ub798\\uc11c \\ubaa8\\ub450 \\uc721 \\uba85\\uc785\\ub2c8\\ub2e4. \\uc9c0\\uae08 \\uc800\\ub791 \\uac19\\uc774 \\uc0b4\\uace0 \\uc788\\ub294 \\uc0ac\\ub78c\\uc740 \\uc544\\ub0b4\\uc640 \\uc544\\ub4e4\\uc785\\ub2c8\\ub2e4. \\uac00\\uc871\\uacfc \\uc8fc\\ub85c \\ud558\\ub294 \\uc774\\uc57c\\uae30\\ub294 \\uc5b4/  \\ub300\\ud55c \\uac83\\uc785\\ub2c8\\ub2e4. \\uce5c\\uad6c\\uc640 \\uc8fc\\ub85c \\ud558\\ub294 \\uc774\\uc57c\\uae30\\ub294 \\ucf54\\ub85c\\ub098\\uc5d0 \\ub300\\ud55c \\uac83\\uc785\\ub2c8\\ub2e4. \\uc800\\ub294 \\ud3c9\\uc18c\\uc5d0 \\uc8fc\\ub85c \\uc790\\uc804\\uac70\\ub97c \\ud0c0\\uace0 \\ub2e4\\ub2d9\\ub2c8\\ub2e4. \\uc6b0\\ub9ac \\ub3d9\\ub124\\ub294 \\uad50\\ud1b5\\uc774 \\ud3b8\\ub9ac\\ud569\\ub2c8\\ub2e4. \\uad50\\ud1b5\\uc774 \\ud3b8\\ub9ac\\ud55c \\uc774\\uc720\\ub294 \\uc9c0\\ud558\\ucca0 \\ub54c\\ubb38\\uc785\\ub2c8\\ub2e4.  \\uc6b0\\ub9ac \\uc9d1\\uc5d0\\uc11c \\uc11c\\uc6b8\\uc5ed\\uc5d0 \\uac00\\ub824\\uba74 \\uc800+ \\uc804\\ucca0\\uc744 \\ud0c0\\uace0 \\uac00\\uc57c \\ud569\\ub2c8\\ub2e4. \\uc6b0\\ub9ac \\uc9d1 \\uadfc\\ucc98\\uc5d0\\ub294 \\uc774\\ub9c8\\ud2b8 \\uc2dc\\uc7a5\\uc774 \\uc788\\ub294\\ub370 \\uac78\\uc5b4\\uc11c \\uc2ed \\ubd84 \\uac70\\ub9ac\\uc5d0 \\uc788\\uc2b5\\ub2c8\\ub2e4.  \\ub098\\ub294 \\ubcf4\\ud1b5 \\uc544\\uce68 \\uc5ec\\uc12f\\uc2dc \\uc0ac+ \\uc5ec\\uc12f \\uc2dc\\uc5d0 \\uc77c\\uc5b4\\ub098\\uace0 \\ubc24 \\uc5f4 \\uc2dc\\uc5d0 \\uc7a1\\ub2c8\\ub2e4. \\uc81c\\uac00 \\uac00\\uc7a5 \\uc88b\\uc544\\ud558\\ub294 \\uc74c\\uc2dd\\uc740 \\uace0\\uae30\\uc785\\ub2c8\\ub2e4. \\uc81c \\ucde8\\ubbf8\\ub294 \\uc5e0\\ud2f0\\ube44 \\uc785\\ub2c8\\ub2e4.  \\ubb34\\uc9c0\\uac1c \\uc77c\\uacf1 \\uc0c9\\uae54\\uc740 \\uc785\\ub2c8\\ub2e4. \\uc77c\\uc8fc\\uc77c\\uc740 \\uce60 \\uc77c \\uc694\\uc77c \\uc785\\ub2c8\\ub2e4. \\uc124\\ub0a0\\uc740 \\uc785\\ub2c8\\ub2e4. \\ud06c\\ub9ac\\uc2a4\\ub9c8\\uc2a4\\ub294 \\uc2ed \\uc774 \\uc6d4 \\uc774\\uc2ed \\uc624 \\uc77c\\uc785\\ub2c8\\ub2e4. \\uc9c0\\uae08 \\uacc4\\uc808\\uc740 \\uc5ec\\ub984\\uc785\\ub2c8\\ub2e4. \\uc5b4\\uc81c\\ub294 \\ub0a0\\uc528\\uac00 \\ud478\\uadfc\\ud588\\uace0 \\uc624\\ub298 \\ub0a0\\uc528\\ub294 \\uc74c/ \\ube44\\uac00 \\uc654\\uc2b5+ \\ud574\\uac00 \\ub0ac\\ub2e4. \\uc77c \\ub144\\uc740 \\uc0bc\\ubc31 \\uc721\\uc2ed \\uc624 \\uc77c\\uc774\\uace0 \\uc77c \\uc8fc\\uc77c\\uc740 \\uce60 \\uc77c\\uc785\\ub2c8\\ub2e4. \\ud558\\ub8e8\\ub294 \\uc2a4\\ubb3c \\ub124 \\uc2dc\\uac04\\uc774\\uace0 \\uc77c \\ubd84\\uc740 \\uc721\\uc2ed \\ucd08\\uc785\\ub2c8\\ub2e4.\",\n          \"\\ubbf8\\uc601\\uc774\\ub791 \\ub098\\uc5f0\\uc774\\ub294 \\ub2e8\\uc9dd\\uc785\\ub2c8\\ub2e4. \\ubbf8\\uc601\\uc774\\uc640 \\ub098\\uc5f0\\uc774\\ub294 \\ub178\\ub798\\ub97c \\ud558\\uba70 \\ub189\\ub2c8\\ub2e4. \\ub9c8\\ub8e8 \\uc704\\uc5d0 \\ub098\\ub780\\ud788 \\ub204\\uc6cc \\ub0ad\\ub791\\ud788 \\ub178\\ub798\\ud569\\ub2c8\\ub2e4. \\ub098\\uc5f0\\uc774\\ub294 \\ub178\\ub798\\ub97c \\ub9e4\\uc6b0 \\ub9ce\\uc774 \\uc555\\ub2c8\\ub2e4. \\ub178\\ub798\\ub3c4 \\ub354 \\uc798\\ud574\\uc11c \\ubbf8\\uc601\\uc774\\uc5d0\\uac8c \\uc54c\\ub824 \\uc90d\\ub2c8\\ub2e4. \\ubbf8\\uc601\\uc774\\ub294 \\uc74c\\uc545\\uc5d0 \\uc5b4\\uc6b8\\ub9ac\\ub294 \\uc548\\ubb34\\ub97c \\ub9c8\\ub828\\ud569\\ub2c8\\ub2e4. \\uc5b4\\ub290 \\ub0a0 \\ub098\\uc5f0\\uc774\\ub294 \\ubbf8\\uc601\\uc774\\ub97c \\ub180\\ub9bd\\ub2c8\\ub2e4. \\uc790\\uae30\\ubcf4\\ub2e4 \\ub178\\ub798\\ub97c \\ubabb\\ud55c\\ub2e4\\uace0 \\ub180\\ub9bd\\ub2c8\\ub2e4. \\ubbf8\\uc601\\uc774\\ub294 \\ub0a8\\ubab0\\ub798 \\ub178\\ub798\\ub97c \\uc5f0\\ub9c8\\ud569\\ub2c8\\ub2e4. \\ubbf8\\uc601\\uc774\\uc758 \\ub2a5\\ub825\\uc774 \\ub098\\ub0a0\\uc774 \\ub298\\uc5b4\\ub0a9\\ub2c8\\ub2e4. \\uadf8\\ub798\\uc11c \\ub098\\uc5f0\\uc774\\ub294 \\ub354 \\uc774\\uc0c1 \\ubbf8\\uc601\\uc774\\ub97c \\ub180\\ub9b4 \\uc218 \\uc5c6\\uac8c \\ub418\\uc5c8\\uc2b5\\ub2c8\\ub2e4. \\ub098\\uc5f0\\uc774\\ub294 \\uc0ac\\uacfc\\ud588\\uace0 \\ub458\\uc740 \\ub2e4\\uc2dc \\uc0ac\\uc774\\uac00 \\uc88b\\uc544\\uc84c\\uc2b5\\ub2c8\\ub2e4.\",\n          \"\\uc544\\uae30 \\uc637\\uc744 \\ubc97\\uae30\\uace0 \\uc785\\ud788\\uba74\\uc11c \\ube57\\uc73c\\ub85c \\uba38\\ub9ac\\ub3c4 \\ube57\\uaca8 \\uc8fc\\uc5c8\\ub2e4. \\ubc1d\\uc740 \\ube5b\\uc73c\\ub85c \\uacf1\\ud558\\uae30 \\uacf5\\ubd80\\ub97c \\ud558\\ub2e4\\uac00 \\uae09\\ud558\\uac8c \\ucc45 \\ud55c \\uad8c\\uc744 \\uc77d\\uc5c8\\ub2e4. \\ud070 \\ube5a\\uc744 \\uc838\\uc11c \\ub9db\\uc788\\ub294 \\ucc1c\\ub2ed\\ub3c4 \\ubabb \\uba39\\uace0 \\ubc24\\ub0ae\\uc73c\\ub85c \\ub6f0\\uc5b4\\ub2e4\\ub154\\ub2e4.  \\uc0ac\\uae30\\uadf8\\ub987 \\uac00\\uac8c\\ub85c\\ubd80\\ud130 \\uc0ac\\uae30\\ub97c \\ub2f9\\ud588\\ub2e4\\ub294 \\uac78 \\uc54c\\uace0 \\uadf8\\ub4e4\\uc740 \\uc0ac\\uae30\\uac00 \\ub5a8\\uc5b4\\uc84c\\ub2e4. \\uc11c\\ub978\\uc5ec\\ub35f\\uc758 \\uae40\\uc720\\uc2e0\\uc740 \\uad8c\\ub825\\uc744 \\uc774\\uc6a9\\ud574 \\ubd88\\ubc95\\uc73c\\ub85c \\uc0dd\\uc0b0\\ub77c\\uc778\\uc744 \\uac1c\\uc870\\ud558\\uc600\\ub2e4. \\uc18c\\uc8fc\\uc640 \\uae40\\ubc25\\uacfc \\ud1b5\\ub2ed\\uc744 \\uc990\\uaca8 \\uba39\\uc740 \\uae4c\\ub2ed\\uc5d0 \\uc218\\uc77c \\ub0b4\\uc5d0 \\ub3fc\\uc9c0\\uac00 \\ub420 \\uac83 \\uac19\\ub2e4. \\uc6d0\\ub8f8\\uc5d0 \\uc0ac\\ub2c8\\uae4c \\uc808\\uc57d\\ud560 \\ud544\\uc694\\uac00 \\uc5c6\\uc5b4\\uc11c \\ubc29\\uc744 \\ubc1d\\uac8c \\ud55c\\ub2e4. \\uc77c\\uc694\\uc77c\\ub0a0\\uc5d0\\ub294 \\uc548\\uc554 \\uc77c \\ub3d9\\uc5d0\\uc11c \\uc774 \\ub3d9\\uc73c\\ub85c \\uc774\\ub3d9\\ud558\\ub294 \\uac83\\ub3c4 \\uc740\\uadfc\\ud788 \\uc77c\\uc774\\ub2e4. \\uc800 \\ubcd1\\uc5d0 \\ub4e0 \\uc57d\\uc744 \\ub9c8\\uc2dc\\uba74 \\ubcd1\\uc5d0 \\ucc28\\ub3c4\\uac00 \\uc788\\uc744 \\uac83\\uc774\\ub2e4. \\uc74c\\uc6b4\\ub860\\uc744 \\uac00\\ub974\\uce58\\uc2dc\\ub358 \\uc120 \\ub2f4\\uc784\\uc120\\uc0dd\\ub2d8\\uc740 \\ud759\\uc5d0\\uc11c \\ub113\\uc8fd\\ud55c \\uace0\\uad6c\\ub9c8\\ub97c \\uce90\\uc168\\ub2e4. \\uc11c\\uc6b8\\uc5ed\\uc5d0\\uc11c \\uae40\\uc5f0\\uc544\\ub97c \\ubcf4\\uace0 \\uadf8 \\ucc2c\\ub780\\ud55c \\ubaa8\\uc2b5\\uc5d0 \\ub10b \\ub10b\\uc774 \\ub098\\uac14\\ub2e4. \\uc0b0\\uae30\\uc2ad\\uc5d0 \\uc788\\ub294 \\uc7a5\\ubbf8\\uaf43\\uc73c\\ub85c \\uc7a5\\uc2dd\\uc744 \\ud558\\ub824\\ub2e4\\uac00 \\uac00\\uc2dc\\uc758 \\ub05d\\uc744 \\ub9cc\\uc84c\\ub2e4. \\ub2a6\\uc5ec\\ub984\\uc774\\ub098 \\uac00\\uc744\\ub0a0\\uc5d0 \\uc0c1\\uacac\\ub840\\ub97c \\ud558\\ub824\\uace0 \\uc628 \\uc628\\ub77c\\uc778\\uc73c\\ub85c \\uc2dd\\ub2f9\\uc744 \\uc608\\uc57d\\ud588\\ub2e4. \\ub113\\uac8c \\uc9c0\\uc5b4\\uc9c4 \\uc5f0\\ub959\\uad50\\uac00 \\ud6a8\\uacfc\\uc801\\uc73c\\ub85c \\uc81c \\ubaab\\uc744 \\ub2e4 \\ud574\\ub0b4\\uace0 \\uc788\\ub2e4. \\uc774 \\ubaa8 \\uc528\\uc758 \\uc774\\ubaa8\\uac00 \\ub9c8\\uce68\\ub0b4 \\uace0\\uc18c \\uc808\\ucc28\\ub97c \\ubc1f\\uac8c \\ub418\\uc5c8\\ub2e4. \\uc758\\uacac\\uc11c \\uc791\\uc131 \\uc2dc \\ub744\\uc5b4\\uc4f0\\uae30\\uc758 \\uc6d0\\uce59\\uc5d0 \\uc8fc\\uc758\\ud574 \\uc8fc\\uc2ed\\uc2dc\\uc624. \\uc544\\ub4e4\\uacfc \\ubcd1\\uc6d0\\uc5d0 \\uac00\\ubcf4\\ub2c8 \\ud558\\ud544 \\ub179 \\ub291\\ub9c9\\uc5fc\\uc774\\uc5c8\\ub2e4. \\uc560\\ub2ec\\ud508 \\uac1c\\ucc98\\ub7fc \\ud574 \\uc9c8 \\ub158\\uae4c\\uc9c0 \\uc5c4\\ub9c8\\ub97c \\uae30\\ub2e4\\ub838\\ub2e4. \\uc5b4\\uc81c\\ub294 \\ud5c8\\ub9ac\\uac00 \\uc544\\ud30c\\uc11c \\uac70\\ub3d9 \\uac70\\ub3d9\\uc774 \\ubd88\\ud3b8\\ud588\\ub2e4. \\uc5d0\\ub204\\ub9ac \\uc5c6\\uc774 \\uac8c\\uc640 \\uace0\\ub4f1\\uc5b4\\ub97c \\ud30c\\ub294 \\uc0ac\\ub78c\\ub4e4\\uc744 \\ud5e4\\uc544\\ub824 \\ubcf4\\uc558\\ub2e4. \\uc624\\uc804\\uc5d0 \\ud638\\ub8e8\\ub77c\\uae30\\ub97c \\ucc59\\uaca8\\uc11c \\uace0\\uc0ac\\uc7a5\\uc73c\\ub85c \\uac14\\ub2e4. \\uc6b0\\ub9ac\\ub294 \\ud6c4\\uc2dd\\uc73c\\ub85c \\uacfc\\uc790\\ub97c \\uba39\\uc73c\\uba70 \\uad6c\\ub984\\uc744 \\ubcf4\\uc558\\ub2e4. \\uc73c\\ub984\\uc7a5\\uc744 \\ub193\\uc544\\uc11c \\uadf8\\ub97c \\ud750\\ub290\\ub07c\\uac8c \\ub9cc\\ub4e4\\uc5c8\\ub2e4. \\uc774\\ub3d9\\ud560 \\ub54c\\ub97c \\uae30\\ub2e4\\ub9ac\\uba70 \\ud788\\ud788\\ub355\\uac70\\ub838\\ub2e4. \\uc57c\\uc0dd\\ud654 \\ud5a5\\uae30\\ub97c \\ub9e1\\uc544\\ubcf4\\ub354\\ub2c8 \\uace0\\uac1c\\ub97c \\uc57d\\uac04 \\uac38\\uc6c3\\uac70\\ub838\\ub2e4. \\uc598\\ub294 \\uc598\\uae30\\uafbc\\uc774\\ub77c \\uac54\\ubcf4\\ub2e4 \\uc598\\uae30\\ub97c \\uc798\\ud574 \\uc5ec\\ub7ec\\uac00\\uc9c0 \\ud604\\uc545\\uae30\\uac00 \\uacb0\\uc774 \\uacf1\\ub2e4. \\uc608\\uae08 \\uc0c1\\ud488\\uc758 \\ud61c\\ud0dd\\uc744 \\uacc4\\uc0b0\\ud574\\ubcf4\\uc558\\ub2e4. \\uc640\\uc804\\ub41c \\uacfc\\uac70\\uc758 \\uc77c\\uc774 \\ud654\\ub97c \\ubd88\\ub7ec\\uc654\\ub2e4. \\uc65c\\uac00\\ub9ac\\uac00 \\uad18\\uc538\\ud558\\uac8c\\ub3c4 \\ud683\\ub300\\ub97c \\ubd80\\ub7ec\\ub728\\ub838\\ub2e4. \\uc678\\uc0bc\\ucd0c\\uc740 \\uae08\\uc735\\uc5c5 \\ubd84\\uc57c\\uc758 \\ud68c\\uc2dd\\uc744 \\uad34\\ub85c\\uc6cc\\ud588\\ub2e4. \\uc694\\uc998 \\uad50\\uc0ac\\ub4e4 \\uc0ac\\uc774\\uc5d0\\uc11c \\ud6a8\\ub3c4 \\uad00\\uad11\\uc774 \\uc720\\ud589\\uc774\\ub2e4. \\uc6cc\\ub099 \\uad8c\\ub825\\uc744 \\uc88b\\uc544\\ud574\\uc11c \\ud6e8\\uc52c \\ub354 \\ud68c\\uc7a5 \\uc790\\ub9ac\\uc5d0 \\uc9d1\\ucc29\\ud588\\ub2e4. \\uc6e8\\ub529\\ub4dc\\ub808\\uc2a4\\uc5d0 \\ub300\\ud574 \\uada4\\ubcc0\\uc744 \\ub298\\uc5b4\\ub193\\uc73c\\uba70 \\ud6fc\\ubc29\\uc744 \\ub193\\uc558\\ub2e4. \\uc704\\ub300\\ud55c \\uadc0\\ub18d\\uc778\\uc744 \\ub9cc\\ub098\\uae30 \\uc704\\ud574\\uc11c \\ud718\\ud30c\\ub78c\\uc744 \\ubd88\\uba70 \\uc637 \\uc785\\uace0 \\ub098\\uac14\\ub2e4. \\uc720\\ub3c4\\ubd80\\uac00 \\ud734\\uac00\\uc9c0\\uc5d0\\uc11c \\uade4\\uc744 \\uc0ac \\uc654\\ub2e4.\\u02a8 \\uc758\\uc0ac\\ub294 \\ucd95\\uc758\\uae08\\uacfc \\ud568\\uaed8 \\ud76c\\uc18c\\uc2dd\\uc744 \\uc804\\ud588\\ub2e4. \\uac00\\ud3c9\\uc758 \\uace0\\ucd94\\ubc2d\\uc5d0\\uc11c \\uae30\\uc801\\uc801\\uc73c\\ub85c \\uad6c\\ucd9c\\ub418\\uc5c8\\ub2e4. \\uae4c\\uce58\\ub294 \\uafb8\\ubb3c\\uac70\\ub9ac\\ub2e4\\uac00 \\uad6c\\uba4d \\uc0ac\\uc774\\uc5d0 \\ub07c\\uc5c8\\ub2e4. \\ub098\\ubb34\\uc5d0 \\ub110\\ub9b0 \\ub2c8\\ud2b8\\ub4e4\\uc774 \\ub204\\uad6c\\uc758 \\uac83\\uc778\\uc9c0 \\uad81\\uae08\\ud588\\ub2e4. \\ub2e4\\ub9ac \\uc544\\ub798 \\uc0ac\\ub294 \\ub450\\ub354\\uc9c0\\ub294 \\ub545\\uc744 \\ub514\\ub51c \\uc218 \\uc5c6\\uc5c8\\ub2e4. \\ub530\\uac00\\uc6b4 \\uc790\\uc678\\uc120\\uc5d0 \\ub69c\\uaed1\\uc774 \\uac80\\uc740 \\ube5b\\uc744 \\ub760\\uc5c8\\ub2e4. \\ub77c\\uba74\\uc744 \\uba39\\uc73c\\uba74\\uc11c \\uc19c\\uc774\\ubd88 \\uc704\\uc5d0\\uc11c \\ub8e8\\ub9c8\\ub2c8\\uc544 \\ucd95\\uad6c \\ub9ac\\uadf8\\ub97c \\ubcf4\\uc558\\ub2e4. \\ub9c8\\uce68\\ub0b4 \\ubb34\\uc11c\\uc6b4 \\ubbf8\\ub85c\\uc5d0\\uc11c \\ube60\\uc838\\ub098\\uc654\\ub2e4. \\ubc14\\ub2e4\\uc5d0\\uc11c \\ubd80\\ub4dc\\ub7ec\\uc6b4 \\ubc14\\ub78c\\uc744 \\ub9de \\ub9de\\uc73c\\uba70 \\ube44\\ube54\\ubc25\\uc744 \\uba39\\uc5c8\\ub2e4. \\ube60\\ub974\\uac8c \\ub6f0\\ub2e4\\uac00 \\ubfcc\\ub9ac\\uc5d0 \\uac78\\ub824\\uc11c \\ubc1c\\ubaa9\\uc744 \\uc090\\uc5c8\\ub2e4. \\uc0ac\\ub2e4\\ub9ac \\uc704\\uc5d0\\uc11c \\uc218\\ub2e4\\ub97c \\ub5a8\\ub2e4 \\ubcf4\\ub2c8 \\uc2dc\\uac04\\uc774 \\ub2e4 \\ub418\\uc5c8\\ub2e4. \\uc2f8\\ub2e4\\uace0 \\ud558\\ub294 \\uc528\\uac10\\uc790\\ub85c \\uc8fd\\uc744 \\uc464\\ub2e4 \\ub9d0\\uc558\\ub2e4. \\uc790\\uc804\\uac70 \\uac00\\uac8c\\uc5d0\\uc11c \\uc8fc\\ubbfc \\ud68c\\uc758\\uac00 \\uc9c0\\uae08 \\uc9c4\\ud589 \\uc911\\uc774\\ub2e4. \\uc9dc\\uac8c \\ub053\\uc778 \\ucc0c\\uac1c\\ub97c \\ucb48\\uadf8\\ub824 \\uc549\\uc544\\uc11c \\uba39\\uc5c8\\ub2e4. \\ucc28\\uc120\\uc744 \\ub118\\ub098\\ub4e4\\uba70 \\uce58\\uc5f4\\ud558\\uac8c \\ucd94\\uaca9\\uc804\\uc744 \\ubc8c\\uc600\\ub2e4. \\uce74\\uba54\\ub77c\\uc640 \\ucfe0\\ud0a4\\ub97c \\ub4e4\\uace0 \\uc788\\ub294 \\ub0a8\\uc790\\uac00 \\uac00\\uc7a5 \\ud0a4\\uac00 \\ud06c\\ub2e4. \\ud0c0\\uc870\\ub294 \\ud22c\\uba85\\ud55c \\uc720\\ub9ac\\uc5d0\\uc11c \\uce7c\\ub0a0\\uacfc \\ud2f0\\ub04c\\uc744 \\ubc1c\\uacac\\ud588\\ub2e4. \\ud30c\\ub780 \\ub208\\uacfc \\ud558\\uc580 \\ud53c\\ubd80 \\ub355\\ubd84\\uc5d0 \\uccab\\uc778\\uc0c1\\uc774 \\ud478\\uadfc\\ud574\\ubcf4\\uc600 \\ubcf4\\uc600\\ub2e4. \\ud558\\ub298\\uc774\\ub294 \\ud6c4\\ubbf8\\uc9c4 \\uace8\\ubaa9 \\ub05d\\uc5d0\\uc11c \\ud788\\uc8fd\\uac70\\ub838\\ub2e4.\"\n        ],\n        \"semantic_type\": \"\",\n        \"description\": \"\"\n      }\n    },\n    {\n      \"column\": \"Audio_Length\",\n      \"properties\": {\n        \"dtype\": \"number\",\n        \"std\": 3019.60296973201,\n        \"min\": 36.422,\n        \"max\": 30528.675,\n        \"num_unique_values\": 314,\n        \"samples\": [\n          937.432,\n          2707.439,\n          3426.334\n        ],\n        \"semantic_type\": \"\",\n        \"description\": \"\"\n      }\n    },\n    {\n      \"column\": \"Cleaned_Text\",\n      \"properties\": {\n        \"dtype\": \"string\",\n        \"num_unique_values\": 310,\n        \"samples\": [\n          \"\\ubc31\\ud654\\uc810\\uc5d0 \\uac00\\uc11c \\ubaa9\\uac78\\uc774\\uc640 \\ubc18\\uc9c0\\ub97c \\uc0c0\\uc2b5\\ub2c8\\ub2e4. \\ud734\\uc9c0\\ub97c \\ubc84\\ub824 \\uc8fc\\uc138\\uc694. \\uc6b0\\uccb4\\uad6d\\uc740 \\ubcd1\\uc6d0 \\uc55e\\uc5d0 \\uc788\\uc5b4\\uc694. \\uc57d\\uc744 \\ud558\\ub8e8\\uc5d0 \\ub450 \\ubc88\\uc529 \\ub4dc\\uc138\\uc694. \\uac10\\uae30\\uc5d0 \\uac78\\ub9ac\\uc9c0 \\uc54a\\ub3c4\\ub85d \\uc870\\uc2ec\\ud574\\ub77c. \\ub0b4\\uac00 \\ud1f4\\uadfc\\ud558\\ub294 \\uc2dc\\uac04\\uc740 \\ud56d\\uc0c1 \\uac19\\ub2e4. \\ubb3c\\uc774 \\ucc28\\ub2e4. \\uc624\\ub298\\ucc98\\ub7fc \\ub208\\uc774 \\uc624\\ub294 \\ub0a0\\uc740 \\uc870\\uc2ec\\ud574\\uc11c \\uc6b4\\uc804\\ud574\\uc57c \\ud55c\\ub2e4. \\ub2f9\\uc2e0\\uc774 \\ub9cc\\ub4e0 \\uc791\\ud488\\uc744 \\uc124\\uba85\\ud574 \\ubcf4\\uc138\\uc694. \\ub2f9\\uadfc\\uc740 \\ubb34\\uc2a8 \\uc0c9\\uc785\\ub2c8\\uae4c? \\ucee4\\ud53c\\ub97c \\ub9c8\\uc154\\uc11c \\uc7a0\\uc774 \\uc624\\uc9c0 \\uc54a\\ub294\\ub2e4. \\uc5ec\\uae30\\uc11c \\uae30\\ub2e4\\ub9ac\\uc138\\uc694. \\uc804\\ud654\\ubc88\\ud638\\uac00 \\uc5b4\\ub5bb\\uac8c \\ub429\\ub2c8\\uae4c? \\uc624\\ub798\\ub41c \\uc74c\\uc2dd\\uc740 \\uba39\\uc9c0 \\ub9c8\\uc138\\uc694. \\ub208\\uc774 \\ub0b4\\ub9ac\\ub294 \\uaca8\\uc6b8\\uc774 \\ube68\\ub9ac \\uc654\\uc73c\\uba74 \\uc88b\\uaca0\\uc2b5\\ub2c8\\ub2e4. \\uc544\\uce68\\uc5d0 \\uc548\\uac1c\\uac00 \\uaef4\\uc11c \\uc55e\\uc744 \\ubcf4\\uae30\\uac00 \\ud798\\ub4e4\\uc5c8\\ub2e4. \\uc218\\ubc15\\uc774 \\ub2ec\\ub2e4. \\uc77c\\uc744 \\ub9c8\\uce58\\uace0 \\uac08 \\uc2dc\\uac04\\uc774 \\ucda9\\ubd84\\ud569\\ub2c8\\ub2e4. \\ub0b4\\uac00 \\uc77d\\uc740 \\ucc45\\uc744 \\ub108\\ud55c\\ud14c \\ube4c\\ub824\\uc904\\uac8c. \\uc74c\\uc545\\uc744 \\ub4e4\\uc73c\\uba70 \\uc6b4\\ub3d9\\ud574 \\ubcf4\\uc138\\uc694.  \\uccad\\uc18c\\ub97c \\ud558\\ub2e4\\uac00 \\ub0b4\\uac00 \\uc783\\uc5b4\\ubc84\\ub838\\ub358 \\ubc18\\uc9c0\\ub97c \\ucc3e\\uc558\\ub2e4. \\ud574\\uac00 \\ub72c\\ub2e4. \\uc8fc\\uc18c\\ub97c \\uc54c\\ub824 \\uc8fc\\uc138\\uc694. \\uc88b\\uc544\\ud558\\ub294 \\uc74c\\uc2dd\\uc774 \\ubb61\\ub2c8\\uae4c? \\uc678\\ud22c\\uc640 \\uc7a5\\uac11\\uc744 \\ubc97\\uace0 \\ub4e4\\uc5b4\\uc640\\uc694. \\uacbd\\ucc30\\uc774 \\uc774 \\uacf3\\uc73c\\ub85c \\uace7 \\uc628\\ub2e4\\uace0 \\ud588\\uc5b4\\uc694. \\uae38\\uc774 \\ub108\\ubb34 \\ub9c9\\ud600\\uc11c \\uc57d\\uc18d\\uc5d0 \\ub2a6\\uc5c8\\uc2b5\\ub2c8\\ub2e4. \\ud3b8\\uc2dd\\uc744 \\ud558\\ub294 \\uc2b5\\uad00\\uc740 \\uac74\\uac15\\uc5d0 \\ud574\\ub85c\\uc6cc\\uc694. \\ud55c \\uc904\\ub85c \\ub611\\ubc14\\ub85c \\uc11c \\uc8fc\\uc2ed\\uc2dc\\uc624.  \\ub0c9\\uba74\\uc744 \\uba39\\uc73c\\ub7ec \\uc2dd\\ub2f9\\uc5d0 \\uac11\\ub2c8\\ub2e4. \\uc0ac\\uc9c4\\uc744 \\ucc0d\\uc5b4 \\uc8fc\\uc138\\uc694. \\uc800\\ub141\\uc5d0 \\ubb34\\uc5c7\\uc744 \\uba39\\uc744\\uae4c? \\ubc30\\uac00 \\uace0\\ud504\\ub2e4. \\uc5f4\\uc1e0\\uac00 \\uc5c6\\uc5b4\\uc11c \\ubb38\\uc744 \\uc5f4\\uc9c0 \\ubabb\\ud588\\ub2e4. \\uc5b4\\ub450\\uc6b4 \\uacf3\\uc5d0\\uc11c \\ucc45\\uc744 \\uc77d\\uc9c0 \\ub9c8\\uc138\\uc694. \\ubc84\\uc2a4\\uc5d0 \\uc0ac\\ub78c\\uc774 \\ub9ce\\uc544\\uc11c \\ub0b4\\uac00 \\uc549\\uc744 \\uc790\\ub9ac\\uac00 \\uc5c6\\ub2e4. \\ub0c9\\uc7a5\\uace0\\uc5d0\\uc11c \\ub450\\ubd80\\uc640 \\uc57c\\ucc44\\ub97c \\uaebc\\ub0c5\\ub2c8\\ub2e4. \\ub9e4\\uc77c \\uac15\\uc544\\uc9c0\\ub97c \\ub370\\ub9ac\\uace0 \\uc0b0\\ucc45\\uc744 \\uac04\\ub2e4. \\ucc28\\uac00 \\ub0b4\\ubfdc\\ub294 \\uc5f0\\uae30 \\ub54c\\ubb38\\uc5d0 \\ud558\\ub298\\uc774 \\ubfcc\\uc607\\ub2e4. \\uc22b\\uc790\\uac00 \\uc801\\ud600\\uc788\\ub294 \\uce74\\ub4dc\\ub97c \\uace8\\ub77c\\ubcf4\\uc138\\uc694. \\ud654\\uc7a5\\uc2e4\\uc740 \\uc5b4\\ub514\\uc5d0 \\uc788\\uc2b5\\ub2c8\\uae4c? \\ube68\\uac04 \\ubd88\\uc5d0 \\uac74\\ub108\\uac00\\uc9c0 \\ub9c8\\uc2ed\\uc2dc\\uc624. \\ubc25\\uc744 \\uba39\\uc790. \\uce6d\\ucc2c\\uc744 \\ubc1b\\ub294 \\uac83\\uc740 \\uae30\\ubd84 \\uc88b\\uc740 \\uc77c\\uc785\\ub2c8\\ub2e4. \\uc6b0\\ub9ac \\uac00\\uc871\\uc740 \\ubaa8\\ub450 \\uc5ec\\uc12f \\uba85\\uc785\\ub2c8\\ub2e4. \\uc77c\\uc744 \\ube68\\ub9ac \\ub05d\\ub0b4\\uace0 \\uc9d1\\uc73c\\ub85c \\uac08\\uaed8\\uc694. \\ucc3d\\ubb38\\uc744 \\uc5f4\\uc5b4 \\uc8fc\\uc138\\uc694. \\uac00\\uc744\\uc774 \\uc624\\uba74 \\ub098\\ubb34\\uc5d0 \\ub2e8\\ud48d\\uc774 \\ub4e0\\ub2e4. \\ube44\\uac00 \\ub0b4\\ub9b0 \\uae38\\uc740 \\ubbf8\\ub044\\ub7ec\\uc6cc\\uc11c \\ub9e4\\uc6b0 \\uc704\\ud5d8\\ud558\\ub2e4. \\uc6b0\\ub9ac\\uac00 \\uc774\\uacbc\\ub2e4\\ub294 \\uc18c\\uc2dd\\uc744 \\ub4e3\\uace0 \\uac10\\uaca9\\ud588\\ub2e4. \\uc124\\uba85\\uc11c\\ub97c \\uc77d\\uc5b4\\ubcf4\\uace0 \\uc0ac\\uc6a9\\ud558\\uc138\\uc694. \\uc2e0\\ubc1c\\uc744 \\ubc97\\uc5b4 \\uc8fc\\uc138\\uc694. \\ud68c\\uc0ac \\uc55e\\uc5d0\\uc11c \\uc77c\\uacf1 \\uc2dc\\uc5d0 \\ub9cc\\ub0a9\\uc2dc\\ub2e4.  \\uc8fc\\ucc28\\uc7a5\\uc740 \\uc9c0\\ud558\\uc5d0 \\uc788\\uc2b5\\ub2c8\\ub2e4. \\uc637\\uc774 \\ud06c\\ub2e4. \\ub098\\ub294 \\uace0\\ucd94\\uac00 \\ub4e4\\uc5b4\\uac04 \\uc74c\\uc2dd\\uc740 \\ub9f5\\uc9c0\\ub9cc \\uc88b\\uc544\\ud55c\\ub2e4. \\ub0c9\\uc7a5\\uace0\\uac00 \\uace0\\uc7a5\\ub098\\uc11c \\uc218\\ub9ac\\ub97c \\ub9e1\\uacbc\\uc2b5\\ub2c8\\ub2e4. \\uc6b0\\ud45c \\ud55c \\uc7a5\\uc740 \\uc5bc\\ub9c8\\uc785\\ub2c8\\uae4c? \\ubb3c\\uac74\\uc744 \\ud6d4\\uce5c \\ub3c4\\ub451\\uc744 \\uacbd\\ucc30\\uc774 \\ucc28\\uc5d0 \\ud0dc\\uc6e0\\ub2e4. \\uc4f0\\ub808\\uae30\\ub97c \\ubd84\\ub9ac\\ud558\\ub294 \\uac83\\uc744 \\uc78a\\uc9c0 \\ub9c8\\uc138\\uc694. \\uc804\\ud654\\uac00 \\uc628\\ub2e4. \\ub0b4\\uc77c \\uce5c\\uad6c\\uc640 \\ub9cc\\ub098\\uc11c \\uc601\\ud654\\ubcf4\\ub7ec \\uac08\\uac70\\uc57c. \\uc6b0\\uc720\\ub97c \\ucef5\\uc5d0 \\uac00\\ub4dd \\ub530\\ub77c \\ub9c8\\uc2ed\\ub2c8\\ub2e4. \\uc544\\uc774\\ub4e4\\uc774 \\ub178\\ub798\\ub97c \\ubd80\\ub974\\uba70 \\uac78\\uc5b4\\uac11\\ub2c8\\ub2e4. \\uc774 \\uacf3\\uc5d0\\uc11c \\ub2f4\\ubc30\\ub97c \\ud53c\\uc6b0\\uc9c0 \\ub9c8\\uc138\\uc694. \\ub0b4\\uac00 \\uc0ac\\uace0 \\uc2f6\\uc740 \\ubc14\\uc9c0\\uac00 \\uc788\\uc9c0\\ub9cc \\ub108\\ubb34 \\ube44\\uc2f8\\ub2e4. \\uc190\\uc744 \\ub4e4\\uc5b4 \\uc8fc\\uc138\\uc694. \\uc6b0\\ub9ac\\ub294 \\uc720\\uba85\\ud55c \\uac00\\uc218\\uac00 \\uc628\\ub2e4\\ub294 \\uc18c\\uc2dd\\uc744 \\ub4e4\\uc5c8\\ub2e4. \\uac70\\uc9d3\\ub9d0\\uc744 \\ud558\\ub294 \\uac83\\uc774 \\ubd84\\uba85\\ud569\\ub2c8\\ub2e4. \\uace0\\uae30\\ub294 \\uc88b\\uc544\\ud558\\uc9c0\\ub9cc \\uc0dd\\uc120\\uc740 \\uc2eb\\uc5b4\\ud55c\\ub2e4. \\uae30\\ucc28\\ub97c \\ud0c8 \\ubd84\\uc740 \\uc904\\uc744 \\uc11c\\uc11c \\uae30\\ub2e4\\ub9ac\\uc138\\uc694. \\uc9d0\\uc774 \\ubb34\\uac81\\ub2e4. \\uadf8\\uac00 \\uc544\\ud504\\ub2e4\\ub294 \\uc5f0\\ub77d\\uc744 \\ubc1b\\uace0 \\ubb34\\ucc99 \\ub180\\ub790\\ub2e4. \\uc758\\uc0ac\\ub294 \\uba38\\ub9ac\\ub97c \\ub2e4\\uce5c \\ud658\\uc790\\ub97c \\uce58\\ub8cc\\ud55c\\ub2e4. \\uc601\\ud654\\ub294 \\uc5b8\\uc81c \\uc2dc\\uc791\\ud569\\ub2c8\\uae4c? \\ud654\\ubd84\\uc5d0 \\ubb3c\\uc744 \\uc790\\uc8fc \\uc8fc\\uc5c8\\uc9c0\\ub9cc \\uaf43\\uc774 \\uc2dc\\ub4e4\\uc5c8\\ub2e4. \\uc0c8\\ubcbd\\uc5d0 \\ucc9c\\ub465\\uc774 \\uce58\\uace0 \\ube44\\uac00 \\ub0b4\\ub838\\uc5b4\\uc694. \\ud314 \\uce35\\uc744 \\ub20c\\ub7ec \\uc8fc\\uc138\\uc694. \\uc4f0\\ub808\\uae30 \\ud0dc\\uc6b0\\ub294 \\ub0c4\\uc0c8\\uac00 \\uace0\\uc57d\\ud558\\ub2e4.\",\n          \"\\uc544\\uae30 \\uc637\\uc744 \\ubc97\\uae30\\uace0 \\uc785\\ud788\\uba74\\uc11c \\ube57\\uc73c\\ub85c \\uba38\\ub9ac\\ub3c4 \\ube57\\uacbc\\uc5b4\\uc694. \\ubc1d\\uc740 \\ube5b\\uc73c\\ub85c \\uacf1\\ud558\\uae30 \\uacf5\\ubd80\\ub97c \\ud558\\ub2e4\\uac00 \\uae09\\ud558\\uac8c \\ucc45 \\ud55c \\uad8c\\uc744 \\uc77d\\uc5c8\\ub2e4. \\ud070 \\ube5a\\uc744 \\uc838\\uc11c \\ub9db\\uc788\\ub294 \\ucc1c\\ub2ed\\uc740 \\ucc1c\\ub2ed\\ub3c4 \\ubabb \\uba39\\uace0 \\ubc24\\ub0ae\\uc73c\\ub85c \\ub6f0\\uc5b4\\ub2e4\\ub154\\ub2e4.  \\uc0ac\\uae30\\uadf8\\ub987 \\uac00\\uac8c\\ub85c\\ubd80\\ud130 \\uc0ac\\uae30\\ub97c \\ub2f9\\ud588\\ub2e4\\ub294 \\uac78 \\uc54c\\uace0 \\uadf8\\ub4e4\\uc740 \\uc0ac\\uae30\\uac00 \\ub5a8\\uc5b4\\uc84c\\ub2e4. \\uc11c \\uc11c \\uc11c \\uc11c\\ub978\\uc5ec\\ub35f\\uc758 \\uae40\\uc720\\uc2e0\\uc740 \\uad8c\\ub825\\uc744 \\uc774\\uc6a9\\ud574 \\ubd88\\ubc95\\uc73c\\ub85c \\uc0dd\\uc0b0\\ub77c\\uc778\\uc744 \\uac1c\\uc870\\ud558\\uc600\\ub2e4. \\uc18c\\uc8fc\\uc640 \\uae40\\ubc25\\uacfc \\ud1b5\\ub2ed\\uc744 \\uc990\\uaca8 \\uba39\\uc740 \\uae4c\\ub2ed\\uc5d0 \\uc218\\uc77c \\ub0b4\\uc5d0 \\ub3fc\\uc9c0\\uac00 \\ub420 \\uac83 \\uac19\\ub2e4. \\uc6d0\\ub8f8\\uc5d0 \\uc0ac\\ub2c8\\uae4c \\uc808\\uc57d\\ud560 \\ud544\\uc694\\uac00 \\uc5c6\\uc5b4\\uc11c \\ubc29\\uc744 \\ubc1d\\uac8c \\ud55c\\ub2e4. \\uc77c\\uc694\\uc77c\\ub0a0\\uc5d0\\ub294 \\uc548\\uc554 \\uc77c \\ub3d9\\uc5d0\\uc11c \\uc774 \\ub3d9\\uc73c\\ub85c \\uc774\\ub3d9\\ud558\\ub294 \\uac83\\ub3c4 \\uc740\\uadfc\\ud788 \\uc77c\\uc774\\ub2e4. \\uc800 \\ubcd1\\uc5d0 \\ub4e0 \\uc57d\\uc744 \\ub9c8\\uc2dc\\uba74 \\ubcd1\\uc5d0 \\ucc28\\ub3c4\\uac00 \\uc788\\uc744 \\uac83\\uc774\\ub2e4. \\uc74c\\uc6b4\\ub860\\uc744 \\uac00\\ub974\\uce58\\uc2dc\\ub358 \\ub2f4\\uc784\\uc120\\uc0dd\\ub2d8\\uc740 \\ud759\\uc5d0\\uc11c \\ub113\\uc8fd\\ud55c \\uace0\\uad6c\\ub9c8\\ub97c \\uce90\\uc168\\ub2e4. \\uc11c\\uc6b8\\uc5ed\\uc5d0\\uc11c \\uae40\\uc5f0\\uc544\\ub97c \\ubcf4\\uace0 \\uadf8 \\ucc2c\\ub780\\ud55c \\ubaa8\\uc2b5\\uc5d0 \\ub10b\\uc774 \\ub098\\uac14\\ub2e4. \\uc0b0\\uae30\\uc2ad\\uc5d0 \\uc788\\ub294 \\uc7a5\\ubbf8\\uaf43\\uc73c\\ub85c \\uc7a5\\uc2dd\\uc744 \\ud558\\ub2e4\\uac00 \\uac00\\uc0ac\\uc758 \\ub05d\\uc744 \\ub9cc\\uc84c\\ub2e4. \\ub2a6\\uc5ec\\ub984\\uc774\\ub098 \\uac00\\uc744\\ub0a0\\uc5d0 \\uc0c1\\uacac\\ub840\\ub97c \\ud558\\ub824\\uace0 \\uc628\\ub77c\\uc778\\uc73c\\ub85c \\uc2dd\\ub2f9\\uc5d0 \\uc608\\uc57d\\ud588\\ub2e4. \\ub113\\uac8c \\uc9c0\\uc5b4\\uc9c4 \\uc5f0\\ub959\\uad50\\uac00 \\ud6a8\\uacfc\\uc801\\uc73c\\ub85c \\uc81c \\ubaab\\uc744 \\ub2e4 \\ud574\\ub0b4\\uace0 \\uc788\\ub2e4. \\uc774 \\ubaa8 \\uc528\\uc758 \\uc774 \\ubaa8 \\uc528 \\ubb50\\uc57c \\uc774\\ubaa8\\uac00 \\ub9c8\\uce68\\ub0b4 \\uace0\\uc18c \\uc808\\ucc28\\ub97c \\ubc1f\\uac8c \\ub418\\uc5c8\\ub2e4. \\uc758\\uacac\\uc11c  \\uc791\\uc131 \\uc2dc \\ub744\\uc5b4 \\ub744\\uc5b4\\uc4f0\\uae30\\uc758 \\uc6d0\\uce59\\uc5d0 \\uc8fc\\uc758\\ub97c \\uc8fc\\uc2ed\\uc2dc\\uc624. \\uc544\\ub4e4 \\uacfc \\ubcd1\\uc6d0\\uc5d0 \\uac00\\ubcf4\\ub2c8 \\ud558\\ud544 \\ub291\\ub9c9\\uc5fc\\uc774\\uc5c8\\ub2e4. \\uc560\\ub2ec\\ud508 \\uac1c\\ucc98\\ub7fc \\ud574 \\uc9c8 \\ub158 \\ud574 \\uc9c8 \\ub158 \\uae4c\\uc9c0 \\uc5c4\\ub9c8\\ub97c \\uae30\\ub2e4\\ub838\\ub2e4. \\uc5b4\\uc81c\\ub294  \\ud5c8\\ub9ac\\uac00 \\uc544\\ud30c\\uc11c \\uac70\\ub3d9\\uc774 \\ubd88\\ud3b8\\ud588\\ub2e4. \\uc5d0\\ub204\\ub9ac \\uc5c6\\uc774 \\uac8c\\uc640 b \\uace0\\ub4f1\\uc5b4\\ub97c \\ud30c\\ub294 \\uc0ac\\ub78c\\ub4e4\\uc744 \\ud5e4\\uc544\\ub824 \\ubcf4\\uc558\\ub2e4. \\uc624\\uc804\\uc5d0 \\ud638\\ub8e8\\ub77c\\uae30\\ub97c \\ucc59\\uaca8\\uc11c \\uace0\\uc0ac\\uc7a5\\uc73c\\ub85c \\uac14\\ub2e4. \\uc6b0\\ub9ac\\ub294 \\ud6c4\\uc2dd\\uc73c\\ub85c \\uacfc\\uc790\\ub97c \\uba39\\uc73c\\uba74 \\uad6c\\ub984\\uc744 \\ubcf4\\uc558\\ub2e4. \\uc7a5\\uc744 \\ub193\\uc544\\uc11c \\uadf8\\ub97c \\ud750\\ub290\\ub07c\\uac8c \\ub9cc\\ub4e4\\uc5c8\\ub2e4. \\ub54c\\ub97c \\uae30\\ub2e4\\ub9ac\\uba70 \\ud788\\ud788\\ub355\\uac70\\ub838\\ub2e4. \\uc57c\\uc0dd\\ud654 \\ud5a5\\uae30\\ub97c \\ub9e1\\uc544\\ubcf4\\ub354\\ub2c8 \\uace0\\uac1c\\ub97c \\uc57d\\uac04 \\uac38\\uc6c3\\uac70\\ub838\\ub2e4.  \\uc598\\uae30\\uafbc\\uc774\\ub77c \\uac54\\ubcf4\\ub2e4 \\uc598\\uae30\\ub97c \\uc798\\ud578\\ub2e4. \\uc5ec\\ub7ec\\uac00\\uc9c0 \\ud604\\uc545\\uae30\\uac00 \\uacb0\\uc774 \\uacf1\\ub2e4. \\uc0c1\\ud488\\uc758 \\ud61c\\ud0dd\\uc744 \\uacc4\\uc0b0\\ud574\\ubcf4\\uc558\\ub2e4. \\ub41c \\uacfc\\uac70\\uc758 \\uc77c\\uc774 \\ud654\\ub97c \\ubd88\\ub7ec\\uc654\\ub2e4. \\uc65c\\uac00\\ub9ac\\uac00 \\uad18\\uc538\\ud558\\uac8c\\ub3c4 \\ud683\\ub300\\ub97c \\ubd80\\ub7ec\\ub728\\ub838\\ub2e4. n \\uc678\\uc0bc\\ucd0c\\uc740 \\uae08\\uc735\\uc5c5 \\ubd84\\uc57c\\uc758 \\ud68c\\uc2dd\\uc744 \\uad34\\ub85c\\uc6cc\\ud588\\ub2e4. \\uad50\\uc0ac\\ub4e4 \\uc0ac\\uc774\\uc5d0\\uc11c \\ud6a8\\ub3c4 \\uad00\\uad11\\uc774 \\uc720\\ud589\\uc774\\ub2e4. \\uc6cc\\ub099 \\uad8c\\ub825\\uc744 \\uc88b\\uc544\\ud574\\uc11c \\ud6e8\\uc52c \\ub354 \\ud68c\\uc7a5 \\uc790\\ub9ac\\uc5d0 \\uc9d1\\ucc29\\ud588\\ub2e4. \\uc6e8\\ub529\\ub4dc\\ub808\\uc2a4\\uc5d0 \\ub300\\ud574 \\uada4\\ubcc0\\uc744 \\ub298\\uc5b4\\ub193\\uc73c\\uba70 \\ud6fc\\ubc29\\uc744 \\ub193\\uc558\\ub2e4. \\uc704\\ub300\\ud55c \\uadc0\\ub18d\\uc778\\uc744 \\ub9cc\\ub098\\uae30 \\uc704\\ud574\\uc11c \\ud718\\ud30c\\ub78c\\uc744 \\ubd88\\uba70 \\uc637 \\uc785\\uace0 \\ub098\\uac14\\ub2e4. \\uc720\\ub3c4\\ubd80\\uac00 \\ud734\\uac00\\uc9c0\\uc5d0\\uc11c \\uade4\\uc744 \\uc0ac \\uc654\\ub2e4. \\ucd95\\uc758\\uae08 \\ucd94 \\ucd95\\uc758\\uae08\\uacfc \\ud568\\uaed8 \\ud76c\\uc18c\\uc2dd\\uc744 \\uc804\\ud588\\ub2e4. \\uac00\\ud3c9\\uc758 \\uace0\\ucd94\\ubc2d\\uc5d0\\uc11c \\uae30\\uc801\\uc801\\uc73c\\ub85c \\uad6c\\ucd9c\\ub418\\uc5c8\\ub2e4. o \\ub294 \\uafb8\\ubb3c\\ub370\\ub2e4\\uac00 \\uad6c\\uba4d \\uc0ac\\uc774\\uc5d0 \\ub07c\\uc5c8\\ub2e4. \\uc544 \\uafb8\\ubb3c\\uac70\\ub9ac\\ub2e4\\uac00 \\uae4c\\uce58\\ub294 \\uafb8\\ubb3c\\uac70\\ub9ac\\ub2e4\\uac00 \\uad6c\\uba4d \\uc0ac\\uc774\\uc5d0 \\ub07c\\uc5c8\\ub2e4. \\uc0ac\\ub294 \\ub450\\ub354\\uc9c0\\ub294 \\ub545\\uc744. o \\ucc28\\uac00\\uc6b4 \\uc790\\uc678\\uc120\\uc5d0 \\ub69c\\uaed1\\uc774 \\uac80\\uc740 \\ube5b\\uc744 \\ub760\\uc5c8\\ub2e4. \\uc744 \\uba39\\uc73c\\uba74\\uc11c \\uc19c\\uc774\\ubd88 \\uc704\\uc5d0\\uc11c \\ub8e8\\ub9c8\\ub2c8\\uc544 \\ucd95\\uad6c \\ub9ac\\uadf8\\ub97c \\ubcf4\\uc558\\ub2e4. \\ub9c8\\uce68\\ub0b4 \\ubb34\\uc11c\\uc6b4 \\ubbf8\\ub85c\\uc5d0\\uc11c \\ube60\\uc838\\ub098\\uc654\\ub2e4. \\ubc14\\ub2e4\\uc5d0\\uc11c \\ubd80\\ub4dc\\ub7ec\\uc6b4 \\ubc14\\ub78c\\uc744 \\ub9de\\uc73c\\uba74 \\ube44\\ube54\\ubc25\\uc744 \\uba39\\uc5c8\\ub2e4. \\ub974\\uac8c \\ub6f0\\ub2e4\\uac00 \\ubfcc\\ub9ac\\uc5d0 \\uac78\\ub824\\uc11c \\ubc1c\\ubaa9\\uc744 \\uc090\\uc5c8\\ub2e4. \\uc0ac\\ub2e4\\ub9ac \\uc704\\uc5d0\\uc11c \\uc218\\ub2e4\\ub97c \\ub5a8\\ub2e4 \\ubcf4\\ub2c8 \\uc2dc\\uac04\\uc774 \\ub2e4 \\ub418\\uc5c8\\ub2e4. \\uc2f8\\ub2e4\\uace0 \\ud558\\ub294 \\uc528 \\uc528 \\uc528 \\uc528\\uac10\\uc790\\ub85c \\uc8fd\\uc744 \\uc464\\ub2e4 \\ub9d0\\uc558\\ub2e4. \\uc790\\uc804\\uac70 \\uac00\\uac8c\\uc5d0\\uc11c \\uc8fc\\ubbfc \\ud68c\\uc758\\uac00 \\uc9c0\\uae08 \\uc9c4\\ud589 \\uc911\\uc774\\ub2e4. \\uc9dc\\uac8c \\ub053\\uc778 \\ucc0c\\uac1c\\ub97c \\ucb48\\uadf8\\ub824 \\uc549\\uc544\\uc11c \\uba39\\uc5c8\\ub2e4. \\uc120\\uc744 \\ub118\\ub098\\ub4e4\\uba70 \\uce58\\uc5f4\\ud558\\uac8c \\ucd94\\uaca9\\uc804\\uc744 \\ubc8c\\uc600\\ub2e4. \\uc640 \\ucfe0\\ud0a4\\ub97c \\ub4e4\\uace0 \\uc788\\ub294 \\ub0a8\\uc790\\uac00 \\uac00\\uc7a5 \\ud0a4\\uac00 \\ud06c\\ub2e4. \\ub294 \\ud22c\\uba85\\ud55c \\uc720\\ub9ac\\uc5d0\\uc11c \\uce7c\\ub0a0\\uc744 \\ud2f0\\ub04c\\uc744 \\ubc1c\\uacac\\ud588\\ub2e4. \\ud30c\\ub780 \\ub208\\uacfc \\ud558\\uc580 \\ud53c\\ubd80 \\ub355\\ubd84\\uc5d0 \\uccab\\uc778\\uc0c1\\uc774 \\ud478\\uadfc\\ud574\\ubcf4\\uc558\\ub2e4. \\ud558\\ub298\\uc774\\ub294 \\ud6c4\\ubbf8\\uc9c4 \\uace8\\ubaa9 \\ub05d\\uc5d0\\uc11c \\ud788\\uc8fd\\uac70\\ub838\\ub2e4.\",\n          \"\\uc544\\uae30 \\uc637\\uc744 \\ubc97\\uae30\\uace0 \\uc785\\ud788\\uba74\\uc11c \\ube57\\uc73c\\ub85c \\uba38\\ub9ac\\ub3c4 \\ube57\\uaca8 \\uc8fc\\uc5c8\\ub2e4. \\ubc1d\\uc740 \\ube5b\\uc73c\\ub85c \\uacf1\\ud558\\uae30 \\uacf5\\ubd80\\ub97c \\ud558\\ub2e4\\uac00 \\uae09\\ud558\\uac8c \\ucc45 \\ud55c \\uad8c\\uc744 \\uc77d\\uc5c8\\ub2e4. \\ud070 \\ube5a\\uc744 \\uc838\\uc11c \\ub9db\\uc788\\ub294 \\ucc1c\\ub2ed\\ub3c4 \\ubabb \\uba39\\uace0 \\ubc24\\ub0ae\\uc73c\\ub85c \\ub6f0\\uc5b4\\ub2e4\\ub154\\ub2e4.  \\uc0ac\\uae30\\uadf8\\ub987 \\uac00\\uac8c\\ub85c\\ubd80\\ud130 \\uc0ac\\uae30\\ub97c \\ub2f9\\ud588\\ub2e4\\ub294 \\uac78 \\uc54c\\uace0 \\uadf8\\ub4e4\\uc740 \\uc0ac\\uae30\\ub97c \\ub5a8\\uc5b4\\uc84c\\ub2e4. \\uc11c\\ub978\\uc5ec\\ub35f\\uc758 \\uae40\\uc720\\uc2e0\\uc740 \\uad8c\\ub825\\uc744 \\uc774\\uc6a9\\ud574 \\ubd88\\ubc95\\uc73c\\ub85c \\uc0dd\\uc0b0\\ub77c\\uc778\\uc744 \\uac1c\\uc870\\ud558\\uc600\\ub2e4. \\uc18c\\uc8fc\\uc640 \\uae40\\ubc25\\uacfc \\ud1b5\\ub2ed\\uc744 \\uc990\\uaca8 \\uba39\\uc740 \\uae4c\\ub2ed\\uc5d0 \\uc218\\uc77c \\ub0b4\\uc5d0 \\ub3fc\\uc9c0\\uac00 \\ub420 \\uac83 \\uac19\\ub2e4. \\uc6d0\\ub8f8\\uc5d0 \\uc0ac\\ub2c8\\uae4c \\uc808\\uc57d\\ud560 \\ud544\\uc694\\uac00 \\uc5c6\\uc5b4\\uc11c \\ubc29\\uc744 \\ubc1d\\uac8c \\ud55c\\ub2e4. \\uc77c\\uc694\\uc77c\\ub0a0\\uc5d0\\ub294 \\uc548\\uc554 \\uc77c \\ub3d9\\uc5d0\\uc11c \\uc774 \\ub3d9\\uc73c\\ub85c \\uc774\\ub3d9\\ud558\\ub294 \\uac83\\uacfc \\uc740\\uadfc\\ud788 \\uc77c\\ud558\\ub2e4. \\uc800 \\ubcd1\\uc5d0 \\ub4e0 \\uc57d\\uc744 \\ub9c8\\uc2dc\\uba74 \\ubcd1\\uc5d0 \\ucc28\\ub3c4\\uac00 \\uc788\\uc744 \\uac83\\uc774\\ub2e4. \\uc74c\\uc6b4\\ub860\\uc744 \\uac00\\ub974\\uce58\\uc2dc\\ub358 \\ub2f4\\uc784\\uc120\\uc0dd\\ub2d8\\uc740 \\ud759\\uc5d0\\uc11c \\ub113\\uc8fd\\ud55c \\uace0\\uad6c\\ub9c8\\ub97c \\uce90\\uc168\\ub2e4. \\uc11c\\uc6b8\\uc5ed\\uc5d0\\uc11c \\uae40\\uc5f0\\uc544\\ub97c \\ubcf4\\uace0 \\uadf8 \\ucc2c\\ub780\\ud55c \\ubaa8\\uc2b5\\uc5d0 \\ub10b\\uc774 \\ub098\\uac14\\ub2e4. \\uc0b0\\uae30\\uc2ad\\uc5d0 \\uc788\\ub294 \\uc7a5\\ubbf8\\uaf43\\uc73c\\ub85c \\uc7a5\\uc2dd\\uc744 \\ud558\\ub824\\ub2e4\\uac00 \\uac00\\uc2dc\\uc758 \\ub05d\\uc744 \\ub9cc\\uc84c\\ub2e4. \\ub2a6\\uc5ec\\ub984\\uc774\\ub098 \\uac00\\uc744\\ub0a0\\uc5d0 \\uc0c1\\uacac\\ub840\\ub97c \\ud558\\ub824\\uace0 \\uc628\\ub77c\\uc778\\uc73c\\ub85c \\uc2dd\\ub2f9\\uc744 \\uc608\\uc57d\\ud588\\ub2e4. \\ub113\\uac8c \\uc9c0\\uc5b4\\uc9c4 \\uc5f0\\ub959\\uad50\\uac00 \\ud6a8\\uacfc\\uc801\\uc73c\\ub85c \\uc81c \\ubaab\\uc744 \\ub2e4 \\ud574\\ub0b4\\uace0 \\uc788\\ub2e4. \\uc774 \\ubaa8 \\uc528\\uc758 \\uc774\\ubaa8\\uac00 \\ub9c8\\uce68\\ub0b4 \\uace0\\uc18c \\ucca0\\ucc28\\ub97c \\ubc1f\\uac8c \\ub418\\uc5c8\\ub2e4. \\uc758\\uacac \\uc791\\uc131 \\uc2dc \\ub744\\uc5b4\\uc4f0\\uae30\\uc758 \\uc6d0\\uce59\\uc5d0 \\uc8fc\\uc758\\ud574 \\uc8fc\\uc2ed\\uc2dc\\uc624. \\uc544\\ub4e4\\uacfc \\ubcd1\\uc6d0\\uc5d0 \\uac00\\ubcf4\\ub2c8 \\ud558\\ud544 \\ub291\\ub9c9\\uc5fc\\uc774\\uc5c8\\ub2e4. \\uc560\\ub2ec\\ud508 \\uac1c\\ucc98\\ub7fc \\ud574 \\uc9c8 \\ub158\\uae4c\\uc9c0 \\uc5c4\\ub9c8\\ub97c \\uae30\\ub2e4\\ub838\\ub2e4. \\uc5b4\\uc81c\\ub294 \\ud5c8\\ub9ac\\uac00 \\uc544\\ud30c\\uc11c \\uac70\\ub3d9\\uc774 \\ubd88\\ud3b8\\ud588\\ub2e4. \\uc5d0\\ub204\\ub9ac \\uc5c6\\uc774 \\uac8c\\uc640 \\uace0\\ub4f1\\uc5b4\\ub97c \\ud30c\\ub294 \\uc0ac\\ub78c\\ub4e4\\uc744 \\ud5e4\\uc544\\ub824 \\ubcf4\\uc558\\ub2e4. \\uc624\\uc804\\uc5d0 \\ud638\\ub8e8\\ub77c\\uae30\\ub97c \\ucc59\\uaca8\\uc11c \\uace0\\uc0ac\\uc7a5\\uc73c\\ub85c \\uac14\\ub2e4. \\uc6b0\\ub9ac\\ub294 \\ud6c4\\uc2dd\\uc73c\\ub85c \\uacfc\\uc790\\ub97c \\uba39\\uc73c\\uba70 \\uad6c\\ub984\\uc744 \\ubcf4\\uc558\\ub2e4. \\uc73c\\ub984\\uc7a5\\uc744 \\ub193\\uc544\\uc11c \\uadf8\\ub97c \\ud750\\ub290\\ub07c\\uac8c \\ub9cc\\ub4e4\\uc5c8\\ub2e4. \\uc774\\ub3d9\\ud560 \\ub54c\\ub97c \\uae30\\ub2e4\\ub9ac\\uba70 \\ud788\\ud788\\ub355\\uac70\\ub838\\ub2e4. \\uc57c\\uc0dd\\ud654 \\ud5a5\\uae30\\ub97c \\ub9e1\\uc544\\ubcf4\\ub354\\ub2c8 \\uace0\\uac1c\\ub97c \\uc57d\\uac04 \\uac38\\uc6c3\\ub6b1\\uac70\\ub838\\ub2e4. \\uc598\\ub294 \\uc598\\uae30\\uafbc\\uc774\\ub77c \\uac54\\ubcf4\\ub2e4 \\uc598\\uae30\\ub97c \\uc798\\ud574. \\uc5ec\\ub7ec\\uac00\\uc9c0 \\ud604\\uc545\\uae30\\uac00 \\uacb0\\uc774 \\uacf1\\ub2e4. \\uc608\\uae08 \\uc0c1\\ud488\\uc758 \\ud61c\\ud0dd\\uc744 \\uacc4\\uc0b0\\ud574\\ubcf4\\uc558\\ub2e4. \\uc640\\uc804\\ub41c \\uacfc\\uac70\\uc758 \\uc77c\\uc774 \\ud654\\ub97c \\ubd88\\ub7ec\\uc654\\ub2e4. \\uc65c\\uac00\\ub9ac \\uad18\\uc538\\ud558\\uac8c\\ub3c4 \\ud683\\ub300\\ub97c \\ubd80\\ub7ec\\ub728\\ub838\\ub2e4. \\uc678\\uc0bc\\ucd0c\\uc740 \\uae08\\uc735\\uc5c5 \\ubd84\\uc57c\\uc758 \\ud68c\\uc2dd\\uc744 \\uad34\\ub85c\\uc6cc\\ud588\\ub2e4. \\uc694\\uc998 \\uad50\\uc0ac\\ub4e4 \\uc0ac\\uc774\\uc5d0\\uc11c \\ud6a8\\ub3c4 \\uad00\\uad11\\uc774 \\uc720\\ud589\\uc774\\ub2e4. \\uc6cc\\ub099 \\uad8c\\ub825\\uc744 \\uc88b\\uc544\\ud574\\uc11c \\ud6e8\\uc52c \\ub354 \\ud68c\\uc7a5 \\uc790\\ub9ac\\uc5d0 \\uc9d1\\ucc29\\ud588\\ub2e4. \\uc6e8\\ub529\\ub4dc\\ub808\\uc2a4\\uc5d0 \\ub300\\ud574 \\uada4\\ubcc0\\uc744 \\ub298\\uc5b4\\ub193\\uc73c\\uba70 \\ud6fc\\ubc29\\uc744 \\ub193\\uc558\\ub2e4. \\uc704\\ub300\\ud55c \\uadc0\\ub18d\\uc778\\uc744 \\ub9cc\\ub098\\uae30 \\uc704\\ud574\\uc11c \\ud718\\ud30c\\ub78c\\uc744 \\ubd88\\uba70 \\uc637 \\uc785\\uace0 \\ub098\\uac14\\ub2e4. \\uc720\\ub3c4\\ubd80\\uac00 \\ud734\\uac00\\uc9c0\\uc5d0\\uc11c \\uade4\\uc744 \\uc0ac \\uc654\\ub2e4. \\uc758\\uc0ac\\ub294 \\ucd95\\uc758\\uae08\\uacfc \\ud568\\uaed8 \\ud76c\\uc18c\\uc2dd\\uc744 \\uc804\\ud588\\ub2e4. \\uac00\\ud3c9\\uc758 \\uace0\\ucd94\\ubc2d\\uc5d0\\uc11c \\uae30\\uc801\\uc801\\uc73c\\ub85c \\uad6c\\ucd9c\\ub418\\uc5c8\\ub2e4. \\uae4c\\uce58\\ub294 \\uafb8\\ubb3c\\uac70\\ub9ac\\ub2e4\\uac00 \\uad6c\\uba4d \\uc0ac\\uc774\\uc5d0 \\ub07c\\uc5c8\\ub2e4. \\ub098\\ubb34\\uc5d0 \\ub110\\ub9b0 \\ub2c8\\ud2b8\\ub4e4\\uc774 \\ub204\\uad6c\\uc758 \\uac83\\uc778\\uc9c0 \\uad81\\uae08\\ud588\\ub2e4. \\ub2e4\\ub9ac \\uc544\\ub798 \\uc0ac\\ub294 \\ub450\\ub354\\uc9c0\\ub294 \\ub545\\uc744 \\ub514\\ub51c \\uc218 \\uc5c6\\uc5c8\\ub2e4. \\ub530\\uac00\\uc6b4 \\uc790\\uc678\\uc120\\uc5d0 \\ub69c\\uaed1\\uc774 \\uac80\\uc740 \\ube5b\\uc744 \\ub760\\uc5c8\\ub2e4. \\ub77c\\uba74\\uc744 \\uba39\\uc73c\\uba74\\uc11c \\uc19c\\uc774\\ubd88 \\uc704\\uc5d0\\uc11c \\ub8e8\\ub9c8\\ub2c8\\uc544 \\ucd95\\uad6c \\ub9ac\\uadf8\\ub97c \\ubcf4\\uc558\\ub2e4. \\ub9c8\\uce68\\ub0b4 \\ubb34\\uc11c\\uc6b4 \\ubbf8\\ub85c\\uc5d0\\uc11c \\ube60\\uc838\\ub098\\uc654\\ub2e4. \\ubc14\\ub2e4\\uc5d0\\uc11c \\ubd80\\ub4dc\\ub7ec\\uc6b4 \\ubc14\\ub78c\\uc744 \\ub9de\\uc73c\\uba70 \\ube44\\ube54\\ubc25\\uc744 \\uba39\\uc5c8\\ub2e4. \\ube60\\ub974\\uac8c \\ub6f0\\uc5c8\\ub2e4\\uac00 \\ubfcc\\ub9ac\\uc5d0 \\uac78\\ub824\\uc11c \\ubc1c\\ubaa9\\uc744 \\uc090\\uc5c8\\ub2e4. \\uc0ac\\ub2e4\\ub9ac \\uc704\\uc5d0\\uc11c \\uc218\\ub2e4\\ub97c \\ub5a8\\ub2e4 \\ubcf4\\ub2c8 \\uc2dc\\uac04\\uc774 \\ub2e4 \\ub418\\uc5c8\\ub2e4. \\uc2f8\\ub2e4\\uace0 \\ud558\\ub294 \\uc528\\uac10\\uc790\\ub85c \\uc8fd\\uc744 \\uc464\\ub2e4 \\ub9d0\\uc558\\ub2e4. \\uc790\\uc804\\uac70 \\uac00\\uac8c\\uc5d0\\uc11c \\uc8fc\\ubbfc \\ud68c\\uc758\\uac00 \\uc9c0\\uae08 \\uc9c4\\ud589 \\uc911\\uc774\\ub2e4. \\uc9dc\\uac8c \\ub053\\uc778 \\ucc0c\\uac1c\\ub97c \\ucb48\\uadf8\\ub824 \\uc549\\uc544\\uc11c \\uba39\\uc5c8\\ub2e4. \\ucc28\\uc120\\uc744 \\ub118\\ub098\\ub4e4\\uba70 \\uce58\\uc5f4\\ud558\\uac8c \\ucd94\\uaca9\\uc804\\uc744 \\ubc8c\\uc600\\ub2e4. \\uce74\\uba54\\ub77c\\uc640 \\ucfe0\\ud0a4\\ub97c \\ub4e4\\uace0 \\uc788\\ub294 \\ub0a8\\uc790\\uac00 \\uac00\\uc7a5 \\ud0a4\\uac00 \\ud06c\\ub2e4. \\ud0c0\\uc870\\ub294 \\ud22c\\uba85\\ud55c \\uc720\\ub9ac\\uc5d0\\uc11c \\uce7c\\ub0a0\\uacfc \\ud2f0\\ub04c\\uc744 \\ubc1c\\uacac\\ud588\\ub2e4. \\ud30c\\ub780 \\ub208\\uacfc \\ud558\\uc580 \\ud53c\\ubd80 \\ub355\\ubd84\\uc5d0 \\uccab\\uc778\\uc0c1\\uc774 \\ud478\\uadfc\\ud574\\ubcf4\\uc600\\ub2e4. \\ud558\\ub298\\uc774\\ub294 \\ud6c4\\ubbf8\\uc9c4 \\uace8\\ubaa9 \\ub05d\\uc5d0\\uc11c \\ud788\\uc8fd\\uac70\\ub838\\ub2e4.\"\n        ],\n        \"semantic_type\": \"\",\n        \"description\": \"\"\n      }\n    },\n    {\n      \"column\": \"Text_Length\",\n      \"properties\": {\n        \"dtype\": \"number\",\n        \"std\": 5964,\n        \"min\": 11,\n        \"max\": 65389,\n        \"num_unique_values\": 236,\n        \"samples\": [\n          241,\n          989,\n          388\n        ],\n        \"semantic_type\": \"\",\n        \"description\": \"\"\n      }\n    }\n  ]\n}"
            }
          },
          "metadata": {},
          "execution_count": 68
        }
      ]
    },
    {
      "cell_type": "code",
      "source": [
        "disorder.to_csv('disorder_eda.csv', index = False, encoding = 'utf-8-sig')"
      ],
      "metadata": {
        "id": "ex2giOpvijev"
      },
      "execution_count": null,
      "outputs": []
    }
  ]
}